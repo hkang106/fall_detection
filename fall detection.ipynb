{
 "cells": [
  {
   "cell_type": "markdown",
   "metadata": {},
   "source": [
    "# Import FallDetection module"
   ]
  },
  {
   "cell_type": "code",
   "execution_count": 1,
   "metadata": {},
   "outputs": [],
   "source": [
    "# 모듈로 만들어서 import해서 사용하기\n",
    "class FallDetection:\n",
    "    def __init__(self, buffer_size, fall_threshold, long_lie_threshold):\n",
    "        self.buffer_size = buffer_size\n",
    "        self.fall_threshold = fall_threshold\n",
    "        self.long_lie_threshold = long_lie_threshold\n",
    "        \n",
    "        self.buffer = []\n",
    "        self.long_lie_window = []\n",
    "        self.lying_cnt = 0\n",
    "        \n",
    "        \n",
    "        self.STANDING = 1\n",
    "        self.BENDING = 2\n",
    "        self.LYING = 3\n",
    "       \n",
    "\n",
    "    \n",
    "    def buffer_step(self, label):\n",
    "        #self.lying_cnt = 0\n",
    "        self.buffer.append(label)\n",
    "        \n",
    "        if len(self.buffer)>self.buffer_size:\n",
    "            self.buffer.pop(0)\n",
    "            \n",
    "\n",
    "    def detect_fall(self):\n",
    "        # st: standing timestamp\n",
    "        # lt: lying timestamp\n",
    "        for st, label in enumerate(self.buffer):\n",
    "            if label==self.STANDING:\n",
    "                for lt in range(st, st+self.fall_threshold):\n",
    "                    if lt>len(self.buffer)-1:\n",
    "                        break\n",
    "                    if self.buffer[lt] == self.LYING:\n",
    "                        self.st = st\n",
    "                        self.lt = lt\n",
    "                        return True\n",
    "        \n",
    "        return False\n",
    "    \n",
    "    \n",
    "    def detect_long_lie(self):\n",
    "        \n",
    "        self.lying_cnt = 0\n",
    "        self.long_lie_window = []\n",
    "        \n",
    "        #1. declaring sliding window\n",
    "        for t in range(self.lt, self.lt+self.long_lie_threshold):\n",
    "            if t>len(self.buffer)-1:\n",
    "                break\n",
    "            \n",
    "            self.long_lie_window.append(self.buffer[t])\n",
    "            \n",
    "            # initiate lying count\n",
    "            if self.buffer[t] == self.LYING:\n",
    "                self.lying_cnt +=1\n",
    "        \n",
    "        # alarm condition\n",
    "        if self.lying_cnt >= self.long_lie_threshold:\n",
    "            return True\n",
    "        \n",
    "        else:\n",
    "            return False\n",
    "        \n",
    "\n",
    "    \n",
    "    def generate_alarm(self):\n",
    "        print(\"[ALERT] fall-down has just occurred!\")\n",
    "        print(\"fall detected between \"+ str(self.st) + \" and \"+ str(self.lt) )\n",
    "        print(\"self.buffer: \", self.buffer)\n",
    "        print(\"--------\")\n",
    "        \n",
    "        "
   ]
  },
  {
   "cell_type": "markdown",
   "metadata": {},
   "source": [
    "# Class Instance"
   ]
  },
  {
   "cell_type": "markdown",
   "metadata": {},
   "source": [
    "## Assumption in this example\n",
    "- fall: 5 frames\n",
    "- long-lie: 7 frames\n",
    "\n",
    "## Heuristic in reality\n",
    "- fall: 0.33 seconds\n",
    "- long-lie: 30 seconds"
   ]
  },
  {
   "cell_type": "code",
   "execution_count": 2,
   "metadata": {},
   "outputs": [],
   "source": [
    "test = FallDetection(20, 5, 7)"
   ]
  },
  {
   "cell_type": "markdown",
   "metadata": {},
   "source": [
    "# Generate Stream"
   ]
  },
  {
   "cell_type": "code",
   "execution_count": 3,
   "metadata": {},
   "outputs": [],
   "source": [
    "import numpy as np"
   ]
  },
  {
   "cell_type": "code",
   "execution_count": 4,
   "metadata": {},
   "outputs": [],
   "source": [
    "stream = [np.random.choice([1,2,3]) for idx in range(10000)] "
   ]
  },
  {
   "cell_type": "markdown",
   "metadata": {},
   "source": [
    "# Detect Falldown"
   ]
  },
  {
   "cell_type": "code",
   "execution_count": 5,
   "metadata": {},
   "outputs": [
    {
     "name": "stdout",
     "output_type": "stream",
     "text": [
      "[ALERT] fall-down has just occurred!\n",
      "fall detected between 1 and 2\n",
      "self.buffer:  [3, 1, 3, 3, 3, 3, 3, 3, 3, 2, 3, 1, 1, 3, 2, 1, 1, 2, 3, 1]\n",
      "--------\n",
      "[ALERT] fall-down has just occurred!\n",
      "fall detected between 0 and 1\n",
      "self.buffer:  [1, 3, 3, 3, 3, 3, 3, 3, 2, 3, 1, 1, 3, 2, 1, 1, 2, 3, 1, 2]\n",
      "--------\n",
      "[ALERT] fall-down has just occurred!\n",
      "fall detected between 1 and 3\n",
      "self.buffer:  [3, 1, 1, 3, 3, 3, 3, 3, 3, 3, 3, 2, 1, 3, 1, 2, 2, 3, 2, 3]\n",
      "--------\n",
      "[ALERT] fall-down has just occurred!\n",
      "fall detected between 0 and 2\n",
      "self.buffer:  [1, 1, 3, 3, 3, 3, 3, 3, 3, 3, 2, 1, 3, 1, 2, 2, 3, 2, 3, 2]\n",
      "--------\n",
      "[ALERT] fall-down has just occurred!\n",
      "fall detected between 0 and 1\n",
      "self.buffer:  [1, 3, 3, 3, 3, 3, 3, 3, 3, 2, 1, 3, 1, 2, 2, 3, 2, 3, 2, 1]\n",
      "--------\n",
      "[ALERT] fall-down has just occurred!\n",
      "fall detected between 5 and 8\n",
      "self.buffer:  [3, 2, 2, 1, 2, 1, 1, 2, 3, 3, 3, 3, 3, 3, 3, 1, 3, 3, 3, 1]\n",
      "--------\n",
      "[ALERT] fall-down has just occurred!\n",
      "fall detected between 4 and 7\n",
      "self.buffer:  [2, 2, 1, 2, 1, 1, 2, 3, 3, 3, 3, 3, 3, 3, 1, 3, 3, 3, 1, 2]\n",
      "--------\n",
      "[ALERT] fall-down has just occurred!\n",
      "fall detected between 3 and 6\n",
      "self.buffer:  [2, 1, 2, 1, 1, 2, 3, 3, 3, 3, 3, 3, 3, 1, 3, 3, 3, 1, 2, 2]\n",
      "--------\n",
      "[ALERT] fall-down has just occurred!\n",
      "fall detected between 2 and 5\n",
      "self.buffer:  [1, 2, 1, 1, 2, 3, 3, 3, 3, 3, 3, 3, 1, 3, 3, 3, 1, 2, 2, 2]\n",
      "--------\n",
      "[ALERT] fall-down has just occurred!\n",
      "fall detected between 1 and 4\n",
      "self.buffer:  [2, 1, 1, 2, 3, 3, 3, 3, 3, 3, 3, 1, 3, 3, 3, 1, 2, 2, 2, 3]\n",
      "--------\n",
      "[ALERT] fall-down has just occurred!\n",
      "fall detected between 0 and 3\n",
      "self.buffer:  [1, 1, 2, 3, 3, 3, 3, 3, 3, 3, 1, 3, 3, 3, 1, 2, 2, 2, 3, 2]\n",
      "--------\n",
      "[ALERT] fall-down has just occurred!\n",
      "fall detected between 0 and 2\n",
      "self.buffer:  [1, 2, 3, 3, 3, 3, 3, 3, 3, 1, 3, 3, 3, 1, 2, 2, 2, 3, 2, 1]\n",
      "--------\n"
     ]
    }
   ],
   "source": [
    "for label in stream:\n",
    "    test.buffer_step(label)\n",
    "    #print(test.buffer)\n",
    "    if test.detect_fall():\n",
    "        if test.detect_long_lie():\n",
    "            test.generate_alarm()\n",
    "        "
   ]
  },
  {
   "cell_type": "code",
   "execution_count": null,
   "metadata": {},
   "outputs": [],
   "source": []
  },
  {
   "cell_type": "code",
   "execution_count": null,
   "metadata": {},
   "outputs": [],
   "source": []
  }
 ],
 "metadata": {
  "kernelspec": {
   "display_name": "Python 3",
   "language": "python",
   "name": "python3"
  },
  "language_info": {
   "codemirror_mode": {
    "name": "ipython",
    "version": 3
   },
   "file_extension": ".py",
   "mimetype": "text/x-python",
   "name": "python",
   "nbconvert_exporter": "python",
   "pygments_lexer": "ipython3",
   "version": "3.7.6"
  }
 },
 "nbformat": 4,
 "nbformat_minor": 4
}
