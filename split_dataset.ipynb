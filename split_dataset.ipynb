{
 "cells": [
  {
   "cell_type": "code",
   "execution_count": 1,
   "metadata": {},
   "outputs": [],
   "source": [
    "import os\n",
    "import tensorflow as tf\n",
    "import numpy as np\n",
    "from glob import glob\n",
    "from PIL import Image\n",
    "import matplotlib.pyplot as plt\n",
    "from xml.etree.ElementTree import parse\n",
    "import json\n",
    "import pandas as pd\n",
    "from tqdm.notebook import tqdm\n",
    "%matplotlib inline"
   ]
  },
  {
   "cell_type": "code",
   "execution_count": 2,
   "metadata": {},
   "outputs": [
    {
     "data": {
      "text/plain": [
       "['1', 'test', '3', '2', 'train', '4', '0']"
      ]
     },
     "execution_count": 2,
     "metadata": {},
     "output_type": "execute_result"
    }
   ],
   "source": [
    "os.listdir(\"200602_hanmi_dataset\")"
   ]
  },
  {
   "cell_type": "code",
   "execution_count": 3,
   "metadata": {},
   "outputs": [],
   "source": [
    "paths0 = glob(\"200602_hanmi_dataset/0/*.jpg\") \n",
    "paths1 = glob(\"200602_hanmi_dataset/1/*.jpg\")\n",
    "paths2 = glob(\"200602_hanmi_dataset/2/*.jpg\")\n",
    "paths3 = glob(\"200602_hanmi_dataset/3/*.jpg\")\n",
    "paths4 = glob(\"200602_hanmi_dataset/4/*.jpg\")"
   ]
  },
  {
   "cell_type": "code",
   "execution_count": 4,
   "metadata": {},
   "outputs": [
    {
     "name": "stdout",
     "output_type": "stream",
     "text": [
      "5952\n",
      "5973\n",
      "4996\n",
      "5952\n",
      "5952\n"
     ]
    }
   ],
   "source": [
    "print(len(paths0))\n",
    "print(len(paths1))\n",
    "print(len(paths2))\n",
    "print(len(paths3))\n",
    "print(len(paths4))"
   ]
  },
  {
   "cell_type": "code",
   "execution_count": 5,
   "metadata": {},
   "outputs": [],
   "source": [
    "import random"
   ]
  },
  {
   "cell_type": "code",
   "execution_count": 6,
   "metadata": {},
   "outputs": [],
   "source": [
    "random.seed(0)\n",
    "random.shuffle(paths0)\n",
    "random.shuffle(paths1)\n",
    "random.shuffle(paths2)\n",
    "random.shuffle(paths3)\n",
    "random.shuffle(paths4)"
   ]
  },
  {
   "cell_type": "code",
   "execution_count": 7,
   "metadata": {},
   "outputs": [],
   "source": [
    "test_0 = paths0[:700]\n",
    "test_1 = paths1[:700]\n",
    "test_2 = paths2[:700]\n",
    "test_3 = paths3[:700]\n",
    "test_4 = paths4[:700]"
   ]
  },
  {
   "cell_type": "code",
   "execution_count": 8,
   "metadata": {},
   "outputs": [],
   "source": [
    "train_0 = paths0[700:]\n",
    "train_1 = paths1[700:]\n",
    "train_2 = paths2[700:]\n",
    "train_3 = paths3[700:]\n",
    "train_4 = paths4[700:]"
   ]
  },
  {
   "cell_type": "code",
   "execution_count": 9,
   "metadata": {},
   "outputs": [
    {
     "name": "stdout",
     "output_type": "stream",
     "text": [
      "5252\n",
      "5273\n",
      "4296\n",
      "5252\n",
      "5252\n"
     ]
    }
   ],
   "source": [
    "print(len(train_0))\n",
    "print(len(train_1))\n",
    "print(len(train_2))\n",
    "print(len(train_3))\n",
    "print(len(train_4))"
   ]
  },
  {
   "cell_type": "code",
   "execution_count": 10,
   "metadata": {},
   "outputs": [
    {
     "name": "stdout",
     "output_type": "stream",
     "text": [
      "700\n",
      "700\n",
      "700\n",
      "700\n",
      "700\n"
     ]
    }
   ],
   "source": [
    "print(len(test_0))\n",
    "print(len(test_1))\n",
    "print(len(test_2))\n",
    "print(len(test_3))\n",
    "print(len(test_4))"
   ]
  },
  {
   "cell_type": "code",
   "execution_count": 11,
   "metadata": {},
   "outputs": [],
   "source": [
    "def get_filename(path):\n",
    "    return path.split(\"/\")[-1]"
   ]
  },
  {
   "cell_type": "code",
   "execution_count": 12,
   "metadata": {},
   "outputs": [],
   "source": [
    "for path in test_0:\n",
    "    file = get_filename(path)\n",
    "    save_path = \"200602_hanmi_dataset/test/0/\"+file\n",
    "    \n",
    "    img = Image.open(path)\n",
    "    img.save(save_path)"
   ]
  },
  {
   "cell_type": "code",
   "execution_count": 13,
   "metadata": {},
   "outputs": [],
   "source": [
    "for path in test_1:\n",
    "    file = get_filename(path)\n",
    "    save_path = \"200602_hanmi_dataset/test/1/\"+file\n",
    "    \n",
    "    img = Image.open(path)\n",
    "    img.save(save_path)"
   ]
  },
  {
   "cell_type": "code",
   "execution_count": 14,
   "metadata": {},
   "outputs": [],
   "source": [
    "for path in test_2:\n",
    "    file = get_filename(path)\n",
    "    save_path = \"200602_hanmi_dataset/test/2/\"+file\n",
    "    \n",
    "    img = Image.open(path)\n",
    "    img.save(save_path)"
   ]
  },
  {
   "cell_type": "code",
   "execution_count": 15,
   "metadata": {},
   "outputs": [],
   "source": [
    "for path in test_3:\n",
    "    file = get_filename(path)\n",
    "    save_path = \"200602_hanmi_dataset/test/3/\"+file\n",
    "    \n",
    "    img = Image.open(path)\n",
    "    img.save(save_path)"
   ]
  },
  {
   "cell_type": "code",
   "execution_count": 16,
   "metadata": {},
   "outputs": [],
   "source": [
    "for path in test_4:\n",
    "    file = get_filename(path)\n",
    "    save_path = \"200602_hanmi_dataset/test/4/\"+file\n",
    "    \n",
    "    img = Image.open(path)\n",
    "    img.save(save_path)"
   ]
  },
  {
   "cell_type": "code",
   "execution_count": 17,
   "metadata": {},
   "outputs": [],
   "source": [
    "for path in train_0:\n",
    "    file = get_filename(path)\n",
    "    save_path = \"200602_hanmi_dataset/train/0/\"+file\n",
    "    \n",
    "    img = Image.open(path)\n",
    "    img.save(save_path)"
   ]
  },
  {
   "cell_type": "code",
   "execution_count": 18,
   "metadata": {},
   "outputs": [],
   "source": [
    "for path in train_1:\n",
    "    file = get_filename(path)\n",
    "    save_path = \"200602_hanmi_dataset/train/1/\"+file\n",
    "    \n",
    "    img = Image.open(path)\n",
    "    img.save(save_path)"
   ]
  },
  {
   "cell_type": "code",
   "execution_count": 19,
   "metadata": {},
   "outputs": [],
   "source": [
    "for path in train_2:\n",
    "    file = get_filename(path)\n",
    "    save_path = \"200602_hanmi_dataset/train/2/\"+file\n",
    "    \n",
    "    img = Image.open(path)\n",
    "    img.save(save_path)"
   ]
  },
  {
   "cell_type": "code",
   "execution_count": 20,
   "metadata": {},
   "outputs": [],
   "source": [
    "for path in train_3:\n",
    "    file = get_filename(path)\n",
    "    save_path = \"200602_hanmi_dataset/train/3/\"+file\n",
    "    \n",
    "    img = Image.open(path)\n",
    "    img.save(save_path)"
   ]
  },
  {
   "cell_type": "code",
   "execution_count": 21,
   "metadata": {},
   "outputs": [],
   "source": [
    "for path in train_4:\n",
    "    file = get_filename(path)\n",
    "    save_path = \"200602_hanmi_dataset/train/4/\"+file\n",
    "    \n",
    "    img = Image.open(path)\n",
    "    img.save(save_path)"
   ]
  }
 ],
 "metadata": {
  "kernelspec": {
   "display_name": "tf2",
   "language": "python",
   "name": "tf2"
  },
  "language_info": {
   "codemirror_mode": {
    "name": "ipython",
    "version": 3
   },
   "file_extension": ".py",
   "mimetype": "text/x-python",
   "name": "python",
   "nbconvert_exporter": "python",
   "pygments_lexer": "ipython3",
   "version": "3.7.7"
  }
 },
 "nbformat": 4,
 "nbformat_minor": 4
}
