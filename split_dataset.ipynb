{
 "cells": [
  {
   "cell_type": "code",
   "execution_count": 1,
   "metadata": {},
   "outputs": [],
   "source": [
    "import os\n",
    "import tensorflow as tf\n",
    "import numpy as np\n",
    "from glob import glob\n",
    "from PIL import Image\n",
    "import matplotlib.pyplot as plt\n",
    "from xml.etree.ElementTree import parse\n",
    "import json\n",
    "import pandas as pd\n",
    "from tqdm.notebook import tqdm\n",
    "%matplotlib inline"
   ]
  },
  {
   "cell_type": "code",
   "execution_count": 2,
   "metadata": {},
   "outputs": [
    {
     "data": {
      "text/plain": [
       "['1', 'test', '2', 'train', '0']"
      ]
     },
     "execution_count": 2,
     "metadata": {},
     "output_type": "execute_result"
    }
   ],
   "source": [
    "os.listdir(\"dataset/200618_dataset\")"
   ]
  },
  {
   "cell_type": "code",
   "execution_count": 3,
   "metadata": {},
   "outputs": [],
   "source": [
    "paths0 = glob(\"dataset/200618_dataset/0/*.jpg\") \n",
    "paths1 = glob(\"dataset/200618_dataset/1/*.jpg\")\n",
    "paths2 = glob(\"dataset/200618_dataset/2/*.jpg\")"
   ]
  },
  {
   "cell_type": "code",
   "execution_count": 4,
   "metadata": {},
   "outputs": [
    {
     "name": "stdout",
     "output_type": "stream",
     "text": [
      "19921\n",
      "11404\n",
      "22221\n"
     ]
    }
   ],
   "source": [
    "print(len(paths0))\n",
    "print(len(paths1))\n",
    "print(len(paths2))"
   ]
  },
  {
   "cell_type": "code",
   "execution_count": 5,
   "metadata": {},
   "outputs": [],
   "source": [
    "import random"
   ]
  },
  {
   "cell_type": "code",
   "execution_count": 6,
   "metadata": {},
   "outputs": [],
   "source": [
    "random.seed(0)\n",
    "random.shuffle(paths0)\n",
    "random.shuffle(paths1)\n",
    "random.shuffle(paths2)"
   ]
  },
  {
   "cell_type": "code",
   "execution_count": 7,
   "metadata": {},
   "outputs": [],
   "source": [
    "test_0 = paths0[:3000]\n",
    "test_1 = paths1[:2000]\n",
    "test_2 = paths2[:3000]"
   ]
  },
  {
   "cell_type": "code",
   "execution_count": 8,
   "metadata": {},
   "outputs": [],
   "source": [
    "train_0 = paths0[3000:]\n",
    "train_1 = paths1[2000:]\n",
    "train_2 = paths2[3000:]"
   ]
  },
  {
   "cell_type": "code",
   "execution_count": 9,
   "metadata": {},
   "outputs": [
    {
     "name": "stdout",
     "output_type": "stream",
     "text": [
      "16921\n",
      "9404\n",
      "19221\n"
     ]
    }
   ],
   "source": [
    "print(len(train_0))\n",
    "print(len(train_1))\n",
    "print(len(train_2))"
   ]
  },
  {
   "cell_type": "code",
   "execution_count": 10,
   "metadata": {},
   "outputs": [
    {
     "name": "stdout",
     "output_type": "stream",
     "text": [
      "3000\n",
      "2000\n",
      "3000\n"
     ]
    }
   ],
   "source": [
    "print(len(test_0))\n",
    "print(len(test_1))\n",
    "print(len(test_2))"
   ]
  },
  {
   "cell_type": "code",
   "execution_count": 11,
   "metadata": {},
   "outputs": [],
   "source": [
    "def get_filename(path):\n",
    "    return path.split(\"/\")[-1]"
   ]
  },
  {
   "cell_type": "code",
   "execution_count": 12,
   "metadata": {},
   "outputs": [],
   "source": [
    "for path in test_0:\n",
    "    file = get_filename(path)\n",
    "    save_path = \"dataset/200618_dataset/test/0/\"+file\n",
    "    \n",
    "    img = Image.open(path)\n",
    "    img.save(save_path)"
   ]
  },
  {
   "cell_type": "code",
   "execution_count": 13,
   "metadata": {},
   "outputs": [],
   "source": [
    "for path in test_1:\n",
    "    file = get_filename(path)\n",
    "    save_path = \"dataset/200618_dataset/test/1/\"+file\n",
    "    \n",
    "    img = Image.open(path)\n",
    "    img.save(save_path)"
   ]
  },
  {
   "cell_type": "code",
   "execution_count": 14,
   "metadata": {},
   "outputs": [],
   "source": [
    "for path in test_2:\n",
    "    file = get_filename(path)\n",
    "    save_path = \"dataset/200618_dataset/test/2/\"+file\n",
    "    \n",
    "    img = Image.open(path)\n",
    "    img.save(save_path)"
   ]
  },
  {
   "cell_type": "code",
   "execution_count": 15,
   "metadata": {},
   "outputs": [],
   "source": [
    "for path in train_0:\n",
    "    file = get_filename(path)\n",
    "    save_path = \"dataset/200618_dataset/train/0/\"+file\n",
    "    \n",
    "    img = Image.open(path)\n",
    "    img.save(save_path)"
   ]
  },
  {
   "cell_type": "code",
   "execution_count": 16,
   "metadata": {},
   "outputs": [],
   "source": [
    "for path in train_1:\n",
    "    file = get_filename(path)\n",
    "    save_path = \"dataset/200618_dataset/train/1/\"+file\n",
    "    \n",
    "    img = Image.open(path)\n",
    "    img.save(save_path)"
   ]
  },
  {
   "cell_type": "code",
   "execution_count": 17,
   "metadata": {},
   "outputs": [],
   "source": [
    "for path in train_2:\n",
    "    file = get_filename(path)\n",
    "    save_path = \"dataset/200618_dataset/train/2/\"+file\n",
    "    \n",
    "    img = Image.open(path)\n",
    "    img.save(save_path)"
   ]
  }
 ],
 "metadata": {
  "kernelspec": {
   "display_name": "tf2",
   "language": "python",
   "name": "tf2"
  },
  "language_info": {
   "codemirror_mode": {
    "name": "ipython",
    "version": 3
   },
   "file_extension": ".py",
   "mimetype": "text/x-python",
   "name": "python",
   "nbconvert_exporter": "python",
   "pygments_lexer": "ipython3",
   "version": "3.7.7"
  }
 },
 "nbformat": 4,
 "nbformat_minor": 4
}
