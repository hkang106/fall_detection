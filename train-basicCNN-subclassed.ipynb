{
 "cells": [
  {
   "cell_type": "code",
   "execution_count": 1,
   "metadata": {},
   "outputs": [],
   "source": [
    "import tensorflow as tf\n",
    "from tensorflow.keras.preprocessing.image import ImageDataGenerator\n",
    "from tensorflow.keras import layers\n",
    "from tensorflow.keras.callbacks import ModelCheckpoint, EarlyStopping\n",
    "from tensorflow.keras.utils import to_categorical\n",
    "from tensorflow.keras.datasets import mnist"
   ]
  },
  {
   "cell_type": "code",
   "execution_count": 2,
   "metadata": {},
   "outputs": [],
   "source": [
    "import os \n",
    "from glob import glob\n",
    "import random\n",
    "import numpy as np"
   ]
  },
  {
   "cell_type": "code",
   "execution_count": 3,
   "metadata": {},
   "outputs": [
    {
     "data": {
      "text/plain": [
       "['1', '2', '.ipynb_checkpoints', '0']"
      ]
     },
     "execution_count": 3,
     "metadata": {},
     "output_type": "execute_result"
    }
   ],
   "source": [
    "os.listdir(\"cropped_dataset/train\")"
   ]
  },
  {
   "cell_type": "code",
   "execution_count": 4,
   "metadata": {},
   "outputs": [],
   "source": [
    "train_dir = \"cropped_dataset/train\" \n",
    "test_dir = \"cropped_dataset/test\""
   ]
  },
  {
   "cell_type": "markdown",
   "metadata": {},
   "source": [
    "# fit 데이터셋 만들기"
   ]
  },
  {
   "cell_type": "code",
   "execution_count": 5,
   "metadata": {},
   "outputs": [],
   "source": [
    "train_path = glob(train_dir+\"/*/*.jpg\")\n",
    "test_path = glob(test_dir+\"/*/*.jpg\")"
   ]
  },
  {
   "cell_type": "code",
   "execution_count": 6,
   "metadata": {},
   "outputs": [
    {
     "name": "stdout",
     "output_type": "stream",
     "text": [
      "cropped_dataset/train/1/aug_3_0_4612.jpg\n",
      "cropped_dataset/test/0/aug_1_2_0_3803.jpg\n"
     ]
    }
   ],
   "source": [
    "\n",
    "random.seed(0)\n",
    "random.shuffle(train_path)\n",
    "random.shuffle(test_path)\n",
    "print(train_path[0])\n",
    "print(test_path[0])"
   ]
  },
  {
   "cell_type": "code",
   "execution_count": 7,
   "metadata": {},
   "outputs": [],
   "source": [
    "def get_label(filepath):\n",
    "    return filepath.split(\"/\")[-2]"
   ]
  },
  {
   "cell_type": "code",
   "execution_count": 8,
   "metadata": {},
   "outputs": [],
   "source": [
    "train_x = []\n",
    "for file in train_path:\n",
    "    gfile = tf.io.read_file(file)\n",
    "    image = tf.io.decode_image(gfile)\n",
    "    image = tf.image.resize(image, [50, 50])\n",
    "    image = tf.image.rgb_to_grayscale(image)\n",
    "    train_x.append(np.asarray(image))"
   ]
  },
  {
   "cell_type": "code",
   "execution_count": 9,
   "metadata": {},
   "outputs": [],
   "source": [
    "train_y = [get_label(file) for file in train_path]"
   ]
  },
  {
   "cell_type": "code",
   "execution_count": 10,
   "metadata": {},
   "outputs": [],
   "source": [
    "test_x = []\n",
    "for file in test_path:\n",
    "    gfile = tf.io.read_file(file)\n",
    "    image = tf.io.decode_image(gfile)\n",
    "    image = tf.image.resize(image, [50, 50])\n",
    "    image = tf.image.rgb_to_grayscale(image)\n",
    "    test_x.append(np.asarray(image))"
   ]
  },
  {
   "cell_type": "code",
   "execution_count": 11,
   "metadata": {},
   "outputs": [],
   "source": [
    "test_y = [get_label(file) for file in test_path]"
   ]
  },
  {
   "cell_type": "code",
   "execution_count": 12,
   "metadata": {},
   "outputs": [
    {
     "data": {
      "text/plain": [
       "(50, 50, 1)"
      ]
     },
     "execution_count": 12,
     "metadata": {},
     "output_type": "execute_result"
    }
   ],
   "source": [
    "train_x[10].shape"
   ]
  },
  {
   "cell_type": "code",
   "execution_count": 13,
   "metadata": {},
   "outputs": [
    {
     "name": "stdout",
     "output_type": "stream",
     "text": [
      "<class 'numpy.ndarray'>\n"
     ]
    }
   ],
   "source": [
    "type(train_x[0].shape)\n",
    "print(type(np.array(train_x[0])))"
   ]
  },
  {
   "cell_type": "code",
   "execution_count": 14,
   "metadata": {},
   "outputs": [
    {
     "data": {
      "text/plain": [
       "13395"
      ]
     },
     "execution_count": 14,
     "metadata": {},
     "output_type": "execute_result"
    }
   ],
   "source": [
    "len(train_y)"
   ]
  },
  {
   "cell_type": "code",
   "execution_count": 15,
   "metadata": {},
   "outputs": [
    {
     "data": {
      "text/plain": [
       "(array(['0', '1', '2'], dtype='<U1'), array([4478, 4419, 4498]))"
      ]
     },
     "execution_count": 15,
     "metadata": {},
     "output_type": "execute_result"
    }
   ],
   "source": [
    "np.unique(train_y, return_counts=True)"
   ]
  },
  {
   "cell_type": "code",
   "execution_count": 16,
   "metadata": {},
   "outputs": [
    {
     "data": {
      "text/plain": [
       "(array(['0', '1', '2'], dtype='<U1'), array([496, 489, 498]))"
      ]
     },
     "execution_count": 16,
     "metadata": {},
     "output_type": "execute_result"
    }
   ],
   "source": [
    "np.unique(test_y, return_counts=True)"
   ]
  },
  {
   "cell_type": "code",
   "execution_count": 17,
   "metadata": {},
   "outputs": [],
   "source": [
    "train_x = np.asarray(train_x)\n",
    "train_y = np.asarray(train_y)\n",
    "test_x = np.asarray(test_x)\n",
    "test_y = np.asarray(test_y)"
   ]
  },
  {
   "cell_type": "code",
   "execution_count": 18,
   "metadata": {},
   "outputs": [],
   "source": [
    "train_x = train_x/255\n",
    "test_x = test_x/255"
   ]
  },
  {
   "cell_type": "code",
   "execution_count": 19,
   "metadata": {},
   "outputs": [
    {
     "data": {
      "text/plain": [
       "(13395, 50, 50, 1)"
      ]
     },
     "execution_count": 19,
     "metadata": {},
     "output_type": "execute_result"
    }
   ],
   "source": [
    "train_x.shape"
   ]
  },
  {
   "cell_type": "code",
   "execution_count": 20,
   "metadata": {},
   "outputs": [
    {
     "data": {
      "text/plain": [
       "(1483, 50, 50, 1)"
      ]
     },
     "execution_count": 20,
     "metadata": {},
     "output_type": "execute_result"
    }
   ],
   "source": [
    "test_x.shape"
   ]
  },
  {
   "cell_type": "code",
   "execution_count": 21,
   "metadata": {},
   "outputs": [],
   "source": [
    "train_y = train_y.astype(\"int32\")\n",
    "test_y = test_y.astype(\"int32\")"
   ]
  },
  {
   "cell_type": "code",
   "execution_count": 22,
   "metadata": {},
   "outputs": [],
   "source": [
    "#train_y = to_categorical(train_y, 3)\n",
    "#test_y = to_categorical(test_y, 3)"
   ]
  },
  {
   "cell_type": "markdown",
   "metadata": {},
   "source": [
    "# 모델 정의"
   ]
  },
  {
   "cell_type": "code",
   "execution_count": 23,
   "metadata": {},
   "outputs": [],
   "source": [
    "input_shape = (50,50,1)\n",
    "batch_size = 32\n",
    "\n",
    "learning_rate = 0.0001\n",
    "# 0.01로 학습했는데 학습 안됨.\n",
    "\n",
    "dropout_rate = 0.4\n",
    "num_classes=3\n",
    "num_epochs=100"
   ]
  },
  {
   "cell_type": "code",
   "execution_count": 24,
   "metadata": {},
   "outputs": [],
   "source": [
    "early_stopping = EarlyStopping(\n",
    "    monitor=\"val_loss\",\n",
    "    patience=10\n",
    ")"
   ]
  },
  {
   "cell_type": "code",
   "execution_count": 25,
   "metadata": {},
   "outputs": [],
   "source": [
    "class ConvNet(tf.keras.Model):\n",
    "    def __init__(self):\n",
    "        super(ConvNet, self).__init__()\n",
    "        conv2d = tf.keras.layers.Conv2D\n",
    "        maxpool = tf.keras.layers.MaxPool2D\n",
    "        self.sequence = list()\n",
    "        self.sequence.append(conv2d(16, (3,3), padding=\"same\", activation='relu' ))\n",
    "        self.sequence.append(conv2d(16, (3,3), padding=\"same\", activation='relu' ))\n",
    "        self.sequence.append(maxpool(2,2))\n",
    "        self.sequence.append(conv2d(32, (3,3), padding=\"same\", activation='relu' ))\n",
    "        self.sequence.append(conv2d(32, (3,3), padding=\"same\", activation='relu' ))\n",
    "        self.sequence.append(maxpool(2,2))\n",
    "        self.sequence.append(conv2d(64, (3,3), padding=\"same\", activation='relu' ))\n",
    "        self.sequence.append(conv2d(64, (3,3), padding=\"same\", activation='relu' ))\n",
    "        self.sequence.append(tf.keras.layers.Flatten())\n",
    "        self.sequence.append(tf.keras.layers.Dense(128, activation=\"relu\"))\n",
    "        self.sequence.append(tf.keras.layers.Dense(3, activation=\"softmax\"))\n",
    "        \n",
    "        \n",
    "        \n",
    "    def call(self, x, training=False, mask=None):\n",
    "        for layer in self.sequence:\n",
    "            x = layer(x)\n",
    "        \n",
    "        return x"
   ]
  },
  {
   "cell_type": "code",
   "execution_count": 26,
   "metadata": {},
   "outputs": [],
   "source": [
    "model = ConvNet()"
   ]
  },
  {
   "cell_type": "code",
   "execution_count": 27,
   "metadata": {},
   "outputs": [],
   "source": [
    "model.compile(\n",
    "    optimizer=tf.keras.optimizers.Adam(learning_rate),\n",
    "    loss=\"sparse_categorical_crossentropy\",\n",
    "    metrics=[\"accuracy\"]\n",
    ")"
   ]
  },
  {
   "cell_type": "code",
   "execution_count": 28,
   "metadata": {},
   "outputs": [
    {
     "name": "stdout",
     "output_type": "stream",
     "text": [
      "Train on 13395 samples, validate on 1483 samples\n",
      "Epoch 1/100\n",
      "13395/13395 [==============================] - 24s 2ms/sample - loss: 0.5902 - accuracy: 0.7403 - val_loss: 0.3760 - val_accuracy: 0.8402\n",
      "Epoch 2/100\n",
      "13395/13395 [==============================] - 18s 1ms/sample - loss: 0.3083 - accuracy: 0.8797 - val_loss: 0.3396 - val_accuracy: 0.8577\n",
      "Epoch 3/100\n",
      "13395/13395 [==============================] - 16s 1ms/sample - loss: 0.2532 - accuracy: 0.9031 - val_loss: 0.2570 - val_accuracy: 0.8908\n",
      "Epoch 4/100\n",
      "13395/13395 [==============================] - 18s 1ms/sample - loss: 0.2055 - accuracy: 0.9207 - val_loss: 0.2235 - val_accuracy: 0.9076\n",
      "Epoch 5/100\n",
      "13395/13395 [==============================] - 26s 2ms/sample - loss: 0.1698 - accuracy: 0.9347 - val_loss: 0.2084 - val_accuracy: 0.9177\n",
      "Epoch 6/100\n",
      "13395/13395 [==============================] - 20s 2ms/sample - loss: 0.1427 - accuracy: 0.9461 - val_loss: 0.1668 - val_accuracy: 0.9319\n",
      "Epoch 7/100\n",
      "13395/13395 [==============================] - 17s 1ms/sample - loss: 0.1124 - accuracy: 0.9585 - val_loss: 0.1626 - val_accuracy: 0.9413\n",
      "Epoch 8/100\n",
      "13395/13395 [==============================] - 17s 1ms/sample - loss: 0.0945 - accuracy: 0.9654 - val_loss: 0.1308 - val_accuracy: 0.9528\n",
      "Epoch 9/100\n",
      "13395/13395 [==============================] - 23s 2ms/sample - loss: 0.0755 - accuracy: 0.9739 - val_loss: 0.1373 - val_accuracy: 0.9494\n",
      "Epoch 10/100\n",
      "13395/13395 [==============================] - 23s 2ms/sample - loss: 0.0639 - accuracy: 0.9766 - val_loss: 0.1022 - val_accuracy: 0.9649\n",
      "Epoch 11/100\n",
      "13395/13395 [==============================] - 22s 2ms/sample - loss: 0.0533 - accuracy: 0.9810 - val_loss: 0.1220 - val_accuracy: 0.9568\n",
      "Epoch 12/100\n",
      "13395/13395 [==============================] - 27s 2ms/sample - loss: 0.0401 - accuracy: 0.9849 - val_loss: 0.1152 - val_accuracy: 0.9656\n",
      "Epoch 13/100\n",
      "13395/13395 [==============================] - 20s 1ms/sample - loss: 0.0308 - accuracy: 0.9910 - val_loss: 0.1106 - val_accuracy: 0.9636\n",
      "Epoch 14/100\n",
      "13395/13395 [==============================] - 25s 2ms/sample - loss: 0.0234 - accuracy: 0.9920 - val_loss: 0.1366 - val_accuracy: 0.9535\n",
      "Epoch 15/100\n",
      "13395/13395 [==============================] - 22s 2ms/sample - loss: 0.0207 - accuracy: 0.9932 - val_loss: 0.1232 - val_accuracy: 0.9663\n",
      "Epoch 16/100\n",
      "13395/13395 [==============================] - 25s 2ms/sample - loss: 0.0243 - accuracy: 0.9922 - val_loss: 0.0888 - val_accuracy: 0.9663\n",
      "Epoch 17/100\n",
      "13395/13395 [==============================] - 27s 2ms/sample - loss: 0.0168 - accuracy: 0.9952 - val_loss: 0.1459 - val_accuracy: 0.9636\n",
      "Epoch 18/100\n",
      "13395/13395 [==============================] - 22s 2ms/sample - loss: 0.0132 - accuracy: 0.9957 - val_loss: 0.1137 - val_accuracy: 0.9670\n",
      "Epoch 19/100\n",
      "13395/13395 [==============================] - 21s 2ms/sample - loss: 0.0105 - accuracy: 0.9972 - val_loss: 0.1433 - val_accuracy: 0.9649\n",
      "Epoch 20/100\n",
      "13395/13395 [==============================] - 21s 2ms/sample - loss: 0.0147 - accuracy: 0.9945 - val_loss: 0.1429 - val_accuracy: 0.9683\n",
      "Epoch 21/100\n",
      "13395/13395 [==============================] - 23s 2ms/sample - loss: 0.0110 - accuracy: 0.9965 - val_loss: 0.1875 - val_accuracy: 0.9535\n",
      "Epoch 22/100\n",
      "13395/13395 [==============================] - 23s 2ms/sample - loss: 0.0066 - accuracy: 0.9981 - val_loss: 0.1187 - val_accuracy: 0.9676\n",
      "Epoch 23/100\n",
      "13395/13395 [==============================] - 18s 1ms/sample - loss: 0.0117 - accuracy: 0.9957 - val_loss: 0.1420 - val_accuracy: 0.9656\n",
      "Epoch 24/100\n",
      "13395/13395 [==============================] - 22s 2ms/sample - loss: 0.0109 - accuracy: 0.9963 - val_loss: 0.1022 - val_accuracy: 0.9737\n",
      "Epoch 25/100\n",
      "13395/13395 [==============================] - 25s 2ms/sample - loss: 7.7409e-04 - accuracy: 0.9999 - val_loss: 0.1049 - val_accuracy: 0.9737\n",
      "Epoch 26/100\n",
      "13395/13395 [==============================] - 23s 2ms/sample - loss: 2.8584e-04 - accuracy: 1.0000 - val_loss: 0.1099 - val_accuracy: 0.9737\n"
     ]
    }
   ],
   "source": [
    "hist = model.fit(\n",
    "    train_x, train_y,\n",
    "    validation_data=(test_x, test_y),\n",
    "    epochs=num_epochs,\n",
    "    batch_size=batch_size,\n",
    "    callbacks=[early_stopping]\n",
    ")"
   ]
  },
  {
   "cell_type": "markdown",
   "metadata": {},
   "source": [
    "# 학습 과정 그래프"
   ]
  },
  {
   "cell_type": "code",
   "execution_count": 29,
   "metadata": {},
   "outputs": [
    {
     "data": {
      "image/png": "[encoded data removed]",
      "text/plain": [
       "<Figure size 432x288 with 2 Axes>"
      ]
     },
     "metadata": {
      "needs_background": "light"
     },
     "output_type": "display_data"
    }
   ],
   "source": [
    "%matplotlib inline\n",
    "import matplotlib.pyplot as plt\n",
    "\n",
    "fig, loss_ax = plt.subplots()\n",
    "\n",
    "acc_ax = loss_ax.twinx()\n",
    "\n",
    "loss_ax.plot(hist.history['loss'], 'y', label='train loss')\n",
    "loss_ax.plot(hist.history['val_loss'], 'r', label='val loss')\n",
    "\n",
    "acc_ax.plot(hist.history['accuracy'], 'b', label='train acc')\n",
    "acc_ax.plot(hist.history['val_accuracy'], 'g', label='val acc')\n",
    "\n",
    "loss_ax.set_xlabel('epoch')\n",
    "loss_ax.set_ylabel('loss')\n",
    "acc_ax.set_ylabel('accuray')\n",
    "\n",
    "loss_ax.legend(loc='upper left')\n",
    "acc_ax.legend(loc='lower left')\n",
    "\n",
    "plt.show()"
   ]
  },
  {
   "cell_type": "markdown",
   "metadata": {},
   "source": [
    "# 모델 저장"
   ]
  },
  {
   "cell_type": "code",
   "execution_count": 31,
   "metadata": {},
   "outputs": [
    {
     "name": "stdout",
     "output_type": "stream",
     "text": [
      "WARNING:tensorflow:From /home/hyungook/anaconda3/envs/tf2/lib/python3.7/site-packages/tensorflow_core/python/ops/resource_variable_ops.py:1786: calling BaseResourceVariable.__init__ (from tensorflow.python.ops.resource_variable_ops) with constraint is deprecated and will be removed in a future version.\n",
      "Instructions for updating:\n",
      "If using Keras pass *_constraint arguments to layers.\n",
      "INFO:tensorflow:Assets written to: model/basic-cnn-subclassed/assets\n"
     ]
    }
   ],
   "source": [
    "model.save(\"model/basic-cnn-subclassed\", include_optimizer=True, save_format='tf')\n",
    "#model.save('my_model.h5')"
   ]
  },
  {
   "cell_type": "code",
   "execution_count": null,
   "metadata": {},
   "outputs": [],
   "source": []
  },
  {
   "cell_type": "code",
   "execution_count": null,
   "metadata": {},
   "outputs": [],
   "source": []
  },
  {
   "cell_type": "code",
   "execution_count": null,
   "metadata": {},
   "outputs": [],
   "source": []
  }
 ],
 "metadata": {
  "kernelspec": {
   "display_name": "tf2",
   "language": "python",
   "name": "tf2"
  },
  "language_info": {
   "codemirror_mode": {
    "name": "ipython",
    "version": 3
   },
   "file_extension": ".py",
   "mimetype": "text/x-python",
   "name": "python",
   "nbconvert_exporter": "python",
   "pygments_lexer": "ipython3",
   "version": "3.7.7"
  }
 },
 "nbformat": 4,
 "nbformat_minor": 4
}
