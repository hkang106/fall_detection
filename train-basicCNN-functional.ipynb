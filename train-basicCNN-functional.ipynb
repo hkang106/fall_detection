{
 "cells": [
  {
   "cell_type": "code",
   "execution_count": 1,
   "metadata": {},
   "outputs": [],
   "source": [
    "import tensorflow as tf\n",
    "from tensorflow.keras.preprocessing.image import ImageDataGenerator\n",
    "from tensorflow.keras import layers\n",
    "from tensorflow.keras.callbacks import ModelCheckpoint, EarlyStopping\n",
    "from tensorflow.keras.utils import to_categorical\n",
    "from tensorflow.keras.datasets import mnist"
   ]
  },
  {
   "cell_type": "code",
   "execution_count": 2,
   "metadata": {},
   "outputs": [],
   "source": [
    "import os \n",
    "from glob import glob\n",
    "import random\n",
    "import numpy as np"
   ]
  },
  {
   "cell_type": "code",
   "execution_count": 3,
   "metadata": {},
   "outputs": [
    {
     "data": {
      "text/plain": [
       "['1', '2', '.ipynb_checkpoints', '0']"
      ]
     },
     "execution_count": 3,
     "metadata": {},
     "output_type": "execute_result"
    }
   ],
   "source": [
    "os.listdir(\"dataset/train\")"
   ]
  },
  {
   "cell_type": "code",
   "execution_count": 4,
   "metadata": {},
   "outputs": [],
   "source": [
    "train_dir = \"dataset/train\" \n",
    "test_dir = \"dataset/test\""
   ]
  },
  {
   "cell_type": "markdown",
   "metadata": {},
   "source": [
    "# fit 데이터셋 만들기"
   ]
  },
  {
   "cell_type": "code",
   "execution_count": 5,
   "metadata": {},
   "outputs": [],
   "source": [
    "train_path = glob(train_dir+\"/*/*.jpg\")\n",
    "test_path = glob(test_dir+\"/*/*.jpg\")"
   ]
  },
  {
   "cell_type": "code",
   "execution_count": 6,
   "metadata": {},
   "outputs": [
    {
     "name": "stdout",
     "output_type": "stream",
     "text": [
      "dataset/train/1/400488.jpg\n",
      "dataset/test/2/aug_2_1_0_9894.jpg\n"
     ]
    }
   ],
   "source": [
    "\n",
    "random.seed(0)\n",
    "random.shuffle(train_path)\n",
    "random.shuffle(test_path)\n",
    "print(train_path[0])\n",
    "print(test_path[0])"
   ]
  },
  {
   "cell_type": "code",
   "execution_count": 7,
   "metadata": {},
   "outputs": [],
   "source": [
    "def get_label(filepath):\n",
    "    return filepath.split(\"/\")[-2]"
   ]
  },
  {
   "cell_type": "code",
   "execution_count": 8,
   "metadata": {},
   "outputs": [],
   "source": [
    "train_x = []\n",
    "for file in train_path:\n",
    "    gfile = tf.io.read_file(file)\n",
    "    image = tf.io.decode_image(gfile)\n",
    "    image = tf.image.resize(image, [50, 50])\n",
    "    image = tf.image.rgb_to_grayscale(image)\n",
    "    train_x.append(np.asarray(image))"
   ]
  },
  {
   "cell_type": "code",
   "execution_count": 9,
   "metadata": {},
   "outputs": [],
   "source": [
    "train_y = [get_label(file) for file in train_path]"
   ]
  },
  {
   "cell_type": "code",
   "execution_count": 10,
   "metadata": {},
   "outputs": [],
   "source": [
    "test_x = []\n",
    "for file in test_path:\n",
    "    gfile = tf.io.read_file(file)\n",
    "    image = tf.io.decode_image(gfile)\n",
    "    image = tf.image.resize(image, [50, 50])\n",
    "    image = tf.image.rgb_to_grayscale(image)\n",
    "    test_x.append(np.asarray(image))"
   ]
  },
  {
   "cell_type": "code",
   "execution_count": 11,
   "metadata": {},
   "outputs": [],
   "source": [
    "test_y = [get_label(file) for file in test_path]"
   ]
  },
  {
   "cell_type": "code",
   "execution_count": 12,
   "metadata": {},
   "outputs": [
    {
     "data": {
      "text/plain": [
       "(50, 50, 1)"
      ]
     },
     "execution_count": 12,
     "metadata": {},
     "output_type": "execute_result"
    }
   ],
   "source": [
    "train_x[10].shape"
   ]
  },
  {
   "cell_type": "code",
   "execution_count": 13,
   "metadata": {},
   "outputs": [
    {
     "name": "stdout",
     "output_type": "stream",
     "text": [
      "<class 'numpy.ndarray'>\n"
     ]
    }
   ],
   "source": [
    "type(train_x[0].shape)\n",
    "print(type(np.array(train_x[0])))"
   ]
  },
  {
   "cell_type": "code",
   "execution_count": 14,
   "metadata": {},
   "outputs": [
    {
     "data": {
      "text/plain": [
       "15021"
      ]
     },
     "execution_count": 14,
     "metadata": {},
     "output_type": "execute_result"
    }
   ],
   "source": [
    "len(train_y)"
   ]
  },
  {
   "cell_type": "code",
   "execution_count": 15,
   "metadata": {},
   "outputs": [
    {
     "data": {
      "text/plain": [
       "(array(['0', '1', '2'], dtype='<U1'), array([5252, 5273, 4496]))"
      ]
     },
     "execution_count": 15,
     "metadata": {},
     "output_type": "execute_result"
    }
   ],
   "source": [
    "np.unique(train_y, return_counts=True)"
   ]
  },
  {
   "cell_type": "code",
   "execution_count": 16,
   "metadata": {},
   "outputs": [
    {
     "data": {
      "text/plain": [
       "(array(['0', '1', '2'], dtype='<U1'), array([700, 700, 500]))"
      ]
     },
     "execution_count": 16,
     "metadata": {},
     "output_type": "execute_result"
    }
   ],
   "source": [
    "np.unique(test_y, return_counts=True)"
   ]
  },
  {
   "cell_type": "code",
   "execution_count": 17,
   "metadata": {},
   "outputs": [],
   "source": [
    "train_x = np.asarray(train_x)\n",
    "train_y = np.asarray(train_y)\n",
    "test_x = np.asarray(test_x)\n",
    "test_y = np.asarray(test_y)"
   ]
  },
  {
   "cell_type": "code",
   "execution_count": 18,
   "metadata": {},
   "outputs": [],
   "source": [
    "train_x = train_x/255\n",
    "test_x = test_x/255"
   ]
  },
  {
   "cell_type": "code",
   "execution_count": 19,
   "metadata": {},
   "outputs": [
    {
     "data": {
      "text/plain": [
       "(15021, 50, 50, 1)"
      ]
     },
     "execution_count": 19,
     "metadata": {},
     "output_type": "execute_result"
    }
   ],
   "source": [
    "train_x.shape"
   ]
  },
  {
   "cell_type": "code",
   "execution_count": 20,
   "metadata": {},
   "outputs": [
    {
     "data": {
      "text/plain": [
       "(1900, 50, 50, 1)"
      ]
     },
     "execution_count": 20,
     "metadata": {},
     "output_type": "execute_result"
    }
   ],
   "source": [
    "test_x.shape"
   ]
  },
  {
   "cell_type": "code",
   "execution_count": 21,
   "metadata": {},
   "outputs": [],
   "source": [
    "train_y = train_y.astype(\"int32\")\n",
    "test_y = test_y.astype(\"int32\")"
   ]
  },
  {
   "cell_type": "code",
   "execution_count": 22,
   "metadata": {},
   "outputs": [],
   "source": [
    "#train_y = to_categorical(train_y, 3)\n",
    "#test_y = to_categorical(test_y, 3)"
   ]
  },
  {
   "cell_type": "markdown",
   "metadata": {},
   "source": [
    "# 모델 정의"
   ]
  },
  {
   "cell_type": "code",
   "execution_count": 23,
   "metadata": {},
   "outputs": [],
   "source": [
    "input_shape = (50,50,1)\n",
    "batch_size = 32\n",
    "learning_rate = 0.0001\n",
    "# 0.01로 학습했는데 학습 안됨.\n",
    "dropout_rate = 0.4\n",
    "num_classes=3\n",
    "num_epochs=30"
   ]
  },
  {
   "cell_type": "code",
   "execution_count": 24,
   "metadata": {},
   "outputs": [],
   "source": [
    "early_stopping = EarlyStopping(\n",
    "    monitor=\"val_loss\",\n",
    "    patience=10\n",
    ")"
   ]
  },
  {
   "cell_type": "code",
   "execution_count": 25,
   "metadata": {},
   "outputs": [],
   "source": [
    "inputs = layers.Input(input_shape)\n",
    "#sequential model에서는 input이 필요 없다\n",
    "net = layers.Conv2D(16, (3,3), padding=\"same\", activation=\"relu\")(inputs)\n",
    "net = layers.Conv2D(16, (3,3), padding=\"same\", activation=\"relu\")(net)\n",
    "net = layers.MaxPool2D((2,2))(net)\n",
    "net = layers.Conv2D(32, (3,3), padding=\"same\", activation=\"relu\")(net)\n",
    "net = layers.Conv2D(32, (3,3), padding=\"same\", activation=\"relu\")(net)\n",
    "net = layers.MaxPool2D((2,2))(net)\n",
    "net = layers.Conv2D(64, (3,3), padding=\"same\", activation=\"relu\")(net)\n",
    "net = layers.Conv2D(64, (3,3), padding=\"same\", activation=\"relu\")(net)\n",
    "\n",
    "net = layers.Flatten()(net)\n",
    "net = layers.Dense(128)(net)\n",
    "net = layers.Activation(\"relu\")(net)\n",
    "net = layers.Dropout(dropout_rate)(net)\n",
    "net = layers.Dense(num_classes)(net)\n",
    "#주의: binary classification에서는 output dense가 1이다 \n",
    "net = layers.Activation(\"softmax\")(net)\n",
    "#net = layers.Activation(\"sigmoid\")(net)\n",
    "\n",
    "model = tf.keras.Model(inputs=inputs, outputs=net, name=\"NN\")"
   ]
  },
  {
   "cell_type": "code",
   "execution_count": 26,
   "metadata": {},
   "outputs": [],
   "source": [
    "model.compile(\n",
    "    optimizer=tf.keras.optimizers.Adam(learning_rate),\n",
    "    loss=\"sparse_categorical_crossentropy\",\n",
    "    metrics=[\"accuracy\"]\n",
    ")"
   ]
  },
  {
   "cell_type": "code",
   "execution_count": 27,
   "metadata": {},
   "outputs": [
    {
     "name": "stdout",
     "output_type": "stream",
     "text": [
      "Train on 15021 samples, validate on 1900 samples\n",
      "Epoch 1/30\n",
      "15021/15021 [==============================] - 33s 2ms/sample - loss: 0.5766 - accuracy: 0.7328 - val_loss: 0.3467 - val_accuracy: 0.8521\n",
      "Epoch 2/30\n",
      "15021/15021 [==============================] - 21s 1ms/sample - loss: 0.3327 - accuracy: 0.8603 - val_loss: 0.2976 - val_accuracy: 0.8674\n",
      "Epoch 3/30\n",
      "15021/15021 [==============================] - 25s 2ms/sample - loss: 0.2803 - accuracy: 0.8875 - val_loss: 0.2253 - val_accuracy: 0.9089\n",
      "Epoch 4/30\n",
      "15021/15021 [==============================] - 24s 2ms/sample - loss: 0.2334 - accuracy: 0.9080 - val_loss: 0.2249 - val_accuracy: 0.8989\n",
      "Epoch 5/30\n",
      "15021/15021 [==============================] - 21s 1ms/sample - loss: 0.1965 - accuracy: 0.9236 - val_loss: 0.1625 - val_accuracy: 0.9374\n",
      "Epoch 6/30\n",
      "15021/15021 [==============================] - 21s 1ms/sample - loss: 0.1668 - accuracy: 0.9364 - val_loss: 0.1342 - val_accuracy: 0.9447\n",
      "Epoch 7/30\n",
      "15021/15021 [==============================] - 24s 2ms/sample - loss: 0.1434 - accuracy: 0.9448 - val_loss: 0.1504 - val_accuracy: 0.9374\n",
      "Epoch 8/30\n",
      "15021/15021 [==============================] - 25s 2ms/sample - loss: 0.1273 - accuracy: 0.9537 - val_loss: 0.1125 - val_accuracy: 0.9568\n",
      "Epoch 9/30\n",
      "15021/15021 [==============================] - 22s 1ms/sample - loss: 0.1091 - accuracy: 0.9596 - val_loss: 0.1062 - val_accuracy: 0.9553\n",
      "Epoch 10/30\n",
      "15021/15021 [==============================] - 22s 1ms/sample - loss: 0.0921 - accuracy: 0.9656 - val_loss: 0.0871 - val_accuracy: 0.9626\n",
      "Epoch 11/30\n",
      "15021/15021 [==============================] - 22s 1ms/sample - loss: 0.0826 - accuracy: 0.9709 - val_loss: 0.1112 - val_accuracy: 0.9526\n",
      "Epoch 12/30\n",
      "15021/15021 [==============================] - 22s 1ms/sample - loss: 0.0707 - accuracy: 0.9731 - val_loss: 0.0780 - val_accuracy: 0.9716\n",
      "Epoch 13/30\n",
      "15021/15021 [==============================] - 25s 2ms/sample - loss: 0.0639 - accuracy: 0.9774 - val_loss: 0.0629 - val_accuracy: 0.9758\n",
      "Epoch 14/30\n",
      "15021/15021 [==============================] - 24s 2ms/sample - loss: 0.0563 - accuracy: 0.9795 - val_loss: 0.0628 - val_accuracy: 0.9779\n",
      "Epoch 15/30\n",
      "15021/15021 [==============================] - 26s 2ms/sample - loss: 0.0538 - accuracy: 0.9803 - val_loss: 0.0640 - val_accuracy: 0.9726\n",
      "Epoch 16/30\n",
      "15021/15021 [==============================] - 23s 2ms/sample - loss: 0.0451 - accuracy: 0.9840 - val_loss: 0.0666 - val_accuracy: 0.9742\n",
      "Epoch 17/30\n",
      "15021/15021 [==============================] - 25s 2ms/sample - loss: 0.0430 - accuracy: 0.9848 - val_loss: 0.0668 - val_accuracy: 0.9758\n",
      "Epoch 18/30\n",
      "15021/15021 [==============================] - 23s 2ms/sample - loss: 0.0349 - accuracy: 0.9872 - val_loss: 0.0479 - val_accuracy: 0.9816\n",
      "Epoch 19/30\n",
      "15021/15021 [==============================] - 23s 2ms/sample - loss: 0.0301 - accuracy: 0.9899 - val_loss: 0.0569 - val_accuracy: 0.9789\n",
      "Epoch 20/30\n",
      "15021/15021 [==============================] - 25s 2ms/sample - loss: 0.0269 - accuracy: 0.9901 - val_loss: 0.0492 - val_accuracy: 0.9826\n",
      "Epoch 21/30\n",
      "15021/15021 [==============================] - 24s 2ms/sample - loss: 0.0281 - accuracy: 0.9912 - val_loss: 0.0568 - val_accuracy: 0.9789\n",
      "Epoch 22/30\n",
      "15021/15021 [==============================] - 24s 2ms/sample - loss: 0.0262 - accuracy: 0.9902 - val_loss: 0.0683 - val_accuracy: 0.9758\n",
      "Epoch 23/30\n",
      "15021/15021 [==============================] - 25s 2ms/sample - loss: 0.0289 - accuracy: 0.9903 - val_loss: 0.0710 - val_accuracy: 0.9789\n",
      "Epoch 24/30\n",
      "15021/15021 [==============================] - 25s 2ms/sample - loss: 0.0237 - accuracy: 0.9923 - val_loss: 0.0576 - val_accuracy: 0.9784\n",
      "Epoch 25/30\n",
      "15021/15021 [==============================] - 27s 2ms/sample - loss: 0.0232 - accuracy: 0.9918 - val_loss: 0.0630 - val_accuracy: 0.9768\n",
      "Epoch 26/30\n",
      "15021/15021 [==============================] - 25s 2ms/sample - loss: 0.0179 - accuracy: 0.9941 - val_loss: 0.0670 - val_accuracy: 0.9789\n",
      "Epoch 27/30\n",
      "15021/15021 [==============================] - 24s 2ms/sample - loss: 0.0172 - accuracy: 0.9945 - val_loss: 0.0573 - val_accuracy: 0.9837\n",
      "Epoch 28/30\n",
      "15021/15021 [==============================] - 24s 2ms/sample - loss: 0.0216 - accuracy: 0.9920 - val_loss: 0.0556 - val_accuracy: 0.9805\n"
     ]
    }
   ],
   "source": [
    "hist = model.fit(\n",
    "    train_x, train_y,\n",
    "    validation_data=(test_x, test_y),\n",
    "    epochs=num_epochs,\n",
    "    batch_size=batch_size,\n",
    "    callbacks=[early_stopping] # decay option\n",
    ")"
   ]
  },
  {
   "cell_type": "markdown",
   "metadata": {},
   "source": [
    "# 학습 과정 그래프"
   ]
  },
  {
   "cell_type": "code",
   "execution_count": 28,
   "metadata": {},
   "outputs": [
    {
     "data": {
      "image/png": "[encoded data removed]",
      "text/plain": [
       "<Figure size 432x288 with 2 Axes>"
      ]
     },
     "metadata": {
      "needs_background": "light"
     },
     "output_type": "display_data"
    }
   ],
   "source": [
    "%matplotlib inline\n",
    "import matplotlib.pyplot as plt\n",
    "\n",
    "fig, loss_ax = plt.subplots()\n",
    "\n",
    "acc_ax = loss_ax.twinx()\n",
    "\n",
    "loss_ax.plot(hist.history['loss'], 'y', label='train loss')\n",
    "loss_ax.plot(hist.history['val_loss'], 'r', label='val loss')\n",
    "\n",
    "acc_ax.plot(hist.history['accuracy'], 'b', label='train acc')\n",
    "acc_ax.plot(hist.history['val_accuracy'], 'g', label='val acc')\n",
    "\n",
    "loss_ax.set_xlabel('epoch')\n",
    "loss_ax.set_ylabel('loss')\n",
    "acc_ax.set_ylabel('accuray')\n",
    "\n",
    "loss_ax.legend(loc='upper left')\n",
    "acc_ax.legend(loc='lower left')\n",
    "\n",
    "plt.show()"
   ]
  },
  {
   "cell_type": "markdown",
   "metadata": {},
   "source": [
    "# 모델 저장"
   ]
  },
  {
   "cell_type": "code",
   "execution_count": 29,
   "metadata": {},
   "outputs": [],
   "source": [
    "#model.save(\"model/\", include_optimizer=True, save_format='tf')\n",
    "model.save('model/basic-cnn-functional.h5')"
   ]
  },
  {
   "cell_type": "code",
   "execution_count": null,
   "metadata": {},
   "outputs": [],
   "source": []
  },
  {
   "cell_type": "code",
   "execution_count": null,
   "metadata": {},
   "outputs": [],
   "source": []
  },
  {
   "cell_type": "code",
   "execution_count": null,
   "metadata": {},
   "outputs": [],
   "source": []
  }
 ],
 "metadata": {
  "kernelspec": {
   "display_name": "tf2",
   "language": "python",
   "name": "tf2"
  },
  "language_info": {
   "codemirror_mode": {
    "name": "ipython",
    "version": 3
   },
   "file_extension": ".py",
   "mimetype": "text/x-python",
   "name": "python",
   "nbconvert_exporter": "python",
   "pygments_lexer": "ipython3",
   "version": "3.7.7"
  }
 },
 "nbformat": 4,
 "nbformat_minor": 4
}
