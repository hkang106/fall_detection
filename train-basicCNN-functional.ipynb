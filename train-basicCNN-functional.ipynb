{
 "cells": [
  {
   "cell_type": "code",
   "execution_count": 1,
   "metadata": {},
   "outputs": [],
   "source": [
    "import tensorflow as tf\n",
    "from tensorflow.keras.preprocessing.image import ImageDataGenerator\n",
    "from tensorflow.keras import layers\n",
    "from tensorflow.keras.callbacks import ModelCheckpoint, EarlyStopping\n",
    "from tensorflow.keras.utils import to_categorical\n",
    "from tensorflow.keras.datasets import mnist"
   ]
  },
  {
   "cell_type": "code",
   "execution_count": 2,
   "metadata": {},
   "outputs": [],
   "source": [
    "import os \n",
    "from glob import glob\n",
    "import random\n",
    "import numpy as np"
   ]
  },
  {
   "cell_type": "code",
   "execution_count": 3,
   "metadata": {},
   "outputs": [
    {
     "data": {
      "text/plain": [
       "['1', '2', '.ipynb_checkpoints', '0']"
      ]
     },
     "execution_count": 3,
     "metadata": {},
     "output_type": "execute_result"
    }
   ],
   "source": [
    "os.listdir(\"cropped_dataset/train\")"
   ]
  },
  {
   "cell_type": "code",
   "execution_count": 4,
   "metadata": {},
   "outputs": [],
   "source": [
    "train_dir = \"cropped_dataset/train\" \n",
    "test_dir = \"cropped_dataset/test\""
   ]
  },
  {
   "cell_type": "markdown",
   "metadata": {},
   "source": [
    "# fit 데이터셋 만들기"
   ]
  },
  {
   "cell_type": "code",
   "execution_count": 5,
   "metadata": {},
   "outputs": [],
   "source": [
    "train_path = glob(train_dir+\"/*/*.jpg\")\n",
    "test_path = glob(test_dir+\"/*/*.jpg\")"
   ]
  },
  {
   "cell_type": "code",
   "execution_count": 6,
   "metadata": {},
   "outputs": [
    {
     "name": "stdout",
     "output_type": "stream",
     "text": [
      "cropped_dataset/train/1/aug_3_0_4612.jpg\n",
      "cropped_dataset/test/0/aug_1_2_0_3803.jpg\n"
     ]
    }
   ],
   "source": [
    "\n",
    "random.seed(0)\n",
    "random.shuffle(train_path)\n",
    "random.shuffle(test_path)\n",
    "print(train_path[0])\n",
    "print(test_path[0])"
   ]
  },
  {
   "cell_type": "code",
   "execution_count": 7,
   "metadata": {},
   "outputs": [],
   "source": [
    "def get_label(filepath):\n",
    "    return filepath.split(\"/\")[-2]"
   ]
  },
  {
   "cell_type": "code",
   "execution_count": 8,
   "metadata": {},
   "outputs": [],
   "source": [
    "train_x = []\n",
    "for file in train_path:\n",
    "    gfile = tf.io.read_file(file)\n",
    "    image = tf.io.decode_image(gfile)\n",
    "    image = tf.image.resize(image, [50, 50])\n",
    "    image = tf.image.rgb_to_grayscale(image)\n",
    "    train_x.append(np.asarray(image))"
   ]
  },
  {
   "cell_type": "code",
   "execution_count": 9,
   "metadata": {},
   "outputs": [],
   "source": [
    "train_y = [get_label(file) for file in train_path]"
   ]
  },
  {
   "cell_type": "code",
   "execution_count": 10,
   "metadata": {},
   "outputs": [],
   "source": [
    "test_x = []\n",
    "for file in test_path:\n",
    "    gfile = tf.io.read_file(file)\n",
    "    image = tf.io.decode_image(gfile)\n",
    "    image = tf.image.resize(image, [50, 50])\n",
    "    image = tf.image.rgb_to_grayscale(image)\n",
    "    test_x.append(np.asarray(image))"
   ]
  },
  {
   "cell_type": "code",
   "execution_count": 11,
   "metadata": {},
   "outputs": [],
   "source": [
    "test_y = [get_label(file) for file in test_path]"
   ]
  },
  {
   "cell_type": "code",
   "execution_count": 12,
   "metadata": {},
   "outputs": [
    {
     "data": {
      "text/plain": [
       "(50, 50, 1)"
      ]
     },
     "execution_count": 12,
     "metadata": {},
     "output_type": "execute_result"
    }
   ],
   "source": [
    "train_x[10].shape"
   ]
  },
  {
   "cell_type": "code",
   "execution_count": 13,
   "metadata": {},
   "outputs": [
    {
     "name": "stdout",
     "output_type": "stream",
     "text": [
      "<class 'numpy.ndarray'>\n"
     ]
    }
   ],
   "source": [
    "type(train_x[0].shape)\n",
    "print(type(np.array(train_x[0])))"
   ]
  },
  {
   "cell_type": "code",
   "execution_count": 14,
   "metadata": {},
   "outputs": [
    {
     "data": {
      "text/plain": [
       "13395"
      ]
     },
     "execution_count": 14,
     "metadata": {},
     "output_type": "execute_result"
    }
   ],
   "source": [
    "len(train_y)"
   ]
  },
  {
   "cell_type": "code",
   "execution_count": 15,
   "metadata": {},
   "outputs": [
    {
     "data": {
      "text/plain": [
       "(array(['0', '1', '2'], dtype='<U1'), array([4478, 4419, 4498]))"
      ]
     },
     "execution_count": 15,
     "metadata": {},
     "output_type": "execute_result"
    }
   ],
   "source": [
    "np.unique(train_y, return_counts=True)"
   ]
  },
  {
   "cell_type": "code",
   "execution_count": 16,
   "metadata": {},
   "outputs": [
    {
     "data": {
      "text/plain": [
       "(array(['0', '1', '2'], dtype='<U1'), array([496, 489, 498]))"
      ]
     },
     "execution_count": 16,
     "metadata": {},
     "output_type": "execute_result"
    }
   ],
   "source": [
    "np.unique(test_y, return_counts=True)"
   ]
  },
  {
   "cell_type": "code",
   "execution_count": 17,
   "metadata": {},
   "outputs": [],
   "source": [
    "train_x = np.asarray(train_x)\n",
    "train_y = np.asarray(train_y)\n",
    "test_x = np.asarray(test_x)\n",
    "test_y = np.asarray(test_y)"
   ]
  },
  {
   "cell_type": "code",
   "execution_count": 18,
   "metadata": {},
   "outputs": [],
   "source": [
    "train_x = train_x/255\n",
    "test_x = test_x/255"
   ]
  },
  {
   "cell_type": "code",
   "execution_count": 19,
   "metadata": {},
   "outputs": [
    {
     "data": {
      "text/plain": [
       "(13395, 50, 50, 1)"
      ]
     },
     "execution_count": 19,
     "metadata": {},
     "output_type": "execute_result"
    }
   ],
   "source": [
    "train_x.shape"
   ]
  },
  {
   "cell_type": "code",
   "execution_count": 20,
   "metadata": {},
   "outputs": [
    {
     "data": {
      "text/plain": [
       "(1483, 50, 50, 1)"
      ]
     },
     "execution_count": 20,
     "metadata": {},
     "output_type": "execute_result"
    }
   ],
   "source": [
    "test_x.shape"
   ]
  },
  {
   "cell_type": "code",
   "execution_count": 21,
   "metadata": {},
   "outputs": [],
   "source": [
    "train_y = train_y.astype(\"int32\")\n",
    "test_y = test_y.astype(\"int32\")"
   ]
  },
  {
   "cell_type": "code",
   "execution_count": 22,
   "metadata": {},
   "outputs": [],
   "source": [
    "#train_y = to_categorical(train_y, 3)\n",
    "#test_y = to_categorical(test_y, 3)"
   ]
  },
  {
   "cell_type": "markdown",
   "metadata": {},
   "source": [
    "# 모델 정의"
   ]
  },
  {
   "cell_type": "code",
   "execution_count": 23,
   "metadata": {},
   "outputs": [],
   "source": [
    "input_shape = (50,50,1)\n",
    "batch_size = 32\n",
    "learning_rate = 0.0001\n",
    "# 0.01로 학습했는데 학습 안됨.\n",
    "dropout_rate = 0.4\n",
    "num_classes=3\n",
    "num_epochs=30"
   ]
  },
  {
   "cell_type": "code",
   "execution_count": 24,
   "metadata": {},
   "outputs": [],
   "source": [
    "early_stopping = EarlyStopping(\n",
    "    monitor=\"val_loss\",\n",
    "    patience=10\n",
    ")"
   ]
  },
  {
   "cell_type": "code",
   "execution_count": 25,
   "metadata": {},
   "outputs": [],
   "source": [
    "inputs = layers.Input(input_shape)\n",
    "#sequential model에서는 input이 필요 없다\n",
    "net = layers.Conv2D(16, (3,3), padding=\"same\", activation=\"relu\")(inputs)\n",
    "net = layers.Conv2D(16, (3,3), padding=\"same\", activation=\"relu\")(net)\n",
    "net = layers.MaxPool2D((2,2))(net)\n",
    "net = layers.Conv2D(32, (3,3), padding=\"same\", activation=\"relu\")(net)\n",
    "net = layers.Conv2D(32, (3,3), padding=\"same\", activation=\"relu\")(net)\n",
    "net = layers.MaxPool2D((2,2))(net)\n",
    "net = layers.Conv2D(64, (3,3), padding=\"same\", activation=\"relu\")(net)\n",
    "net = layers.Conv2D(64, (3,3), padding=\"same\", activation=\"relu\")(net)\n",
    "\n",
    "net = layers.Flatten()(net)\n",
    "net = layers.Dense(128)(net)\n",
    "net = layers.Activation(\"relu\")(net)\n",
    "net = layers.Dropout(dropout_rate)(net)\n",
    "net = layers.Dense(num_classes)(net)\n",
    "#주의: binary classification에서는 output dense가 1이다 \n",
    "net = layers.Activation(\"softmax\")(net)\n",
    "#net = layers.Activation(\"sigmoid\")(net)\n",
    "\n",
    "model = tf.keras.Model(inputs=inputs, outputs=net, name=\"NN\")"
   ]
  },
  {
   "cell_type": "code",
   "execution_count": 26,
   "metadata": {},
   "outputs": [],
   "source": [
    "model.compile(\n",
    "    optimizer=tf.keras.optimizers.Adam(learning_rate),\n",
    "    loss=\"sparse_categorical_crossentropy\",\n",
    "    metrics=[\"accuracy\"]\n",
    ")"
   ]
  },
  {
   "cell_type": "code",
   "execution_count": 27,
   "metadata": {},
   "outputs": [
    {
     "name": "stdout",
     "output_type": "stream",
     "text": [
      "Train on 13395 samples, validate on 1483 samples\n",
      "Epoch 1/30\n",
      "13395/13395 [==============================] - 22s 2ms/sample - loss: 0.6296 - accuracy: 0.7141 - val_loss: 0.4097 - val_accuracy: 0.8220\n",
      "Epoch 2/30\n",
      "13395/13395 [==============================] - 22s 2ms/sample - loss: 0.3330 - accuracy: 0.8588 - val_loss: 0.2821 - val_accuracy: 0.8908\n",
      "Epoch 3/30\n",
      "13395/13395 [==============================] - 19s 1ms/sample - loss: 0.2607 - accuracy: 0.8956 - val_loss: 0.2341 - val_accuracy: 0.9063\n",
      "Epoch 4/30\n",
      "13395/13395 [==============================] - 21s 2ms/sample - loss: 0.2122 - accuracy: 0.9186 - val_loss: 0.1926 - val_accuracy: 0.9258\n",
      "Epoch 5/30\n",
      "13395/13395 [==============================] - 20s 2ms/sample - loss: 0.1843 - accuracy: 0.9262 - val_loss: 0.1685 - val_accuracy: 0.9312\n",
      "Epoch 6/30\n",
      "13395/13395 [==============================] - 19s 1ms/sample - loss: 0.1521 - accuracy: 0.9413 - val_loss: 0.1455 - val_accuracy: 0.9434\n",
      "Epoch 7/30\n",
      "13395/13395 [==============================] - 21s 2ms/sample - loss: 0.1362 - accuracy: 0.9501 - val_loss: 0.1355 - val_accuracy: 0.9400\n",
      "Epoch 8/30\n",
      "13395/13395 [==============================] - 19s 1ms/sample - loss: 0.1167 - accuracy: 0.9583 - val_loss: 0.1351 - val_accuracy: 0.9393\n",
      "Epoch 9/30\n",
      "13395/13395 [==============================] - 22s 2ms/sample - loss: 0.0983 - accuracy: 0.9631 - val_loss: 0.1204 - val_accuracy: 0.9535\n",
      "Epoch 10/30\n",
      "13395/13395 [==============================] - 23s 2ms/sample - loss: 0.0929 - accuracy: 0.9666 - val_loss: 0.1068 - val_accuracy: 0.9521\n",
      "Epoch 11/30\n",
      "13395/13395 [==============================] - 18s 1ms/sample - loss: 0.0777 - accuracy: 0.9725 - val_loss: 0.0974 - val_accuracy: 0.9616\n",
      "Epoch 12/30\n",
      "13395/13395 [==============================] - 20s 1ms/sample - loss: 0.0683 - accuracy: 0.9742 - val_loss: 0.1032 - val_accuracy: 0.9595\n",
      "Epoch 13/30\n",
      "13395/13395 [==============================] - 17s 1ms/sample - loss: 0.0602 - accuracy: 0.9790 - val_loss: 0.0880 - val_accuracy: 0.9676\n",
      "Epoch 14/30\n",
      "13395/13395 [==============================] - 20s 2ms/sample - loss: 0.0524 - accuracy: 0.9809 - val_loss: 0.0941 - val_accuracy: 0.9676\n",
      "Epoch 15/30\n",
      "13395/13395 [==============================] - 22s 2ms/sample - loss: 0.0501 - accuracy: 0.9827 - val_loss: 0.1063 - val_accuracy: 0.9636\n",
      "Epoch 16/30\n",
      "13395/13395 [==============================] - 17s 1ms/sample - loss: 0.0481 - accuracy: 0.9831 - val_loss: 0.0818 - val_accuracy: 0.9717\n",
      "Epoch 17/30\n",
      "13395/13395 [==============================] - 23s 2ms/sample - loss: 0.0365 - accuracy: 0.9866 - val_loss: 0.0809 - val_accuracy: 0.9751\n",
      "Epoch 18/30\n",
      "13395/13395 [==============================] - 20s 1ms/sample - loss: 0.0361 - accuracy: 0.9860 - val_loss: 0.1013 - val_accuracy: 0.9683\n",
      "Epoch 19/30\n",
      "13395/13395 [==============================] - 19s 1ms/sample - loss: 0.0318 - accuracy: 0.9881 - val_loss: 0.0944 - val_accuracy: 0.9690\n",
      "Epoch 20/30\n",
      "13395/13395 [==============================] - 18s 1ms/sample - loss: 0.0306 - accuracy: 0.9884 - val_loss: 0.0848 - val_accuracy: 0.9730\n",
      "Epoch 21/30\n",
      "13395/13395 [==============================] - 23s 2ms/sample - loss: 0.0254 - accuracy: 0.9913 - val_loss: 0.0862 - val_accuracy: 0.9777\n",
      "Epoch 22/30\n",
      "13395/13395 [==============================] - 23s 2ms/sample - loss: 0.0251 - accuracy: 0.9909 - val_loss: 0.1059 - val_accuracy: 0.9690\n",
      "Epoch 23/30\n",
      "13395/13395 [==============================] - 26s 2ms/sample - loss: 0.0275 - accuracy: 0.9904 - val_loss: 0.1001 - val_accuracy: 0.9737\n",
      "Epoch 24/30\n",
      "13395/13395 [==============================] - 29s 2ms/sample - loss: 0.0208 - accuracy: 0.9926 - val_loss: 0.0769 - val_accuracy: 0.9791\n",
      "Epoch 25/30\n",
      "13395/13395 [==============================] - 25s 2ms/sample - loss: 0.0206 - accuracy: 0.9926 - val_loss: 0.1141 - val_accuracy: 0.9643\n",
      "Epoch 26/30\n",
      "13395/13395 [==============================] - 22s 2ms/sample - loss: 0.0236 - accuracy: 0.9913 - val_loss: 0.0920 - val_accuracy: 0.9791\n",
      "Epoch 27/30\n",
      "13395/13395 [==============================] - 24s 2ms/sample - loss: 0.0165 - accuracy: 0.9937 - val_loss: 0.1149 - val_accuracy: 0.9703\n",
      "Epoch 28/30\n",
      "13395/13395 [==============================] - 25s 2ms/sample - loss: 0.0234 - accuracy: 0.9934 - val_loss: 0.1021 - val_accuracy: 0.9724\n",
      "Epoch 29/30\n",
      "13395/13395 [==============================] - 25s 2ms/sample - loss: 0.0147 - accuracy: 0.9947 - val_loss: 0.0894 - val_accuracy: 0.9784\n",
      "Epoch 30/30\n",
      "13395/13395 [==============================] - 24s 2ms/sample - loss: 0.0143 - accuracy: 0.9946 - val_loss: 0.0944 - val_accuracy: 0.9777\n"
     ]
    }
   ],
   "source": [
    "hist = model.fit(\n",
    "    train_x, train_y,\n",
    "    validation_data=(test_x, test_y),\n",
    "    epochs=num_epochs,\n",
    "    batch_size=batch_size,\n",
    "    callbacks=[early_stopping] # decay option\n",
    ")"
   ]
  },
  {
   "cell_type": "markdown",
   "metadata": {},
   "source": [
    "# 학습 과정 그래프"
   ]
  },
  {
   "cell_type": "code",
   "execution_count": 28,
   "metadata": {},
   "outputs": [
    {
     "data": {
      "image/png": "[encoded data removed]",
      "text/plain": [
       "<Figure size 432x288 with 2 Axes>"
      ]
     },
     "metadata": {
      "needs_background": "light"
     },
     "output_type": "display_data"
    }
   ],
   "source": [
    "%matplotlib inline\n",
    "import matplotlib.pyplot as plt\n",
    "\n",
    "fig, loss_ax = plt.subplots()\n",
    "\n",
    "acc_ax = loss_ax.twinx()\n",
    "\n",
    "loss_ax.plot(hist.history['loss'], 'y', label='train loss')\n",
    "loss_ax.plot(hist.history['val_loss'], 'r', label='val loss')\n",
    "\n",
    "acc_ax.plot(hist.history['accuracy'], 'b', label='train acc')\n",
    "acc_ax.plot(hist.history['val_accuracy'], 'g', label='val acc')\n",
    "\n",
    "loss_ax.set_xlabel('epoch')\n",
    "loss_ax.set_ylabel('loss')\n",
    "acc_ax.set_ylabel('accuray')\n",
    "\n",
    "loss_ax.legend(loc='upper left')\n",
    "acc_ax.legend(loc='lower left')\n",
    "\n",
    "plt.show()"
   ]
  },
  {
   "cell_type": "markdown",
   "metadata": {},
   "source": [
    "# 모델 저장"
   ]
  },
  {
   "cell_type": "code",
   "execution_count": 29,
   "metadata": {},
   "outputs": [],
   "source": [
    "#model.save(\"model/\", include_optimizer=True, save_format='tf')\n",
    "model.save('model/basic-cnn-functional.h5')"
   ]
  },
  {
   "cell_type": "code",
   "execution_count": null,
   "metadata": {},
   "outputs": [],
   "source": []
  },
  {
   "cell_type": "code",
   "execution_count": null,
   "metadata": {},
   "outputs": [],
   "source": []
  },
  {
   "cell_type": "code",
   "execution_count": null,
   "metadata": {},
   "outputs": [],
   "source": []
  }
 ],
 "metadata": {
  "kernelspec": {
   "display_name": "tf2",
   "language": "python",
   "name": "tf2"
  },
  "language_info": {
   "codemirror_mode": {
    "name": "ipython",
    "version": 3
   },
   "file_extension": ".py",
   "mimetype": "text/x-python",
   "name": "python",
   "nbconvert_exporter": "python",
   "pygments_lexer": "ipython3",
   "version": "3.7.7"
  }
 },
 "nbformat": 4,
 "nbformat_minor": 4
}
