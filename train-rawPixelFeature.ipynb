{
 "cells": [
  {
   "cell_type": "code",
   "execution_count": 1,
   "metadata": {},
   "outputs": [],
   "source": [
    "import tensorflow as tf\n",
    "from tensorflow.keras.preprocessing.image import ImageDataGenerator\n",
    "from tensorflow.keras import layers\n",
    "from tensorflow.keras.callbacks import ModelCheckpoint, EarlyStopping\n",
    "from tensorflow.keras.utils import to_categorical\n",
    "from tensorflow.keras.datasets import mnist"
   ]
  },
  {
   "cell_type": "code",
   "execution_count": 2,
   "metadata": {},
   "outputs": [],
   "source": [
    "import os \n",
    "from glob import glob\n",
    "import random\n",
    "import numpy as np"
   ]
  },
  {
   "cell_type": "code",
   "execution_count": 3,
   "metadata": {},
   "outputs": [
    {
     "data": {
      "text/plain": [
       "['1', '2', '.ipynb_checkpoints', '0']"
      ]
     },
     "execution_count": 3,
     "metadata": {},
     "output_type": "execute_result"
    }
   ],
   "source": [
    "os.listdir(\"cropped_dataset/train\")"
   ]
  },
  {
   "cell_type": "code",
   "execution_count": 4,
   "metadata": {},
   "outputs": [],
   "source": [
    "train_dir = \"cropped_dataset/train\" \n",
    "test_dir = \"cropped_dataset/test\""
   ]
  },
  {
   "cell_type": "markdown",
   "metadata": {},
   "source": [
    "# fit 데이터셋 만들기"
   ]
  },
  {
   "cell_type": "code",
   "execution_count": 5,
   "metadata": {},
   "outputs": [],
   "source": [
    "train_path = glob(train_dir+\"/*/*.jpg\")\n",
    "test_path = glob(test_dir+\"/*/*.jpg\")"
   ]
  },
  {
   "cell_type": "code",
   "execution_count": 6,
   "metadata": {},
   "outputs": [
    {
     "name": "stdout",
     "output_type": "stream",
     "text": [
      "cropped_dataset/train/1/aug_3_0_4612.jpg\n",
      "cropped_dataset/test/0/aug_1_2_0_3803.jpg\n"
     ]
    }
   ],
   "source": [
    "\n",
    "random.seed(0)\n",
    "random.shuffle(train_path)\n",
    "random.shuffle(test_path)\n",
    "print(train_path[0])\n",
    "print(test_path[0])"
   ]
  },
  {
   "cell_type": "code",
   "execution_count": 7,
   "metadata": {},
   "outputs": [],
   "source": [
    "def get_label(filepath):\n",
    "    return filepath.split(\"/\")[-2]"
   ]
  },
  {
   "cell_type": "code",
   "execution_count": 8,
   "metadata": {},
   "outputs": [],
   "source": [
    "train_x = []\n",
    "for file in train_path:\n",
    "    gfile = tf.io.read_file(file)\n",
    "    image = tf.io.decode_image(gfile)\n",
    "    image = tf.image.resize(image, [50, 50])\n",
    "    image = tf.image.rgb_to_grayscale(image)\n",
    "    train_x.append(np.asarray(image))"
   ]
  },
  {
   "cell_type": "code",
   "execution_count": 9,
   "metadata": {},
   "outputs": [],
   "source": [
    "train_y = [get_label(file) for file in train_path]"
   ]
  },
  {
   "cell_type": "code",
   "execution_count": 10,
   "metadata": {},
   "outputs": [],
   "source": [
    "test_x = []\n",
    "for file in test_path:\n",
    "    gfile = tf.io.read_file(file)\n",
    "    image = tf.io.decode_image(gfile)\n",
    "    image = tf.image.resize(image, [50, 50])\n",
    "    image = tf.image.rgb_to_grayscale(image)\n",
    "    test_x.append(np.asarray(image))"
   ]
  },
  {
   "cell_type": "code",
   "execution_count": 11,
   "metadata": {},
   "outputs": [],
   "source": [
    "test_y = [get_label(file) for file in test_path]"
   ]
  },
  {
   "cell_type": "code",
   "execution_count": 12,
   "metadata": {},
   "outputs": [
    {
     "data": {
      "text/plain": [
       "(50, 50, 1)"
      ]
     },
     "execution_count": 12,
     "metadata": {},
     "output_type": "execute_result"
    }
   ],
   "source": [
    "train_x[10].shape"
   ]
  },
  {
   "cell_type": "code",
   "execution_count": 13,
   "metadata": {},
   "outputs": [
    {
     "name": "stdout",
     "output_type": "stream",
     "text": [
      "<class 'numpy.ndarray'>\n"
     ]
    }
   ],
   "source": [
    "type(train_x[0].shape)\n",
    "print(type(np.array(train_x[0])))"
   ]
  },
  {
   "cell_type": "code",
   "execution_count": 14,
   "metadata": {},
   "outputs": [
    {
     "data": {
      "text/plain": [
       "13395"
      ]
     },
     "execution_count": 14,
     "metadata": {},
     "output_type": "execute_result"
    }
   ],
   "source": [
    "len(train_y)"
   ]
  },
  {
   "cell_type": "code",
   "execution_count": 15,
   "metadata": {},
   "outputs": [
    {
     "data": {
      "text/plain": [
       "(array(['0', '1', '2'], dtype='<U1'), array([4478, 4419, 4498]))"
      ]
     },
     "execution_count": 15,
     "metadata": {},
     "output_type": "execute_result"
    }
   ],
   "source": [
    "np.unique(train_y, return_counts=True)"
   ]
  },
  {
   "cell_type": "code",
   "execution_count": 16,
   "metadata": {},
   "outputs": [
    {
     "data": {
      "text/plain": [
       "(array(['0', '1', '2'], dtype='<U1'), array([496, 489, 498]))"
      ]
     },
     "execution_count": 16,
     "metadata": {},
     "output_type": "execute_result"
    }
   ],
   "source": [
    "np.unique(test_y, return_counts=True)"
   ]
  },
  {
   "cell_type": "code",
   "execution_count": 17,
   "metadata": {},
   "outputs": [],
   "source": [
    "train_x = np.asarray(train_x)\n",
    "train_y = np.asarray(train_y)\n",
    "test_x = np.asarray(test_x)\n",
    "test_y = np.asarray(test_y)"
   ]
  },
  {
   "cell_type": "code",
   "execution_count": 18,
   "metadata": {},
   "outputs": [],
   "source": [
    "train_x = train_x/255\n",
    "test_x = test_x/255"
   ]
  },
  {
   "cell_type": "code",
   "execution_count": 19,
   "metadata": {},
   "outputs": [],
   "source": [
    "train_y = to_categorical(train_y, 3)\n",
    "test_y = to_categorical(test_y, 3)"
   ]
  },
  {
   "cell_type": "code",
   "execution_count": 20,
   "metadata": {},
   "outputs": [
    {
     "data": {
      "text/plain": [
       "(13395, 50, 50, 1)"
      ]
     },
     "execution_count": 20,
     "metadata": {},
     "output_type": "execute_result"
    }
   ],
   "source": [
    "train_x.shape"
   ]
  },
  {
   "cell_type": "code",
   "execution_count": 21,
   "metadata": {},
   "outputs": [],
   "source": [
    "train_x = np.squeeze(train_x)\n",
    "test_x = np.squeeze(test_x)"
   ]
  },
  {
   "cell_type": "markdown",
   "metadata": {},
   "source": [
    "# build model"
   ]
  },
  {
   "cell_type": "markdown",
   "metadata": {},
   "source": [
    "### hyperparams"
   ]
  },
  {
   "cell_type": "code",
   "execution_count": 22,
   "metadata": {},
   "outputs": [],
   "source": [
    "input_shape = (50,50)\n",
    "batch_size = 5\n",
    "learning_rate = 0.0001\n",
    "dropout_rate = 0.4\n",
    "num_classes=3\n",
    "num_epochs=100"
   ]
  },
  {
   "cell_type": "code",
   "execution_count": 23,
   "metadata": {},
   "outputs": [],
   "source": [
    "#MODEL_SAVE_FOLDER_PATH = \"./model/\"\n",
    "#if not os.path.exists(MODEL_SAVE_FOLDER_PATH):\n",
    "#    os.mkdir(MODEL_SAVE_FOLDER_PATH)\n",
    "#MODEL_PATH = MODEL_SAVE_FOLDER_PATH + \"fd-\" + \"{epoch:02d}.hdf5\""
   ]
  },
  {
   "cell_type": "code",
   "execution_count": 24,
   "metadata": {},
   "outputs": [],
   "source": [
    "#checkpoint = ModelCheckpoint(\n",
    "#    filepath=MODEL_PATH,\n",
    "#    monitor=\"val_loss\",\n",
    "#    verbose=1,\n",
    "#    save_best_only=True\n",
    "#)\n",
    "early_stopping = EarlyStopping(\n",
    "    monitor=\"val_loss\",\n",
    "    patience=10\n",
    ")"
   ]
  },
  {
   "cell_type": "markdown",
   "metadata": {},
   "source": [
    "### model structure"
   ]
  },
  {
   "cell_type": "code",
   "execution_count": 25,
   "metadata": {},
   "outputs": [],
   "source": [
    "inputs = layers.Input(input_shape)\n",
    "net = layers.Flatten()(inputs)\n",
    "\n",
    "# 1 hidden layer\n",
    "net = layers.Dense(128)(net)\n",
    "net = layers.Activation(\"relu\")(net)\n",
    "net = layers.Dropout(dropout_rate)(net)\n",
    "net = layers.Dense(num_classes)(net)\n",
    "# 2 hidden layer\n",
    "net = layers.Dense(128)(net)\n",
    "net = layers.Activation(\"relu\")(net)\n",
    "net = layers.Dropout(dropout_rate)(net)\n",
    "net = layers.Dense(num_classes)(net)\n",
    "\n",
    "#주의: binary classification에서는 output dense가 1이다 \n",
    "net = layers.Activation(\"softmax\")(net)\n",
    "#net = layers.Activation(\"sigmoid\")(net)\n",
    "\n",
    "model = tf.keras.Model(inputs=inputs, outputs=net, name=\"NN\")"
   ]
  },
  {
   "cell_type": "code",
   "execution_count": 26,
   "metadata": {},
   "outputs": [],
   "source": [
    "model.compile(\n",
    "    optimizer=tf.keras.optimizers.Adam(learning_rate),\n",
    "    loss=\"categorical_crossentropy\",\n",
    "    metrics=[\"accuracy\"]\n",
    ")"
   ]
  },
  {
   "cell_type": "code",
   "execution_count": 27,
   "metadata": {},
   "outputs": [],
   "source": [
    "train_y = train_y.astype(\"int32\")\n",
    "test_y = test_y.astype(\"int32\")"
   ]
  },
  {
   "cell_type": "code",
   "execution_count": 28,
   "metadata": {},
   "outputs": [
    {
     "data": {
      "text/plain": [
       "array([0, 0, 1], dtype=int32)"
      ]
     },
     "execution_count": 28,
     "metadata": {},
     "output_type": "execute_result"
    }
   ],
   "source": [
    "test_y[12]"
   ]
  },
  {
   "cell_type": "code",
   "execution_count": 29,
   "metadata": {},
   "outputs": [
    {
     "name": "stdout",
     "output_type": "stream",
     "text": [
      "Train on 13395 samples, validate on 1483 samples\n",
      "Epoch 1/100\n",
      "13395/13395 [==============================] - 6s 471us/sample - loss: 0.7962 - accuracy: 0.6137 - val_loss: 0.5932 - val_accuracy: 0.7451\n",
      "Epoch 2/100\n",
      "13395/13395 [==============================] - 5s 339us/sample - loss: 0.6150 - accuracy: 0.7330 - val_loss: 0.5556 - val_accuracy: 0.7579\n",
      "Epoch 3/100\n",
      "13395/13395 [==============================] - 5s 343us/sample - loss: 0.5644 - accuracy: 0.7539 - val_loss: 0.4979 - val_accuracy: 0.7957\n",
      "Epoch 4/100\n",
      "13395/13395 [==============================] - 5s 351us/sample - loss: 0.5368 - accuracy: 0.7642 - val_loss: 0.4740 - val_accuracy: 0.7964\n",
      "Epoch 5/100\n",
      "13395/13395 [==============================] - 5s 388us/sample - loss: 0.5202 - accuracy: 0.7756 - val_loss: 0.4669 - val_accuracy: 0.7869\n",
      "Epoch 6/100\n",
      "13395/13395 [==============================] - 5s 383us/sample - loss: 0.5012 - accuracy: 0.7857 - val_loss: 0.4430 - val_accuracy: 0.8233\n",
      "Epoch 7/100\n",
      "13395/13395 [==============================] - 6s 441us/sample - loss: 0.4804 - accuracy: 0.7976 - val_loss: 0.4484 - val_accuracy: 0.8152\n",
      "Epoch 8/100\n",
      "13395/13395 [==============================] - 6s 437us/sample - loss: 0.4660 - accuracy: 0.8003 - val_loss: 0.4120 - val_accuracy: 0.8294\n",
      "Epoch 9/100\n",
      "13395/13395 [==============================] - 5s 404us/sample - loss: 0.4556 - accuracy: 0.8116 - val_loss: 0.4040 - val_accuracy: 0.8395\n",
      "Epoch 10/100\n",
      "13395/13395 [==============================] - 5s 382us/sample - loss: 0.4449 - accuracy: 0.8105 - val_loss: 0.4042 - val_accuracy: 0.8361\n",
      "Epoch 11/100\n",
      "13395/13395 [==============================] - 6s 420us/sample - loss: 0.4300 - accuracy: 0.8166 - val_loss: 0.3960 - val_accuracy: 0.8361\n",
      "Epoch 12/100\n",
      "13395/13395 [==============================] - 6s 419us/sample - loss: 0.4243 - accuracy: 0.8221 - val_loss: 0.4105 - val_accuracy: 0.8233\n",
      "Epoch 13/100\n",
      "13395/13395 [==============================] - 5s 393us/sample - loss: 0.4112 - accuracy: 0.8275 - val_loss: 0.3929 - val_accuracy: 0.8388\n",
      "Epoch 14/100\n",
      "13395/13395 [==============================] - 6s 438us/sample - loss: 0.4050 - accuracy: 0.8281 - val_loss: 0.3760 - val_accuracy: 0.8449\n",
      "Epoch 15/100\n",
      "13395/13395 [==============================] - 6s 413us/sample - loss: 0.3993 - accuracy: 0.8320 - val_loss: 0.3608 - val_accuracy: 0.8523\n",
      "Epoch 16/100\n",
      "13395/13395 [==============================] - 6s 447us/sample - loss: 0.3977 - accuracy: 0.8310 - val_loss: 0.3600 - val_accuracy: 0.8564\n",
      "Epoch 17/100\n",
      "13395/13395 [==============================] - 6s 444us/sample - loss: 0.3914 - accuracy: 0.8325 - val_loss: 0.3394 - val_accuracy: 0.8577\n",
      "Epoch 18/100\n",
      "13395/13395 [==============================] - 5s 395us/sample - loss: 0.3818 - accuracy: 0.8410 - val_loss: 0.3436 - val_accuracy: 0.8597\n",
      "Epoch 19/100\n",
      "13395/13395 [==============================] - 6s 443us/sample - loss: 0.3801 - accuracy: 0.8427 - val_loss: 0.3527 - val_accuracy: 0.8550\n",
      "Epoch 20/100\n",
      "13395/13395 [==============================] - 6s 427us/sample - loss: 0.3794 - accuracy: 0.8429 - val_loss: 0.3360 - val_accuracy: 0.8570\n",
      "Epoch 21/100\n",
      "13395/13395 [==============================] - 6s 444us/sample - loss: 0.3701 - accuracy: 0.8452 - val_loss: 0.3220 - val_accuracy: 0.8719\n",
      "Epoch 22/100\n",
      "13395/13395 [==============================] - 6s 467us/sample - loss: 0.3605 - accuracy: 0.8502 - val_loss: 0.3410 - val_accuracy: 0.8631\n",
      "Epoch 23/100\n",
      "13395/13395 [==============================] - 6s 415us/sample - loss: 0.3669 - accuracy: 0.8487 - val_loss: 0.3268 - val_accuracy: 0.8705\n",
      "Epoch 24/100\n",
      "13395/13395 [==============================] - 6s 432us/sample - loss: 0.3575 - accuracy: 0.8517 - val_loss: 0.3314 - val_accuracy: 0.8651\n",
      "Epoch 25/100\n",
      "13395/13395 [==============================] - 5s 405us/sample - loss: 0.3622 - accuracy: 0.8498 - val_loss: 0.3335 - val_accuracy: 0.8651\n",
      "Epoch 26/100\n",
      "13395/13395 [==============================] - 5s 380us/sample - loss: 0.3521 - accuracy: 0.8563 - val_loss: 0.3231 - val_accuracy: 0.8726\n",
      "Epoch 27/100\n",
      "13395/13395 [==============================] - 6s 451us/sample - loss: 0.3485 - accuracy: 0.8532 - val_loss: 0.3278 - val_accuracy: 0.8624\n",
      "Epoch 28/100\n",
      "13395/13395 [==============================] - 6s 477us/sample - loss: 0.3462 - accuracy: 0.8554 - val_loss: 0.3502 - val_accuracy: 0.8665\n",
      "Epoch 29/100\n",
      "13395/13395 [==============================] - 6s 427us/sample - loss: 0.3435 - accuracy: 0.8564 - val_loss: 0.3102 - val_accuracy: 0.8800\n",
      "Epoch 30/100\n",
      "13395/13395 [==============================] - 5s 377us/sample - loss: 0.3365 - accuracy: 0.8593 - val_loss: 0.3498 - val_accuracy: 0.8685\n",
      "Epoch 31/100\n",
      "13395/13395 [==============================] - 5s 375us/sample - loss: 0.3314 - accuracy: 0.8659 - val_loss: 0.3628 - val_accuracy: 0.8483\n",
      "Epoch 32/100\n",
      "13395/13395 [==============================] - 5s 373us/sample - loss: 0.3355 - accuracy: 0.8597 - val_loss: 0.2969 - val_accuracy: 0.8867\n",
      "Epoch 33/100\n",
      "13395/13395 [==============================] - 5s 387us/sample - loss: 0.3305 - accuracy: 0.8614 - val_loss: 0.3130 - val_accuracy: 0.8813\n",
      "Epoch 34/100\n",
      "13395/13395 [==============================] - 5s 394us/sample - loss: 0.3227 - accuracy: 0.8685 - val_loss: 0.3314 - val_accuracy: 0.8665\n",
      "Epoch 35/100\n",
      "13395/13395 [==============================] - 6s 471us/sample - loss: 0.3252 - accuracy: 0.8651 - val_loss: 0.2988 - val_accuracy: 0.8854\n",
      "Epoch 36/100\n",
      "13395/13395 [==============================] - 6s 483us/sample - loss: 0.3235 - accuracy: 0.8657 - val_loss: 0.3110 - val_accuracy: 0.8753\n",
      "Epoch 37/100\n",
      "13395/13395 [==============================] - 5s 375us/sample - loss: 0.3220 - accuracy: 0.8656 - val_loss: 0.2879 - val_accuracy: 0.8847\n",
      "Epoch 38/100\n",
      "13395/13395 [==============================] - 6s 437us/sample - loss: 0.3202 - accuracy: 0.8706 - val_loss: 0.2993 - val_accuracy: 0.8854\n",
      "Epoch 39/100\n",
      "13395/13395 [==============================] - 5s 403us/sample - loss: 0.3135 - accuracy: 0.8700 - val_loss: 0.2890 - val_accuracy: 0.8840\n",
      "Epoch 40/100\n",
      "13395/13395 [==============================] - 6s 415us/sample - loss: 0.3131 - accuracy: 0.8714 - val_loss: 0.2964 - val_accuracy: 0.8908\n",
      "Epoch 41/100\n",
      "13395/13395 [==============================] - 7s 549us/sample - loss: 0.3127 - accuracy: 0.8735 - val_loss: 0.3034 - val_accuracy: 0.8854\n",
      "Epoch 42/100\n",
      "13395/13395 [==============================] - 5s 400us/sample - loss: 0.3130 - accuracy: 0.8729 - val_loss: 0.2955 - val_accuracy: 0.8827\n",
      "Epoch 43/100\n",
      "13395/13395 [==============================] - 8s 580us/sample - loss: 0.3111 - accuracy: 0.8727 - val_loss: 0.2786 - val_accuracy: 0.8881\n",
      "Epoch 44/100\n",
      "13395/13395 [==============================] - 6s 411us/sample - loss: 0.3059 - accuracy: 0.8767 - val_loss: 0.2792 - val_accuracy: 0.8941\n",
      "Epoch 45/100\n",
      "13395/13395 [==============================] - 6s 461us/sample - loss: 0.3050 - accuracy: 0.8771 - val_loss: 0.3312 - val_accuracy: 0.8739\n",
      "Epoch 46/100\n",
      "13395/13395 [==============================] - 6s 446us/sample - loss: 0.2973 - accuracy: 0.8803 - val_loss: 0.2822 - val_accuracy: 0.8887\n",
      "Epoch 47/100\n",
      "13395/13395 [==============================] - 7s 496us/sample - loss: 0.3065 - accuracy: 0.8779 - val_loss: 0.2825 - val_accuracy: 0.8874\n",
      "Epoch 48/100\n",
      "13395/13395 [==============================] - 7s 504us/sample - loss: 0.2933 - accuracy: 0.8789 - val_loss: 0.2919 - val_accuracy: 0.8881\n",
      "Epoch 49/100\n",
      "13395/13395 [==============================] - 6s 436us/sample - loss: 0.2948 - accuracy: 0.8825 - val_loss: 0.2669 - val_accuracy: 0.8941\n",
      "Epoch 50/100\n",
      "13395/13395 [==============================] - 6s 445us/sample - loss: 0.2924 - accuracy: 0.8806 - val_loss: 0.2724 - val_accuracy: 0.8935\n",
      "Epoch 51/100\n",
      "13395/13395 [==============================] - 6s 425us/sample - loss: 0.2972 - accuracy: 0.8799 - val_loss: 0.2757 - val_accuracy: 0.8948\n",
      "Epoch 52/100\n",
      "13395/13395 [==============================] - 6s 447us/sample - loss: 0.2894 - accuracy: 0.8830 - val_loss: 0.2630 - val_accuracy: 0.8975\n",
      "Epoch 53/100\n",
      "13395/13395 [==============================] - 6s 457us/sample - loss: 0.2933 - accuracy: 0.8815 - val_loss: 0.2902 - val_accuracy: 0.8894\n",
      "Epoch 54/100\n",
      "13395/13395 [==============================] - 6s 465us/sample - loss: 0.2938 - accuracy: 0.8851 - val_loss: 0.2919 - val_accuracy: 0.8840\n",
      "Epoch 55/100\n",
      "13395/13395 [==============================] - 6s 464us/sample - loss: 0.2925 - accuracy: 0.8821 - val_loss: 0.2678 - val_accuracy: 0.8935\n",
      "Epoch 56/100\n",
      "13395/13395 [==============================] - 6s 466us/sample - loss: 0.2790 - accuracy: 0.8878 - val_loss: 0.2771 - val_accuracy: 0.8948\n",
      "Epoch 57/100\n",
      "13395/13395 [==============================] - 7s 487us/sample - loss: 0.2874 - accuracy: 0.8850 - val_loss: 0.2598 - val_accuracy: 0.8989\n",
      "Epoch 58/100\n",
      "13395/13395 [==============================] - 7s 510us/sample - loss: 0.2896 - accuracy: 0.8813 - val_loss: 0.2659 - val_accuracy: 0.8955\n",
      "Epoch 59/100\n",
      "13395/13395 [==============================] - 6s 481us/sample - loss: 0.2840 - accuracy: 0.8833 - val_loss: 0.2846 - val_accuracy: 0.8908\n",
      "Epoch 60/100\n",
      "13395/13395 [==============================] - 8s 561us/sample - loss: 0.2876 - accuracy: 0.8836 - val_loss: 0.2757 - val_accuracy: 0.8935\n",
      "Epoch 61/100\n",
      "13395/13395 [==============================] - 7s 515us/sample - loss: 0.2761 - accuracy: 0.8873 - val_loss: 0.3003 - val_accuracy: 0.8874\n",
      "Epoch 62/100\n",
      "13395/13395 [==============================] - 7s 487us/sample - loss: 0.2821 - accuracy: 0.8855 - val_loss: 0.2955 - val_accuracy: 0.8840\n",
      "Epoch 63/100\n",
      "13395/13395 [==============================] - 7s 504us/sample - loss: 0.2758 - accuracy: 0.8933 - val_loss: 0.2714 - val_accuracy: 0.8955\n",
      "Epoch 64/100\n",
      "13395/13395 [==============================] - 6s 462us/sample - loss: 0.2784 - accuracy: 0.8867 - val_loss: 0.2704 - val_accuracy: 0.9022\n",
      "Epoch 65/100\n",
      "13395/13395 [==============================] - 7s 498us/sample - loss: 0.2768 - accuracy: 0.8900 - val_loss: 0.2816 - val_accuracy: 0.8989\n",
      "Epoch 66/100\n",
      "13395/13395 [==============================] - 6s 446us/sample - loss: 0.2641 - accuracy: 0.8944 - val_loss: 0.2504 - val_accuracy: 0.9036\n",
      "Epoch 67/100\n",
      "13395/13395 [==============================] - 7s 493us/sample - loss: 0.2753 - accuracy: 0.8894 - val_loss: 0.2610 - val_accuracy: 0.9029\n",
      "Epoch 68/100\n",
      "13395/13395 [==============================] - 7s 490us/sample - loss: 0.2745 - accuracy: 0.8925 - val_loss: 0.2526 - val_accuracy: 0.9022\n",
      "Epoch 69/100\n",
      "13395/13395 [==============================] - 6s 439us/sample - loss: 0.2733 - accuracy: 0.8895 - val_loss: 0.2500 - val_accuracy: 0.9036\n",
      "Epoch 70/100\n",
      "13395/13395 [==============================] - 7s 486us/sample - loss: 0.2633 - accuracy: 0.8956 - val_loss: 0.2590 - val_accuracy: 0.9009\n",
      "Epoch 71/100\n",
      "13395/13395 [==============================] - 5s 401us/sample - loss: 0.2703 - accuracy: 0.8917 - val_loss: 0.2569 - val_accuracy: 0.9049\n",
      "Epoch 72/100\n",
      "13395/13395 [==============================] - 7s 522us/sample - loss: 0.2667 - accuracy: 0.8940 - val_loss: 0.2835 - val_accuracy: 0.8887\n",
      "Epoch 73/100\n",
      "13395/13395 [==============================] - 7s 495us/sample - loss: 0.2613 - accuracy: 0.8944 - val_loss: 0.2578 - val_accuracy: 0.9049\n",
      "Epoch 74/100\n",
      "13395/13395 [==============================] - 6s 455us/sample - loss: 0.2711 - accuracy: 0.8913 - val_loss: 0.2542 - val_accuracy: 0.9002\n",
      "Epoch 75/100\n",
      "13395/13395 [==============================] - 7s 516us/sample - loss: 0.2627 - accuracy: 0.8991 - val_loss: 0.2671 - val_accuracy: 0.8955\n",
      "Epoch 76/100\n",
      "13395/13395 [==============================] - 7s 524us/sample - loss: 0.2703 - accuracy: 0.8935 - val_loss: 0.2604 - val_accuracy: 0.8995\n",
      "Epoch 77/100\n",
      "13395/13395 [==============================] - 7s 525us/sample - loss: 0.2671 - accuracy: 0.8958 - val_loss: 0.2785 - val_accuracy: 0.8887\n",
      "Epoch 78/100\n",
      "13395/13395 [==============================] - 6s 457us/sample - loss: 0.2669 - accuracy: 0.8948 - val_loss: 0.2481 - val_accuracy: 0.9036\n",
      "Epoch 79/100\n",
      "13395/13395 [==============================] - 6s 456us/sample - loss: 0.2576 - accuracy: 0.8977 - val_loss: 0.2656 - val_accuracy: 0.9002\n",
      "Epoch 80/100\n",
      "13395/13395 [==============================] - 6s 465us/sample - loss: 0.2604 - accuracy: 0.8959 - val_loss: 0.2661 - val_accuracy: 0.8982\n",
      "Epoch 81/100\n",
      "13395/13395 [==============================] - 7s 500us/sample - loss: 0.2634 - accuracy: 0.8932 - val_loss: 0.2677 - val_accuracy: 0.8989\n",
      "Epoch 82/100\n",
      "13395/13395 [==============================] - 7s 495us/sample - loss: 0.2623 - accuracy: 0.8954 - val_loss: 0.2587 - val_accuracy: 0.9029\n",
      "Epoch 83/100\n",
      "13395/13395 [==============================] - 7s 514us/sample - loss: 0.2495 - accuracy: 0.9006 - val_loss: 0.2614 - val_accuracy: 0.8955\n",
      "Epoch 84/100\n",
      "13395/13395 [==============================] - 6s 446us/sample - loss: 0.2615 - accuracy: 0.8963 - val_loss: 0.2626 - val_accuracy: 0.9090\n",
      "Epoch 85/100\n",
      "13395/13395 [==============================] - 7s 494us/sample - loss: 0.2561 - accuracy: 0.8988 - val_loss: 0.2738 - val_accuracy: 0.8968\n",
      "Epoch 86/100\n",
      "13395/13395 [==============================] - 6s 468us/sample - loss: 0.2622 - accuracy: 0.8973 - val_loss: 0.2462 - val_accuracy: 0.9083\n",
      "Epoch 87/100\n",
      "13395/13395 [==============================] - 6s 460us/sample - loss: 0.2517 - accuracy: 0.9001 - val_loss: 0.2636 - val_accuracy: 0.8962\n",
      "Epoch 88/100\n",
      "13395/13395 [==============================] - 7s 529us/sample - loss: 0.2498 - accuracy: 0.9003 - val_loss: 0.2682 - val_accuracy: 0.9002\n",
      "Epoch 89/100\n",
      "13395/13395 [==============================] - 7s 519us/sample - loss: 0.2513 - accuracy: 0.9002 - val_loss: 0.2505 - val_accuracy: 0.9096\n",
      "Epoch 90/100\n",
      "13395/13395 [==============================] - 6s 476us/sample - loss: 0.2543 - accuracy: 0.8973 - val_loss: 0.2618 - val_accuracy: 0.9056\n",
      "Epoch 91/100\n",
      "13395/13395 [==============================] - 7s 516us/sample - loss: 0.2508 - accuracy: 0.8988 - val_loss: 0.2469 - val_accuracy: 0.9069\n",
      "Epoch 92/100\n",
      "13395/13395 [==============================] - 6s 464us/sample - loss: 0.2505 - accuracy: 0.9016 - val_loss: 0.2536 - val_accuracy: 0.9069\n",
      "Epoch 93/100\n",
      "13395/13395 [==============================] - 7s 493us/sample - loss: 0.2526 - accuracy: 0.9016 - val_loss: 0.2592 - val_accuracy: 0.9096\n",
      "Epoch 94/100\n",
      "13395/13395 [==============================] - 7s 516us/sample - loss: 0.2473 - accuracy: 0.9011 - val_loss: 0.2626 - val_accuracy: 0.9036\n",
      "Epoch 95/100\n",
      "13395/13395 [==============================] - 6s 480us/sample - loss: 0.2447 - accuracy: 0.9039 - val_loss: 0.2487 - val_accuracy: 0.9117\n",
      "Epoch 96/100\n",
      "13395/13395 [==============================] - 6s 443us/sample - loss: 0.2428 - accuracy: 0.9062 - val_loss: 0.2551 - val_accuracy: 0.9063\n"
     ]
    }
   ],
   "source": [
    "hist = model.fit(\n",
    "    train_x, train_y,\n",
    "    validation_data=(test_x, test_y),\n",
    "    epochs=num_epochs,\n",
    "    batch_size=batch_size,\n",
    "    callbacks=[early_stopping]\n",
    ")"
   ]
  },
  {
   "cell_type": "code",
   "execution_count": 30,
   "metadata": {},
   "outputs": [
    {
     "name": "stdout",
     "output_type": "stream",
     "text": [
      "Model: \"NN\"\n",
      "_________________________________________________________________\n",
      "Layer (type)                 Output Shape              Param #   \n",
      "=================================================================\n",
      "input_1 (InputLayer)         [(None, 50, 50)]          0         \n",
      "_________________________________________________________________\n",
      "flatten (Flatten)            (None, 2500)              0         \n",
      "_________________________________________________________________\n",
      "dense (Dense)                (None, 128)               320128    \n",
      "_________________________________________________________________\n",
      "activation (Activation)      (None, 128)               0         \n",
      "_________________________________________________________________\n",
      "dropout (Dropout)            (None, 128)               0         \n",
      "_________________________________________________________________\n",
      "dense_1 (Dense)              (None, 3)                 387       \n",
      "_________________________________________________________________\n",
      "dense_2 (Dense)              (None, 128)               512       \n",
      "_________________________________________________________________\n",
      "activation_1 (Activation)    (None, 128)               0         \n",
      "_________________________________________________________________\n",
      "dropout_1 (Dropout)          (None, 128)               0         \n",
      "_________________________________________________________________\n",
      "dense_3 (Dense)              (None, 3)                 387       \n",
      "_________________________________________________________________\n",
      "activation_2 (Activation)    (None, 3)                 0         \n",
      "=================================================================\n",
      "Total params: 321,414\n",
      "Trainable params: 321,414\n",
      "Non-trainable params: 0\n",
      "_________________________________________________________________\n"
     ]
    }
   ],
   "source": [
    "model.summary()"
   ]
  },
  {
   "cell_type": "code",
   "execution_count": 31,
   "metadata": {},
   "outputs": [
    {
     "data": {
      "image/png": "[encoded data removed]",
      "text/plain": [
       "<Figure size 432x288 with 2 Axes>"
      ]
     },
     "metadata": {
      "needs_background": "light"
     },
     "output_type": "display_data"
    }
   ],
   "source": [
    "%matplotlib inline\n",
    "import matplotlib.pyplot as plt\n",
    "\n",
    "fig, loss_ax = plt.subplots()\n",
    "\n",
    "acc_ax = loss_ax.twinx()\n",
    "\n",
    "loss_ax.plot(hist.history['loss'], 'y', label='train loss')\n",
    "loss_ax.plot(hist.history['val_loss'], 'r', label='val loss')\n",
    "\n",
    "acc_ax.plot(hist.history['accuracy'], 'b', label='train acc')\n",
    "acc_ax.plot(hist.history['val_accuracy'], 'g', label='val acc')\n",
    "\n",
    "loss_ax.set_xlabel('epoch')\n",
    "loss_ax.set_ylabel('loss')\n",
    "acc_ax.set_ylabel('accuray')\n",
    "\n",
    "loss_ax.legend(loc='upper left')\n",
    "acc_ax.legend(loc='lower left')\n",
    "\n",
    "plt.show()"
   ]
  },
  {
   "cell_type": "code",
   "execution_count": 1,
   "metadata": {},
   "outputs": [],
   "source": []
  },
  {
   "cell_type": "code",
   "execution_count": null,
   "metadata": {},
   "outputs": [],
   "source": []
  }
 ],
 "metadata": {
  "kernelspec": {
   "display_name": "tf2",
   "language": "python",
   "name": "tf2"
  },
  "language_info": {
   "codemirror_mode": {
    "name": "ipython",
    "version": 3
   },
   "file_extension": ".py",
   "mimetype": "text/x-python",
   "name": "python",
   "nbconvert_exporter": "python",
   "pygments_lexer": "ipython3",
   "version": "3.7.7"
  }
 },
 "nbformat": 4,
 "nbformat_minor": 4
}
