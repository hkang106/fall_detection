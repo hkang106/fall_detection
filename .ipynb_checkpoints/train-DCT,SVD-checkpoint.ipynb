{
 "cells": [
  {
   "cell_type": "code",
   "execution_count": 1,
   "metadata": {},
   "outputs": [],
   "source": [
    "import tensorflow as tf\n",
    "from tensorflow.keras.preprocessing.image import ImageDataGenerator\n",
    "from tensorflow.keras import layers\n",
    "from tensorflow.keras.callbacks import ModelCheckpoint, EarlyStopping\n",
    "from tensorflow.keras.utils import to_categorical\n",
    "from tensorflow.keras.datasets import mnist"
   ]
  },
  {
   "cell_type": "code",
   "execution_count": 2,
   "metadata": {},
   "outputs": [],
   "source": [
    "import os \n",
    "from glob import glob\n",
    "import random\n",
    "import numpy as np"
   ]
  },
  {
   "cell_type": "code",
   "execution_count": 3,
   "metadata": {},
   "outputs": [
    {
     "data": {
      "text/plain": [
       "['1', '2', '.ipynb_checkpoints', '0']"
      ]
     },
     "execution_count": 3,
     "metadata": {},
     "output_type": "execute_result"
    }
   ],
   "source": [
    "os.listdir(\"cropped_dataset/train\")"
   ]
  },
  {
   "cell_type": "code",
   "execution_count": 4,
   "metadata": {},
   "outputs": [],
   "source": [
    "train_dir = \"cropped_dataset/train\" \n",
    "test_dir = \"cropped_dataset/test\""
   ]
  },
  {
   "cell_type": "markdown",
   "metadata": {},
   "source": [
    "# fit 데이터셋 만들기"
   ]
  },
  {
   "cell_type": "code",
   "execution_count": 5,
   "metadata": {},
   "outputs": [],
   "source": [
    "train_path = glob(train_dir+\"/*/*.jpg\")\n",
    "test_path = glob(test_dir+\"/*/*.jpg\")"
   ]
  },
  {
   "cell_type": "code",
   "execution_count": 6,
   "metadata": {},
   "outputs": [
    {
     "name": "stdout",
     "output_type": "stream",
     "text": [
      "cropped_dataset/train/1/aug_3_0_4612.jpg\n",
      "cropped_dataset/test/0/aug_1_2_0_3803.jpg\n"
     ]
    }
   ],
   "source": [
    "\n",
    "random.seed(0)\n",
    "random.shuffle(train_path)\n",
    "random.shuffle(test_path)\n",
    "print(train_path[0])\n",
    "print(test_path[0])"
   ]
  },
  {
   "cell_type": "code",
   "execution_count": 7,
   "metadata": {},
   "outputs": [],
   "source": [
    "def get_label(filepath):\n",
    "    return filepath.split(\"/\")[-2]"
   ]
  },
  {
   "cell_type": "code",
   "execution_count": 8,
   "metadata": {},
   "outputs": [],
   "source": [
    "train_x = []\n",
    "for file in train_path:\n",
    "    gfile = tf.io.read_file(file)\n",
    "    image = tf.io.decode_image(gfile)\n",
    "    image = tf.image.resize(image, [50, 50])\n",
    "    image = tf.image.rgb_to_grayscale(image)\n",
    "    train_x.append(np.asarray(image))"
   ]
  },
  {
   "cell_type": "code",
   "execution_count": 9,
   "metadata": {},
   "outputs": [],
   "source": [
    "train_y = [get_label(file) for file in train_path]"
   ]
  },
  {
   "cell_type": "code",
   "execution_count": 10,
   "metadata": {},
   "outputs": [],
   "source": [
    "test_x = []\n",
    "for file in test_path:\n",
    "    gfile = tf.io.read_file(file)\n",
    "    image = tf.io.decode_image(gfile)\n",
    "    image = tf.image.resize(image, [50, 50])\n",
    "    image = tf.image.rgb_to_grayscale(image)\n",
    "    test_x.append(np.asarray(image))"
   ]
  },
  {
   "cell_type": "code",
   "execution_count": 11,
   "metadata": {},
   "outputs": [],
   "source": [
    "test_y = [get_label(file) for file in test_path]"
   ]
  },
  {
   "cell_type": "code",
   "execution_count": 12,
   "metadata": {},
   "outputs": [
    {
     "data": {
      "text/plain": [
       "(50, 50, 1)"
      ]
     },
     "execution_count": 12,
     "metadata": {},
     "output_type": "execute_result"
    }
   ],
   "source": [
    "train_x[10].shape"
   ]
  },
  {
   "cell_type": "code",
   "execution_count": 13,
   "metadata": {},
   "outputs": [
    {
     "name": "stdout",
     "output_type": "stream",
     "text": [
      "<class 'numpy.ndarray'>\n"
     ]
    }
   ],
   "source": [
    "type(train_x[0].shape)\n",
    "print(type(np.array(train_x[0])))"
   ]
  },
  {
   "cell_type": "code",
   "execution_count": 14,
   "metadata": {},
   "outputs": [
    {
     "data": {
      "text/plain": [
       "13395"
      ]
     },
     "execution_count": 14,
     "metadata": {},
     "output_type": "execute_result"
    }
   ],
   "source": [
    "len(train_y)"
   ]
  },
  {
   "cell_type": "code",
   "execution_count": 15,
   "metadata": {},
   "outputs": [
    {
     "data": {
      "text/plain": [
       "(array(['0', '1', '2'], dtype='<U1'), array([4478, 4419, 4498]))"
      ]
     },
     "execution_count": 15,
     "metadata": {},
     "output_type": "execute_result"
    }
   ],
   "source": [
    "np.unique(train_y, return_counts=True)"
   ]
  },
  {
   "cell_type": "code",
   "execution_count": 16,
   "metadata": {},
   "outputs": [
    {
     "data": {
      "text/plain": [
       "(array(['0', '1', '2'], dtype='<U1'), array([496, 489, 498]))"
      ]
     },
     "execution_count": 16,
     "metadata": {},
     "output_type": "execute_result"
    }
   ],
   "source": [
    "np.unique(test_y, return_counts=True)"
   ]
  },
  {
   "cell_type": "code",
   "execution_count": 17,
   "metadata": {},
   "outputs": [],
   "source": [
    "train_x = np.asarray(train_x)\n",
    "train_y = np.asarray(train_y)\n",
    "test_x = np.asarray(test_x)\n",
    "test_y = np.asarray(test_y)"
   ]
  },
  {
   "cell_type": "code",
   "execution_count": 18,
   "metadata": {},
   "outputs": [],
   "source": [
    "train_x = train_x/255\n",
    "test_x = test_x/255"
   ]
  },
  {
   "cell_type": "code",
   "execution_count": 19,
   "metadata": {},
   "outputs": [],
   "source": [
    "train_y = to_categorical(train_y, 3)\n",
    "test_y = to_categorical(test_y, 3)"
   ]
  },
  {
   "cell_type": "markdown",
   "metadata": {},
   "source": [
    "# Feature Extraction(DCT, SVD)"
   ]
  },
  {
   "cell_type": "code",
   "execution_count": 20,
   "metadata": {},
   "outputs": [],
   "source": [
    "#train_x_dct = [tf.signal.dct(tf.cast(image, tf.float32)) for image in train_x]"
   ]
  },
  {
   "cell_type": "code",
   "execution_count": 21,
   "metadata": {},
   "outputs": [],
   "source": [
    "#train_x_svd = [tf.linalg.svd(item, compute_uv=False) for item in train_x_dct]"
   ]
  },
  {
   "cell_type": "code",
   "execution_count": 22,
   "metadata": {},
   "outputs": [],
   "source": [
    "train_x_svd = [tf.linalg.svd(item, compute_uv=False) for item in train_x]"
   ]
  },
  {
   "cell_type": "code",
   "execution_count": 23,
   "metadata": {},
   "outputs": [],
   "source": [
    "#test_x_dct = [tf.signal.dct(tf.cast(image, tf.float32)) for image in test_x]"
   ]
  },
  {
   "cell_type": "code",
   "execution_count": 24,
   "metadata": {},
   "outputs": [],
   "source": [
    "#test_x_svd = [tf.linalg.svd(item, compute_uv=False) for item in test_x_dct]"
   ]
  },
  {
   "cell_type": "code",
   "execution_count": 25,
   "metadata": {},
   "outputs": [],
   "source": [
    "test_x_svd = [tf.linalg.svd(item, compute_uv=False) for item in test_x]"
   ]
  },
  {
   "cell_type": "code",
   "execution_count": 26,
   "metadata": {},
   "outputs": [],
   "source": [
    "train_x_feature = train_x_svd \n",
    "test_x_feature = test_x_svd"
   ]
  },
  {
   "cell_type": "code",
   "execution_count": 27,
   "metadata": {},
   "outputs": [
    {
     "data": {
      "text/plain": [
       "TensorShape([50, 1])"
      ]
     },
     "execution_count": 27,
     "metadata": {},
     "output_type": "execute_result"
    }
   ],
   "source": [
    "train_x_feature[0].shape"
   ]
  },
  {
   "cell_type": "code",
   "execution_count": 28,
   "metadata": {},
   "outputs": [],
   "source": [
    "train_x_feature = tf.convert_to_tensor(train_x_feature)\n",
    "test_x_feature = tf.convert_to_tensor(test_x_feature)"
   ]
  },
  {
   "cell_type": "code",
   "execution_count": 29,
   "metadata": {},
   "outputs": [
    {
     "data": {
      "text/plain": [
       "TensorShape([13395, 50, 1])"
      ]
     },
     "execution_count": 29,
     "metadata": {},
     "output_type": "execute_result"
    }
   ],
   "source": [
    "train_x_feature.shape"
   ]
  },
  {
   "cell_type": "code",
   "execution_count": 30,
   "metadata": {},
   "outputs": [
    {
     "data": {
      "text/plain": [
       "TensorShape([1483, 50, 1])"
      ]
     },
     "execution_count": 30,
     "metadata": {},
     "output_type": "execute_result"
    }
   ],
   "source": [
    "test_x_feature.shape"
   ]
  },
  {
   "cell_type": "code",
   "execution_count": 31,
   "metadata": {},
   "outputs": [],
   "source": [
    "train_x_feature = np.asarray(train_x_feature)"
   ]
  },
  {
   "cell_type": "code",
   "execution_count": 32,
   "metadata": {},
   "outputs": [],
   "source": [
    "test_x_feature = np.asarray(test_x_feature)"
   ]
  },
  {
   "cell_type": "code",
   "execution_count": 33,
   "metadata": {},
   "outputs": [
    {
     "data": {
      "text/plain": [
       "(13395, 50, 1)"
      ]
     },
     "execution_count": 33,
     "metadata": {},
     "output_type": "execute_result"
    }
   ],
   "source": [
    "train_x_feature.shape"
   ]
  },
  {
   "cell_type": "code",
   "execution_count": 34,
   "metadata": {},
   "outputs": [
    {
     "data": {
      "text/plain": [
       "(1483, 50, 1)"
      ]
     },
     "execution_count": 34,
     "metadata": {},
     "output_type": "execute_result"
    }
   ],
   "source": [
    "test_x_feature.shape"
   ]
  },
  {
   "cell_type": "markdown",
   "metadata": {},
   "source": [
    "# build model"
   ]
  },
  {
   "cell_type": "markdown",
   "metadata": {},
   "source": [
    "### hyperparams"
   ]
  },
  {
   "cell_type": "code",
   "execution_count": 35,
   "metadata": {},
   "outputs": [],
   "source": [
    "input_shape = (50,1)\n",
    "batch_size = 5\n",
    "learning_rate = 0.0001\n",
    "dropout_rate = 0.4\n",
    "num_classes=3\n",
    "num_epochs=100"
   ]
  },
  {
   "cell_type": "code",
   "execution_count": 36,
   "metadata": {},
   "outputs": [],
   "source": [
    "#MODEL_SAVE_FOLDER_PATH = \"./model/\"\n",
    "#if not os.path.exists(MODEL_SAVE_FOLDER_PATH):\n",
    "#    os.mkdir(MODEL_SAVE_FOLDER_PATH)\n",
    "#MODEL_PATH = MODEL_SAVE_FOLDER_PATH + \"fd-\" + \"{epoch:02d}.hdf5\""
   ]
  },
  {
   "cell_type": "code",
   "execution_count": 37,
   "metadata": {},
   "outputs": [],
   "source": [
    "#checkpoint = ModelCheckpoint(\n",
    "#    filepath=MODEL_PATH,\n",
    "#    monitor=\"val_loss\",\n",
    "#    verbose=1,\n",
    "#    save_best_only=True\n",
    "#)\n",
    "early_stopping = EarlyStopping(\n",
    "    monitor=\"val_loss\",\n",
    "    patience=10\n",
    ")"
   ]
  },
  {
   "cell_type": "markdown",
   "metadata": {},
   "source": [
    "### model structure"
   ]
  },
  {
   "cell_type": "code",
   "execution_count": 38,
   "metadata": {},
   "outputs": [],
   "source": [
    "inputs = layers.Input(input_shape)\n",
    "net = layers.Flatten()(inputs)\n",
    "\n",
    "# 1 hidden layer\n",
    "net = layers.Dense(128)(net)\n",
    "net = layers.Activation(\"relu\")(net)\n",
    "net = layers.Dropout(dropout_rate)(net)\n",
    "net = layers.Dense(num_classes)(net)\n",
    "# 2 hidden layer\n",
    "net = layers.Dense(128)(net)\n",
    "net = layers.Activation(\"relu\")(net)\n",
    "net = layers.Dropout(dropout_rate)(net)\n",
    "net = layers.Dense(num_classes)(net)\n",
    "\n",
    "#주의: binary classification에서는 output dense가 1이다 \n",
    "net = layers.Activation(\"softmax\")(net)\n",
    "#net = layers.Activation(\"sigmoid\")(net)\n",
    "\n",
    "model = tf.keras.Model(inputs=inputs, outputs=net, name=\"NN\")"
   ]
  },
  {
   "cell_type": "code",
   "execution_count": 39,
   "metadata": {},
   "outputs": [],
   "source": [
    "model.compile(\n",
    "    optimizer=tf.keras.optimizers.Adam(learning_rate),\n",
    "    loss=\"categorical_crossentropy\",\n",
    "    metrics=[\"accuracy\"]\n",
    ")"
   ]
  },
  {
   "cell_type": "code",
   "execution_count": 40,
   "metadata": {},
   "outputs": [],
   "source": [
    "train_y = train_y.astype(\"int32\")\n",
    "test_y = test_y.astype(\"int32\")"
   ]
  },
  {
   "cell_type": "code",
   "execution_count": 41,
   "metadata": {},
   "outputs": [
    {
     "data": {
      "text/plain": [
       "array([0, 0, 1], dtype=int32)"
      ]
     },
     "execution_count": 41,
     "metadata": {},
     "output_type": "execute_result"
    }
   ],
   "source": [
    "test_y[12]"
   ]
  },
  {
   "cell_type": "code",
   "execution_count": 42,
   "metadata": {},
   "outputs": [
    {
     "name": "stdout",
     "output_type": "stream",
     "text": [
      "Train on 13395 samples, validate on 1483 samples\n",
      "Epoch 1/100\n",
      "13395/13395 [==============================] - 5s 365us/sample - loss: 1.0304 - accuracy: 0.4564 - val_loss: 0.7991 - val_accuracy: 0.6440\n",
      "Epoch 2/100\n",
      "13395/13395 [==============================] - 4s 330us/sample - loss: 0.7917 - accuracy: 0.6354 - val_loss: 0.7133 - val_accuracy: 0.6817\n",
      "Epoch 3/100\n",
      "13395/13395 [==============================] - 4s 322us/sample - loss: 0.7414 - accuracy: 0.6630 - val_loss: 0.7012 - val_accuracy: 0.6918\n",
      "Epoch 4/100\n",
      "13395/13395 [==============================] - 4s 292us/sample - loss: 0.7190 - accuracy: 0.6783 - val_loss: 0.6762 - val_accuracy: 0.7033\n",
      "Epoch 5/100\n",
      "13395/13395 [==============================] - 4s 316us/sample - loss: 0.7042 - accuracy: 0.6846 - val_loss: 0.6590 - val_accuracy: 0.7080\n",
      "Epoch 6/100\n",
      "13395/13395 [==============================] - 5s 341us/sample - loss: 0.6941 - accuracy: 0.6888 - val_loss: 0.6549 - val_accuracy: 0.7168\n",
      "Epoch 7/100\n",
      "13395/13395 [==============================] - 5s 348us/sample - loss: 0.6846 - accuracy: 0.6993 - val_loss: 0.6419 - val_accuracy: 0.7141\n",
      "Epoch 8/100\n",
      "13395/13395 [==============================] - 4s 313us/sample - loss: 0.6720 - accuracy: 0.7012 - val_loss: 0.6343 - val_accuracy: 0.7269\n",
      "Epoch 9/100\n",
      "13395/13395 [==============================] - 5s 343us/sample - loss: 0.6654 - accuracy: 0.7022 - val_loss: 0.6258 - val_accuracy: 0.7262\n",
      "Epoch 10/100\n",
      "13395/13395 [==============================] - 4s 326us/sample - loss: 0.6576 - accuracy: 0.7097 - val_loss: 0.6190 - val_accuracy: 0.7262\n",
      "Epoch 11/100\n",
      "13395/13395 [==============================] - 5s 345us/sample - loss: 0.6549 - accuracy: 0.7107 - val_loss: 0.6153 - val_accuracy: 0.7323\n",
      "Epoch 12/100\n",
      "13395/13395 [==============================] - 4s 336us/sample - loss: 0.6522 - accuracy: 0.7113 - val_loss: 0.6174 - val_accuracy: 0.7310\n",
      "Epoch 13/100\n",
      "13395/13395 [==============================] - 5s 402us/sample - loss: 0.6428 - accuracy: 0.7183 - val_loss: 0.6105 - val_accuracy: 0.7323\n",
      "Epoch 14/100\n",
      "13395/13395 [==============================] - 4s 329us/sample - loss: 0.6403 - accuracy: 0.7152 - val_loss: 0.6015 - val_accuracy: 0.7370\n",
      "Epoch 15/100\n",
      "13395/13395 [==============================] - 6s 436us/sample - loss: 0.6364 - accuracy: 0.7191 - val_loss: 0.6039 - val_accuracy: 0.7377\n",
      "Epoch 16/100\n",
      "13395/13395 [==============================] - 5s 371us/sample - loss: 0.6333 - accuracy: 0.7178 - val_loss: 0.6010 - val_accuracy: 0.7471\n",
      "Epoch 17/100\n",
      "13395/13395 [==============================] - 6s 453us/sample - loss: 0.6304 - accuracy: 0.7239 - val_loss: 0.5998 - val_accuracy: 0.7370\n",
      "Epoch 18/100\n",
      "13395/13395 [==============================] - 4s 316us/sample - loss: 0.6285 - accuracy: 0.7202 - val_loss: 0.5946 - val_accuracy: 0.7404\n",
      "Epoch 19/100\n",
      "13395/13395 [==============================] - 6s 419us/sample - loss: 0.6239 - accuracy: 0.7254 - val_loss: 0.5925 - val_accuracy: 0.7390\n",
      "Epoch 20/100\n",
      "13395/13395 [==============================] - 6s 411us/sample - loss: 0.6198 - accuracy: 0.7277 - val_loss: 0.5924 - val_accuracy: 0.7390\n",
      "Epoch 21/100\n",
      "13395/13395 [==============================] - 5s 371us/sample - loss: 0.6233 - accuracy: 0.7251 - val_loss: 0.5921 - val_accuracy: 0.7431\n",
      "Epoch 22/100\n",
      "13395/13395 [==============================] - 5s 396us/sample - loss: 0.6127 - accuracy: 0.7269 - val_loss: 0.5837 - val_accuracy: 0.7512\n",
      "Epoch 23/100\n",
      "13395/13395 [==============================] - 5s 346us/sample - loss: 0.6194 - accuracy: 0.7268 - val_loss: 0.5874 - val_accuracy: 0.7512\n",
      "Epoch 24/100\n",
      "13395/13395 [==============================] - 5s 363us/sample - loss: 0.6112 - accuracy: 0.7269 - val_loss: 0.5804 - val_accuracy: 0.7525\n",
      "Epoch 25/100\n",
      "13395/13395 [==============================] - 6s 416us/sample - loss: 0.6111 - accuracy: 0.7292 - val_loss: 0.5733 - val_accuracy: 0.7492\n",
      "Epoch 26/100\n",
      "13395/13395 [==============================] - 5s 360us/sample - loss: 0.6007 - accuracy: 0.7322 - val_loss: 0.5682 - val_accuracy: 0.7465\n",
      "Epoch 27/100\n",
      "13395/13395 [==============================] - 5s 359us/sample - loss: 0.6046 - accuracy: 0.7324 - val_loss: 0.5670 - val_accuracy: 0.7633\n",
      "Epoch 28/100\n",
      "13395/13395 [==============================] - 5s 386us/sample - loss: 0.6045 - accuracy: 0.7337 - val_loss: 0.5633 - val_accuracy: 0.7492\n",
      "Epoch 29/100\n",
      "13395/13395 [==============================] - 5s 345us/sample - loss: 0.6013 - accuracy: 0.7357 - val_loss: 0.5680 - val_accuracy: 0.7552\n",
      "Epoch 30/100\n",
      "13395/13395 [==============================] - 5s 360us/sample - loss: 0.5980 - accuracy: 0.7346 - val_loss: 0.5541 - val_accuracy: 0.7532\n",
      "Epoch 31/100\n",
      "13395/13395 [==============================] - 5s 367us/sample - loss: 0.6011 - accuracy: 0.7359 - val_loss: 0.5575 - val_accuracy: 0.7532\n",
      "Epoch 32/100\n",
      "13395/13395 [==============================] - 5s 361us/sample - loss: 0.5961 - accuracy: 0.7386 - val_loss: 0.5558 - val_accuracy: 0.7572\n",
      "Epoch 33/100\n",
      "13395/13395 [==============================] - 5s 408us/sample - loss: 0.5882 - accuracy: 0.7417 - val_loss: 0.5559 - val_accuracy: 0.7606\n",
      "Epoch 34/100\n",
      "13395/13395 [==============================] - 5s 344us/sample - loss: 0.5973 - accuracy: 0.7392 - val_loss: 0.5670 - val_accuracy: 0.7660\n",
      "Epoch 35/100\n",
      "13395/13395 [==============================] - 5s 390us/sample - loss: 0.5891 - accuracy: 0.7405 - val_loss: 0.5481 - val_accuracy: 0.7586\n",
      "Epoch 36/100\n",
      "13395/13395 [==============================] - 5s 368us/sample - loss: 0.5850 - accuracy: 0.7436 - val_loss: 0.5442 - val_accuracy: 0.7593\n",
      "Epoch 37/100\n",
      "13395/13395 [==============================] - 5s 366us/sample - loss: 0.5853 - accuracy: 0.7440 - val_loss: 0.5491 - val_accuracy: 0.7633\n",
      "Epoch 38/100\n",
      "13395/13395 [==============================] - 5s 389us/sample - loss: 0.5877 - accuracy: 0.7384 - val_loss: 0.5586 - val_accuracy: 0.7613\n",
      "Epoch 39/100\n",
      "13395/13395 [==============================] - 5s 396us/sample - loss: 0.5868 - accuracy: 0.7413 - val_loss: 0.5339 - val_accuracy: 0.7701\n",
      "Epoch 40/100\n",
      "13395/13395 [==============================] - 5s 374us/sample - loss: 0.5841 - accuracy: 0.7416 - val_loss: 0.5459 - val_accuracy: 0.7647\n",
      "Epoch 41/100\n",
      "13395/13395 [==============================] - 5s 393us/sample - loss: 0.5868 - accuracy: 0.7395 - val_loss: 0.5371 - val_accuracy: 0.7721\n",
      "Epoch 42/100\n",
      "13395/13395 [==============================] - 5s 354us/sample - loss: 0.5776 - accuracy: 0.7476 - val_loss: 0.5428 - val_accuracy: 0.7566\n",
      "Epoch 43/100\n",
      "13395/13395 [==============================] - 5s 392us/sample - loss: 0.5810 - accuracy: 0.7458 - val_loss: 0.5558 - val_accuracy: 0.7478\n",
      "Epoch 44/100\n",
      "13395/13395 [==============================] - 5s 363us/sample - loss: 0.5756 - accuracy: 0.7488 - val_loss: 0.5345 - val_accuracy: 0.7680\n",
      "Epoch 45/100\n",
      "13395/13395 [==============================] - 5s 380us/sample - loss: 0.5733 - accuracy: 0.7457 - val_loss: 0.5323 - val_accuracy: 0.7707\n",
      "Epoch 46/100\n",
      "13395/13395 [==============================] - 6s 441us/sample - loss: 0.5735 - accuracy: 0.7474 - val_loss: 0.5262 - val_accuracy: 0.7795\n",
      "Epoch 47/100\n",
      "13395/13395 [==============================] - 5s 367us/sample - loss: 0.5745 - accuracy: 0.7483 - val_loss: 0.5265 - val_accuracy: 0.7714\n",
      "Epoch 48/100\n",
      "13395/13395 [==============================] - 5s 393us/sample - loss: 0.5762 - accuracy: 0.7454 - val_loss: 0.5159 - val_accuracy: 0.7795\n",
      "Epoch 49/100\n",
      "13395/13395 [==============================] - 5s 388us/sample - loss: 0.5694 - accuracy: 0.7504 - val_loss: 0.5295 - val_accuracy: 0.7687\n",
      "Epoch 50/100\n",
      "13395/13395 [==============================] - 5s 366us/sample - loss: 0.5729 - accuracy: 0.7494 - val_loss: 0.5333 - val_accuracy: 0.7667\n",
      "Epoch 51/100\n",
      "13395/13395 [==============================] - 5s 382us/sample - loss: 0.5689 - accuracy: 0.7500 - val_loss: 0.5318 - val_accuracy: 0.7647\n",
      "Epoch 52/100\n",
      "13395/13395 [==============================] - 5s 372us/sample - loss: 0.5703 - accuracy: 0.7511 - val_loss: 0.5183 - val_accuracy: 0.7734\n",
      "Epoch 53/100\n",
      "13395/13395 [==============================] - 5s 379us/sample - loss: 0.5694 - accuracy: 0.7502 - val_loss: 0.5212 - val_accuracy: 0.7775\n",
      "Epoch 54/100\n",
      "13395/13395 [==============================] - 6s 437us/sample - loss: 0.5623 - accuracy: 0.7513 - val_loss: 0.5204 - val_accuracy: 0.7721\n",
      "Epoch 55/100\n",
      "13395/13395 [==============================] - 5s 386us/sample - loss: 0.5645 - accuracy: 0.7492 - val_loss: 0.5150 - val_accuracy: 0.7728\n",
      "Epoch 56/100\n",
      "13395/13395 [==============================] - 5s 366us/sample - loss: 0.5657 - accuracy: 0.7503 - val_loss: 0.5247 - val_accuracy: 0.7694\n",
      "Epoch 57/100\n",
      "13395/13395 [==============================] - 6s 460us/sample - loss: 0.5596 - accuracy: 0.7544 - val_loss: 0.5127 - val_accuracy: 0.7862\n",
      "Epoch 58/100\n",
      "13395/13395 [==============================] - 6s 419us/sample - loss: 0.5625 - accuracy: 0.7532 - val_loss: 0.5294 - val_accuracy: 0.7647\n",
      "Epoch 59/100\n",
      "13395/13395 [==============================] - 6s 455us/sample - loss: 0.5613 - accuracy: 0.7559 - val_loss: 0.5121 - val_accuracy: 0.7795\n",
      "Epoch 60/100\n",
      "13395/13395 [==============================] - 5s 368us/sample - loss: 0.5605 - accuracy: 0.7527 - val_loss: 0.5008 - val_accuracy: 0.7802\n",
      "Epoch 61/100\n",
      "13395/13395 [==============================] - 5s 401us/sample - loss: 0.5531 - accuracy: 0.7577 - val_loss: 0.5022 - val_accuracy: 0.7849\n",
      "Epoch 62/100\n",
      "13395/13395 [==============================] - 5s 380us/sample - loss: 0.5562 - accuracy: 0.7552 - val_loss: 0.5096 - val_accuracy: 0.7714\n",
      "Epoch 63/100\n",
      "13395/13395 [==============================] - 5s 397us/sample - loss: 0.5596 - accuracy: 0.7526 - val_loss: 0.5136 - val_accuracy: 0.7815\n",
      "Epoch 64/100\n",
      "13395/13395 [==============================] - 6s 443us/sample - loss: 0.5578 - accuracy: 0.7539 - val_loss: 0.5092 - val_accuracy: 0.7822\n",
      "Epoch 65/100\n",
      "13395/13395 [==============================] - 5s 384us/sample - loss: 0.5519 - accuracy: 0.7550 - val_loss: 0.4982 - val_accuracy: 0.7842\n",
      "Epoch 66/100\n",
      "13395/13395 [==============================] - 5s 406us/sample - loss: 0.5557 - accuracy: 0.7541 - val_loss: 0.5075 - val_accuracy: 0.7707\n",
      "Epoch 67/100\n",
      "13395/13395 [==============================] - 6s 430us/sample - loss: 0.5510 - accuracy: 0.7566 - val_loss: 0.5061 - val_accuracy: 0.7761\n",
      "Epoch 68/100\n",
      "13395/13395 [==============================] - 5s 368us/sample - loss: 0.5500 - accuracy: 0.7593 - val_loss: 0.5072 - val_accuracy: 0.7795\n",
      "Epoch 69/100\n",
      "13395/13395 [==============================] - 5s 388us/sample - loss: 0.5514 - accuracy: 0.7579 - val_loss: 0.5127 - val_accuracy: 0.7701\n",
      "Epoch 70/100\n",
      "13395/13395 [==============================] - 5s 389us/sample - loss: 0.5465 - accuracy: 0.7565 - val_loss: 0.5053 - val_accuracy: 0.7755\n",
      "Epoch 71/100\n",
      "13395/13395 [==============================] - 5s 392us/sample - loss: 0.5482 - accuracy: 0.7577 - val_loss: 0.4962 - val_accuracy: 0.7842\n",
      "Epoch 72/100\n",
      "13395/13395 [==============================] - 5s 384us/sample - loss: 0.5493 - accuracy: 0.7566 - val_loss: 0.5005 - val_accuracy: 0.7788\n",
      "Epoch 73/100\n",
      "13395/13395 [==============================] - 5s 405us/sample - loss: 0.5452 - accuracy: 0.7568 - val_loss: 0.5107 - val_accuracy: 0.7755\n",
      "Epoch 74/100\n",
      "13395/13395 [==============================] - 6s 419us/sample - loss: 0.5431 - accuracy: 0.7590 - val_loss: 0.4982 - val_accuracy: 0.7862\n",
      "Epoch 75/100\n",
      "13395/13395 [==============================] - 5s 399us/sample - loss: 0.5451 - accuracy: 0.7630 - val_loss: 0.4828 - val_accuracy: 0.7930\n",
      "Epoch 76/100\n",
      "13395/13395 [==============================] - 5s 349us/sample - loss: 0.5477 - accuracy: 0.7558 - val_loss: 0.4852 - val_accuracy: 0.7970\n",
      "Epoch 77/100\n",
      "13395/13395 [==============================] - 4s 328us/sample - loss: 0.5413 - accuracy: 0.7604 - val_loss: 0.4881 - val_accuracy: 0.7896\n",
      "Epoch 78/100\n",
      "13395/13395 [==============================] - 5s 381us/sample - loss: 0.5496 - accuracy: 0.7590 - val_loss: 0.4909 - val_accuracy: 0.7822\n",
      "Epoch 79/100\n",
      "13395/13395 [==============================] - 5s 392us/sample - loss: 0.5443 - accuracy: 0.7590 - val_loss: 0.5033 - val_accuracy: 0.7748\n",
      "Epoch 80/100\n",
      "13395/13395 [==============================] - 4s 334us/sample - loss: 0.5382 - accuracy: 0.7613 - val_loss: 0.4964 - val_accuracy: 0.7943\n",
      "Epoch 81/100\n",
      "13395/13395 [==============================] - 6s 435us/sample - loss: 0.5384 - accuracy: 0.7613 - val_loss: 0.4903 - val_accuracy: 0.7862\n",
      "Epoch 82/100\n",
      "13395/13395 [==============================] - 6s 424us/sample - loss: 0.5356 - accuracy: 0.7638 - val_loss: 0.4956 - val_accuracy: 0.7829\n",
      "Epoch 83/100\n",
      "13395/13395 [==============================] - 5s 411us/sample - loss: 0.5368 - accuracy: 0.7625 - val_loss: 0.4869 - val_accuracy: 0.7802\n",
      "Epoch 84/100\n",
      "13395/13395 [==============================] - 5s 402us/sample - loss: 0.5377 - accuracy: 0.7632 - val_loss: 0.4891 - val_accuracy: 0.7795\n",
      "Epoch 85/100\n",
      "13395/13395 [==============================] - 6s 462us/sample - loss: 0.5333 - accuracy: 0.7657 - val_loss: 0.4997 - val_accuracy: 0.7943\n"
     ]
    }
   ],
   "source": [
    "hist = model.fit(\n",
    "    train_x_feature, train_y,\n",
    "    validation_data=(test_x_feature, test_y),\n",
    "    epochs=num_epochs,\n",
    "    batch_size=batch_size,\n",
    "    callbacks=[early_stopping]\n",
    ")"
   ]
  },
  {
   "cell_type": "code",
   "execution_count": 43,
   "metadata": {},
   "outputs": [
    {
     "name": "stdout",
     "output_type": "stream",
     "text": [
      "Model: \"NN\"\n",
      "_________________________________________________________________\n",
      "Layer (type)                 Output Shape              Param #   \n",
      "=================================================================\n",
      "input_1 (InputLayer)         [(None, 50, 1)]           0         \n",
      "_________________________________________________________________\n",
      "flatten (Flatten)            (None, 50)                0         \n",
      "_________________________________________________________________\n",
      "dense (Dense)                (None, 128)               6528      \n",
      "_________________________________________________________________\n",
      "activation (Activation)      (None, 128)               0         \n",
      "_________________________________________________________________\n",
      "dropout (Dropout)            (None, 128)               0         \n",
      "_________________________________________________________________\n",
      "dense_1 (Dense)              (None, 3)                 387       \n",
      "_________________________________________________________________\n",
      "dense_2 (Dense)              (None, 128)               512       \n",
      "_________________________________________________________________\n",
      "activation_1 (Activation)    (None, 128)               0         \n",
      "_________________________________________________________________\n",
      "dropout_1 (Dropout)          (None, 128)               0         \n",
      "_________________________________________________________________\n",
      "dense_3 (Dense)              (None, 3)                 387       \n",
      "_________________________________________________________________\n",
      "activation_2 (Activation)    (None, 3)                 0         \n",
      "=================================================================\n",
      "Total params: 7,814\n",
      "Trainable params: 7,814\n",
      "Non-trainable params: 0\n",
      "_________________________________________________________________\n"
     ]
    }
   ],
   "source": [
    "model.summary()"
   ]
  },
  {
   "cell_type": "code",
   "execution_count": 44,
   "metadata": {},
   "outputs": [
    {
     "data": {
      "image/png": "[encoded data removed]",
      "text/plain": [
       "<Figure size 432x288 with 2 Axes>"
      ]
     },
     "metadata": {
      "needs_background": "light"
     },
     "output_type": "display_data"
    }
   ],
   "source": [
    "%matplotlib inline\n",
    "import matplotlib.pyplot as plt\n",
    "\n",
    "fig, loss_ax = plt.subplots()\n",
    "\n",
    "acc_ax = loss_ax.twinx()\n",
    "\n",
    "loss_ax.plot(hist.history['loss'], 'y', label='train loss')\n",
    "loss_ax.plot(hist.history['val_loss'], 'r', label='val loss')\n",
    "\n",
    "acc_ax.plot(hist.history['accuracy'], 'b', label='train acc')\n",
    "acc_ax.plot(hist.history['val_accuracy'], 'g', label='val acc')\n",
    "\n",
    "loss_ax.set_xlabel('epoch')\n",
    "loss_ax.set_ylabel('loss')\n",
    "acc_ax.set_ylabel('accuray')\n",
    "\n",
    "loss_ax.legend(loc='upper left')\n",
    "acc_ax.legend(loc='lower left')\n",
    "\n",
    "plt.show()"
   ]
  },
  {
   "cell_type": "code",
   "execution_count": null,
   "metadata": {},
   "outputs": [],
   "source": []
  }
 ],
 "metadata": {
  "kernelspec": {
   "display_name": "tf2",
   "language": "python",
   "name": "tf2"
  },
  "language_info": {
   "codemirror_mode": {
    "name": "ipython",
    "version": 3
   },
   "file_extension": ".py",
   "mimetype": "text/x-python",
   "name": "python",
   "nbconvert_exporter": "python",
   "pygments_lexer": "ipython3",
   "version": "3.7.7"
  }
 },
 "nbformat": 4,
 "nbformat_minor": 4
}
