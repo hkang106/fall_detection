{
 "cells": [
  {
   "cell_type": "code",
   "execution_count": 1,
   "metadata": {},
   "outputs": [],
   "source": [
    "import os\n",
    "import tensorflow as tf\n",
    "import numpy as np\n",
    "from glob import glob\n",
    "from PIL import Image\n",
    "import matplotlib.pyplot as plt\n",
    "from xml.etree.ElementTree import parse\n",
    "import json\n",
    "import pandas as pd\n",
    "from tqdm.notebook import tqdm\n",
    "%matplotlib inline"
   ]
  },
  {
   "cell_type": "code",
   "execution_count": 2,
   "metadata": {},
   "outputs": [
    {
     "data": {
      "text/plain": [
       "['1', '2', '0']"
      ]
     },
     "execution_count": 2,
     "metadata": {},
     "output_type": "execute_result"
    }
   ],
   "source": [
    "os.listdir(\"dataset\")"
   ]
  },
  {
   "cell_type": "code",
   "execution_count": 3,
   "metadata": {},
   "outputs": [],
   "source": [
    "standing_paths = glob(\"dataset/0/*.jpg\") \n",
    "lying_paths = glob(\"dataset/1/*.jpg\")\n",
    "bending_paths = glob(\"dataset/2/*.jpg\")"
   ]
  },
  {
   "cell_type": "code",
   "execution_count": 4,
   "metadata": {},
   "outputs": [
    {
     "name": "stdout",
     "output_type": "stream",
     "text": [
      "5952\n",
      "5973\n",
      "4996\n"
     ]
    }
   ],
   "source": [
    "print(len(standing_paths))\n",
    "print(len(lying_paths))\n",
    "print(len(bending_paths))"
   ]
  },
  {
   "cell_type": "code",
   "execution_count": 5,
   "metadata": {},
   "outputs": [],
   "source": [
    "import random"
   ]
  },
  {
   "cell_type": "code",
   "execution_count": 6,
   "metadata": {},
   "outputs": [],
   "source": [
    "random.seed(0)\n",
    "random.shuffle(standing_paths)\n",
    "random.shuffle(lying_paths)\n",
    "random.shuffle(bending_paths)"
   ]
  },
  {
   "cell_type": "code",
   "execution_count": 7,
   "metadata": {},
   "outputs": [],
   "source": [
    "test_standing = standing_paths[:700]\n",
    "test_lying = lying_paths[:700]\n",
    "test_bending = bending_paths[:500]"
   ]
  },
  {
   "cell_type": "code",
   "execution_count": 8,
   "metadata": {},
   "outputs": [],
   "source": [
    "train_standing = standing_paths[700:]\n",
    "train_lying = lying_paths[700:]\n",
    "train_bending = bending_paths[500:]"
   ]
  },
  {
   "cell_type": "code",
   "execution_count": 11,
   "metadata": {},
   "outputs": [
    {
     "name": "stdout",
     "output_type": "stream",
     "text": [
      "5252\n",
      "5273\n",
      "4496\n"
     ]
    }
   ],
   "source": [
    "print(len(train_standing))\n",
    "print(len(train_lying))\n",
    "print(len(train_bending))"
   ]
  },
  {
   "cell_type": "code",
   "execution_count": 12,
   "metadata": {},
   "outputs": [
    {
     "name": "stdout",
     "output_type": "stream",
     "text": [
      "700\n",
      "700\n",
      "500\n"
     ]
    }
   ],
   "source": [
    "print(len(test_standing))\n",
    "print(len(test_lying))\n",
    "print(len(test_bending))"
   ]
  },
  {
   "cell_type": "code",
   "execution_count": 18,
   "metadata": {},
   "outputs": [],
   "source": [
    "def get_filename(path):\n",
    "    return path.split(\"/\")[-1]"
   ]
  },
  {
   "cell_type": "code",
   "execution_count": 19,
   "metadata": {},
   "outputs": [],
   "source": [
    "for path in test_standing:\n",
    "    file = get_filename(path)\n",
    "    save_path = \"dataset/test/0/\"+file\n",
    "    \n",
    "    img = Image.open(path)\n",
    "    img.save(save_path)"
   ]
  },
  {
   "cell_type": "code",
   "execution_count": 20,
   "metadata": {},
   "outputs": [],
   "source": [
    "for path in test_lying:\n",
    "    file = get_filename(path)\n",
    "    save_path = \"dataset/test/1/\"+file\n",
    "    \n",
    "    img = Image.open(path)\n",
    "    img.save(save_path)"
   ]
  },
  {
   "cell_type": "code",
   "execution_count": 21,
   "metadata": {},
   "outputs": [],
   "source": [
    "for path in test_bending:\n",
    "    file = get_filename(path)\n",
    "    save_path = \"dataset/test/2/\"+file\n",
    "    \n",
    "    img = Image.open(path)\n",
    "    img.save(save_path)"
   ]
  },
  {
   "cell_type": "code",
   "execution_count": 22,
   "metadata": {},
   "outputs": [],
   "source": [
    "for path in train_standing:\n",
    "    file = get_filename(path)\n",
    "    save_path = \"dataset/train/0/\"+file\n",
    "    \n",
    "    img = Image.open(path)\n",
    "    img.save(save_path)"
   ]
  },
  {
   "cell_type": "code",
   "execution_count": 23,
   "metadata": {},
   "outputs": [],
   "source": [
    "for path in train_lying:\n",
    "    file = get_filename(path)\n",
    "    save_path = \"dataset/train/1/\"+file\n",
    "    \n",
    "    img = Image.open(path)\n",
    "    img.save(save_path)"
   ]
  },
  {
   "cell_type": "code",
   "execution_count": 24,
   "metadata": {},
   "outputs": [],
   "source": [
    "for path in train_bending:\n",
    "    file = get_filename(path)\n",
    "    save_path = \"dataset/train/2/\"+file\n",
    "    \n",
    "    img = Image.open(path)\n",
    "    img.save(save_path)"
   ]
  },
  {
   "cell_type": "code",
   "execution_count": null,
   "metadata": {},
   "outputs": [],
   "source": []
  }
 ],
 "metadata": {
  "kernelspec": {
   "display_name": "tf2",
   "language": "python",
   "name": "tf2"
  },
  "language_info": {
   "codemirror_mode": {
    "name": "ipython",
    "version": 3
   },
   "file_extension": ".py",
   "mimetype": "text/x-python",
   "name": "python",
   "nbconvert_exporter": "python",
   "pygments_lexer": "ipython3",
   "version": "3.7.7"
  }
 },
 "nbformat": 4,
 "nbformat_minor": 4
}
