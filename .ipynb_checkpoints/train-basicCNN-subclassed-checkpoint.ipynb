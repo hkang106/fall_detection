{
 "cells": [
  {
   "cell_type": "code",
   "execution_count": 1,
   "metadata": {},
   "outputs": [],
   "source": [
    "import tensorflow as tf\n",
    "from tensorflow.keras.preprocessing.image import ImageDataGenerator\n",
    "from tensorflow.keras import layers\n",
    "from tensorflow.keras.callbacks import ModelCheckpoint, EarlyStopping\n",
    "from tensorflow.keras.utils import to_categorical\n",
    "from tensorflow.keras.datasets import mnist"
   ]
  },
  {
   "cell_type": "code",
   "execution_count": 2,
   "metadata": {},
   "outputs": [],
   "source": [
    "import os \n",
    "from glob import glob\n",
    "import random\n",
    "import numpy as np"
   ]
  },
  {
   "cell_type": "code",
   "execution_count": 3,
   "metadata": {},
   "outputs": [
    {
     "data": {
      "text/plain": [
       "['1', '2', '.ipynb_checkpoints', '0']"
      ]
     },
     "execution_count": 3,
     "metadata": {},
     "output_type": "execute_result"
    }
   ],
   "source": [
    "os.listdir(\"cropped_dataset/train\")"
   ]
  },
  {
   "cell_type": "code",
   "execution_count": 4,
   "metadata": {},
   "outputs": [],
   "source": [
    "train_dir = \"cropped_dataset/train\" \n",
    "test_dir = \"cropped_dataset/test\""
   ]
  },
  {
   "cell_type": "markdown",
   "metadata": {},
   "source": [
    "# fit 데이터셋 만들기"
   ]
  },
  {
   "cell_type": "code",
   "execution_count": 5,
   "metadata": {},
   "outputs": [],
   "source": [
    "train_path = glob(train_dir+\"/*/*.jpg\")\n",
    "test_path = glob(test_dir+\"/*/*.jpg\")"
   ]
  },
  {
   "cell_type": "code",
   "execution_count": 6,
   "metadata": {},
   "outputs": [
    {
     "name": "stdout",
     "output_type": "stream",
     "text": [
      "cropped_dataset/train/1/aug_3_0_4612.jpg\n",
      "cropped_dataset/test/0/aug_1_2_0_3803.jpg\n"
     ]
    }
   ],
   "source": [
    "\n",
    "random.seed(0)\n",
    "random.shuffle(train_path)\n",
    "random.shuffle(test_path)\n",
    "print(train_path[0])\n",
    "print(test_path[0])"
   ]
  },
  {
   "cell_type": "code",
   "execution_count": 7,
   "metadata": {},
   "outputs": [],
   "source": [
    "def get_label(filepath):\n",
    "    return filepath.split(\"/\")[-2]"
   ]
  },
  {
   "cell_type": "code",
   "execution_count": 8,
   "metadata": {},
   "outputs": [],
   "source": [
    "train_x = []\n",
    "for file in train_path:\n",
    "    gfile = tf.io.read_file(file)\n",
    "    image = tf.io.decode_image(gfile)\n",
    "    image = tf.image.resize(image, [50, 50])\n",
    "    image = tf.image.rgb_to_grayscale(image)\n",
    "    train_x.append(np.asarray(image))"
   ]
  },
  {
   "cell_type": "code",
   "execution_count": 9,
   "metadata": {},
   "outputs": [],
   "source": [
    "train_y = [get_label(file) for file in train_path]"
   ]
  },
  {
   "cell_type": "code",
   "execution_count": 10,
   "metadata": {},
   "outputs": [],
   "source": [
    "test_x = []\n",
    "for file in test_path:\n",
    "    gfile = tf.io.read_file(file)\n",
    "    image = tf.io.decode_image(gfile)\n",
    "    image = tf.image.resize(image, [50, 50])\n",
    "    image = tf.image.rgb_to_grayscale(image)\n",
    "    test_x.append(np.asarray(image))"
   ]
  },
  {
   "cell_type": "code",
   "execution_count": 11,
   "metadata": {},
   "outputs": [],
   "source": [
    "test_y = [get_label(file) for file in test_path]"
   ]
  },
  {
   "cell_type": "code",
   "execution_count": 12,
   "metadata": {},
   "outputs": [
    {
     "data": {
      "text/plain": [
       "(50, 50, 1)"
      ]
     },
     "execution_count": 12,
     "metadata": {},
     "output_type": "execute_result"
    }
   ],
   "source": [
    "train_x[10].shape"
   ]
  },
  {
   "cell_type": "code",
   "execution_count": 13,
   "metadata": {},
   "outputs": [
    {
     "name": "stdout",
     "output_type": "stream",
     "text": [
      "<class 'numpy.ndarray'>\n"
     ]
    }
   ],
   "source": [
    "type(train_x[0].shape)\n",
    "print(type(np.array(train_x[0])))"
   ]
  },
  {
   "cell_type": "code",
   "execution_count": 14,
   "metadata": {},
   "outputs": [
    {
     "data": {
      "text/plain": [
       "13395"
      ]
     },
     "execution_count": 14,
     "metadata": {},
     "output_type": "execute_result"
    }
   ],
   "source": [
    "len(train_y)"
   ]
  },
  {
   "cell_type": "code",
   "execution_count": 15,
   "metadata": {},
   "outputs": [
    {
     "data": {
      "text/plain": [
       "(array(['0', '1', '2'], dtype='<U1'), array([4478, 4419, 4498]))"
      ]
     },
     "execution_count": 15,
     "metadata": {},
     "output_type": "execute_result"
    }
   ],
   "source": [
    "np.unique(train_y, return_counts=True)"
   ]
  },
  {
   "cell_type": "code",
   "execution_count": 16,
   "metadata": {},
   "outputs": [
    {
     "data": {
      "text/plain": [
       "(array(['0', '1', '2'], dtype='<U1'), array([496, 489, 498]))"
      ]
     },
     "execution_count": 16,
     "metadata": {},
     "output_type": "execute_result"
    }
   ],
   "source": [
    "np.unique(test_y, return_counts=True)"
   ]
  },
  {
   "cell_type": "code",
   "execution_count": 17,
   "metadata": {},
   "outputs": [],
   "source": [
    "train_x = np.asarray(train_x)\n",
    "train_y = np.asarray(train_y)\n",
    "test_x = np.asarray(test_x)\n",
    "test_y = np.asarray(test_y)"
   ]
  },
  {
   "cell_type": "code",
   "execution_count": 18,
   "metadata": {},
   "outputs": [],
   "source": [
    "train_x = train_x/255\n",
    "test_x = test_x/255"
   ]
  },
  {
   "cell_type": "code",
   "execution_count": 19,
   "metadata": {},
   "outputs": [
    {
     "data": {
      "text/plain": [
       "(13395, 50, 50, 1)"
      ]
     },
     "execution_count": 19,
     "metadata": {},
     "output_type": "execute_result"
    }
   ],
   "source": [
    "train_x.shape"
   ]
  },
  {
   "cell_type": "code",
   "execution_count": 20,
   "metadata": {},
   "outputs": [
    {
     "data": {
      "text/plain": [
       "(1483, 50, 50, 1)"
      ]
     },
     "execution_count": 20,
     "metadata": {},
     "output_type": "execute_result"
    }
   ],
   "source": [
    "test_x.shape"
   ]
  },
  {
   "cell_type": "code",
   "execution_count": 21,
   "metadata": {},
   "outputs": [],
   "source": [
    "train_y = train_y.astype(\"int32\")\n",
    "test_y = test_y.astype(\"int32\")"
   ]
  },
  {
   "cell_type": "code",
   "execution_count": 22,
   "metadata": {},
   "outputs": [],
   "source": [
    "#train_y = to_categorical(train_y, 3)\n",
    "#test_y = to_categorical(test_y, 3)"
   ]
  },
  {
   "cell_type": "markdown",
   "metadata": {},
   "source": [
    "# 모델 정의"
   ]
  },
  {
   "cell_type": "code",
   "execution_count": 23,
   "metadata": {},
   "outputs": [],
   "source": [
    "input_shape = (50,50,1)\n",
    "batch_size = 32\n",
    "\n",
    "learning_rate = 0.0001\n",
    "# 0.01로 학습했는데 학습 안됨.\n",
    "\n",
    "dropout_rate = 0.4\n",
    "num_classes=3\n",
    "num_epochs=100"
   ]
  },
  {
   "cell_type": "code",
   "execution_count": 24,
   "metadata": {},
   "outputs": [],
   "source": [
    "early_stopping = EarlyStopping(\n",
    "    monitor=\"val_loss\",\n",
    "    patience=10\n",
    ")"
   ]
  },
  {
   "cell_type": "code",
   "execution_count": 25,
   "metadata": {},
   "outputs": [],
   "source": [
    "class ConvNet(tf.keras.Model):\n",
    "    def __init__(self):\n",
    "        super(ConvNet, self).__init__()\n",
    "        conv2d = tf.keras.layers.Conv2D\n",
    "        maxpool = tf.keras.layers.MaxPool2D\n",
    "        self.sequence = list()\n",
    "        self.sequence.append(conv2d(16, (3,3), padding=\"same\", activation='relu' ))\n",
    "        self.sequence.append(conv2d(16, (3,3), padding=\"same\", activation='relu' ))\n",
    "        self.sequence.append(maxpool(2,2))\n",
    "        self.sequence.append(conv2d(32, (3,3), padding=\"same\", activation='relu' ))\n",
    "        self.sequence.append(conv2d(32, (3,3), padding=\"same\", activation='relu' ))\n",
    "        self.sequence.append(maxpool(2,2))\n",
    "        self.sequence.append(conv2d(64, (3,3), padding=\"same\", activation='relu' ))\n",
    "        self.sequence.append(conv2d(64, (3,3), padding=\"same\", activation='relu' ))\n",
    "        self.sequence.append(tf.keras.layers.Flatten())\n",
    "        self.sequence.append(tf.keras.layers.Dense(128, activation=\"relu\"))\n",
    "        self.sequence.append(tf.keras.layers.Dense(3, activation=\"softmax\"))\n",
    "        \n",
    "        \n",
    "        \n",
    "    def call(self, x, training=False, mask=None):\n",
    "        for layer in self.sequence:\n",
    "            x = layer(x)\n",
    "        \n",
    "        return x"
   ]
  },
  {
   "cell_type": "code",
   "execution_count": 26,
   "metadata": {},
   "outputs": [],
   "source": [
    "model = ConvNet()"
   ]
  },
  {
   "cell_type": "code",
   "execution_count": 27,
   "metadata": {},
   "outputs": [],
   "source": [
    "model.compile(\n",
    "    optimizer=tf.keras.optimizers.Adam(learning_rate),\n",
    "    loss=\"sparse_categorical_crossentropy\",\n",
    "    metrics=[\"accuracy\"]\n",
    ")"
   ]
  },
  {
   "cell_type": "code",
   "execution_count": 28,
   "metadata": {},
   "outputs": [
    {
     "name": "stdout",
     "output_type": "stream",
     "text": [
      "Train on 13395 samples, validate on 1483 samples\n",
      "Epoch 1/100\n",
      "13395/13395 [==============================] - 24s 2ms/sample - loss: 0.5849 - accuracy: 0.7426 - val_loss: 0.3595 - val_accuracy: 0.8469\n",
      "Epoch 2/100\n",
      "13395/13395 [==============================] - 20s 2ms/sample - loss: 0.3352 - accuracy: 0.8587 - val_loss: 0.3085 - val_accuracy: 0.8786\n",
      "Epoch 3/100\n",
      "13395/13395 [==============================] - 20s 1ms/sample - loss: 0.2727 - accuracy: 0.8940 - val_loss: 0.2589 - val_accuracy: 0.8989\n",
      "Epoch 4/100\n",
      "13395/13395 [==============================] - 22s 2ms/sample - loss: 0.2241 - accuracy: 0.9135 - val_loss: 0.2237 - val_accuracy: 0.9137\n",
      "Epoch 5/100\n",
      "13395/13395 [==============================] - 21s 2ms/sample - loss: 0.1924 - accuracy: 0.9252 - val_loss: 0.2362 - val_accuracy: 0.9083\n",
      "Epoch 6/100\n",
      "13395/13395 [==============================] - 20s 1ms/sample - loss: 0.1593 - accuracy: 0.9429 - val_loss: 0.1894 - val_accuracy: 0.9265\n",
      "Epoch 7/100\n",
      "13395/13395 [==============================] - 20s 2ms/sample - loss: 0.1289 - accuracy: 0.9531 - val_loss: 0.1490 - val_accuracy: 0.9440\n",
      "Epoch 8/100\n",
      "13395/13395 [==============================] - 22s 2ms/sample - loss: 0.1037 - accuracy: 0.9618 - val_loss: 0.1274 - val_accuracy: 0.9528\n",
      "Epoch 9/100\n",
      "13395/13395 [==============================] - 22s 2ms/sample - loss: 0.0850 - accuracy: 0.9701 - val_loss: 0.1170 - val_accuracy: 0.9555\n",
      "Epoch 10/100\n",
      "13395/13395 [==============================] - 24s 2ms/sample - loss: 0.0709 - accuracy: 0.9760 - val_loss: 0.1137 - val_accuracy: 0.9636\n",
      "Epoch 11/100\n",
      "13395/13395 [==============================] - 23s 2ms/sample - loss: 0.0590 - accuracy: 0.9801 - val_loss: 0.1513 - val_accuracy: 0.9413\n",
      "Epoch 12/100\n",
      "13395/13395 [==============================] - 24s 2ms/sample - loss: 0.0446 - accuracy: 0.9850 - val_loss: 0.1009 - val_accuracy: 0.9703\n",
      "Epoch 13/100\n",
      "13395/13395 [==============================] - 18s 1ms/sample - loss: 0.0370 - accuracy: 0.9878 - val_loss: 0.1110 - val_accuracy: 0.9670\n",
      "Epoch 14/100\n",
      "13395/13395 [==============================] - 22s 2ms/sample - loss: 0.0370 - accuracy: 0.9884 - val_loss: 0.0932 - val_accuracy: 0.9710\n",
      "Epoch 15/100\n",
      "13395/13395 [==============================] - 20s 1ms/sample - loss: 0.0235 - accuracy: 0.9923 - val_loss: 0.0846 - val_accuracy: 0.9757\n",
      "Epoch 16/100\n",
      "13395/13395 [==============================] - 22s 2ms/sample - loss: 0.0168 - accuracy: 0.9950 - val_loss: 0.1028 - val_accuracy: 0.9724\n",
      "Epoch 17/100\n",
      "13395/13395 [==============================] - 20s 2ms/sample - loss: 0.0173 - accuracy: 0.9942 - val_loss: 0.1029 - val_accuracy: 0.9697\n",
      "Epoch 18/100\n",
      "13395/13395 [==============================] - 17s 1ms/sample - loss: 0.0087 - accuracy: 0.9975 - val_loss: 0.0960 - val_accuracy: 0.9737\n",
      "Epoch 19/100\n",
      "13395/13395 [==============================] - 22s 2ms/sample - loss: 0.0263 - accuracy: 0.9907 - val_loss: 0.0917 - val_accuracy: 0.9744\n",
      "Epoch 20/100\n",
      "13395/13395 [==============================] - 22s 2ms/sample - loss: 0.0058 - accuracy: 0.9987 - val_loss: 0.0893 - val_accuracy: 0.9784\n",
      "Epoch 21/100\n",
      "13395/13395 [==============================] - 23s 2ms/sample - loss: 0.0043 - accuracy: 0.9990 - val_loss: 0.0967 - val_accuracy: 0.9757\n",
      "Epoch 22/100\n",
      "13395/13395 [==============================] - 21s 2ms/sample - loss: 0.0123 - accuracy: 0.9954 - val_loss: 0.1061 - val_accuracy: 0.9737\n",
      "Epoch 23/100\n",
      "13395/13395 [==============================] - 21s 2ms/sample - loss: 0.0085 - accuracy: 0.9971 - val_loss: 0.1191 - val_accuracy: 0.9703\n",
      "Epoch 24/100\n",
      "13395/13395 [==============================] - 21s 2ms/sample - loss: 0.0036 - accuracy: 0.9991 - val_loss: 0.0938 - val_accuracy: 0.9771\n",
      "Epoch 25/100\n",
      "13395/13395 [==============================] - 19s 1ms/sample - loss: 0.0114 - accuracy: 0.9958 - val_loss: 0.1106 - val_accuracy: 0.9757\n"
     ]
    }
   ],
   "source": [
    "hist = model.fit(\n",
    "    train_x, train_y,\n",
    "    validation_data=(test_x, test_y),\n",
    "    epochs=num_epochs,\n",
    "    batch_size=batch_size,\n",
    "    callbacks=[early_stopping]\n",
    ")"
   ]
  },
  {
   "cell_type": "markdown",
   "metadata": {},
   "source": [
    "# 학습 과정 그래프"
   ]
  },
  {
   "cell_type": "code",
   "execution_count": 29,
   "metadata": {},
   "outputs": [
    {
     "data": {
      "image/png": "[encoded data removed]",
      "text/plain": [
       "<Figure size 432x288 with 2 Axes>"
      ]
     },
     "metadata": {
      "needs_background": "light"
     },
     "output_type": "display_data"
    }
   ],
   "source": [
    "%matplotlib inline\n",
    "import matplotlib.pyplot as plt\n",
    "\n",
    "fig, loss_ax = plt.subplots()\n",
    "\n",
    "acc_ax = loss_ax.twinx()\n",
    "\n",
    "loss_ax.plot(hist.history['loss'], 'y', label='train loss')\n",
    "loss_ax.plot(hist.history['val_loss'], 'r', label='val loss')\n",
    "\n",
    "acc_ax.plot(hist.history['accuracy'], 'b', label='train acc')\n",
    "acc_ax.plot(hist.history['val_accuracy'], 'g', label='val acc')\n",
    "\n",
    "loss_ax.set_xlabel('epoch')\n",
    "loss_ax.set_ylabel('loss')\n",
    "acc_ax.set_ylabel('accuray')\n",
    "\n",
    "loss_ax.legend(loc='upper left')\n",
    "acc_ax.legend(loc='lower left')\n",
    "\n",
    "plt.show()"
   ]
  },
  {
   "cell_type": "markdown",
   "metadata": {},
   "source": [
    "# 모델 저장"
   ]
  },
  {
   "cell_type": "code",
   "execution_count": 30,
   "metadata": {},
   "outputs": [
    {
     "ename": "NotImplementedError",
     "evalue": "Saving the model to HDF5 format requires the model to be a Functional model or a Sequential model. It does not work for subclassed models, because such models are defined via the body of a Python method, which isn't safely serializable. Consider saving to the Tensorflow SavedModel format (by setting save_format=\"tf\") or using `save_weights`.",
     "output_type": "error",
     "traceback": [
      "\u001b[0;31m---------------------------------------------------------------------------\u001b[0m",
      "\u001b[0;31mNotImplementedError\u001b[0m                       Traceback (most recent call last)",
      "\u001b[0;32m<ipython-input-30-e55ed6dc362d>\u001b[0m in \u001b[0;36m<module>\u001b[0;34m\u001b[0m\n\u001b[1;32m      1\u001b[0m \u001b[0;31m#model.save(\"model/\", include_optimizer=True, save_format='tf')\u001b[0m\u001b[0;34m\u001b[0m\u001b[0;34m\u001b[0m\u001b[0;34m\u001b[0m\u001b[0m\n\u001b[0;32m----> 2\u001b[0;31m \u001b[0mmodel\u001b[0m\u001b[0;34m.\u001b[0m\u001b[0msave\u001b[0m\u001b[0;34m(\u001b[0m\u001b[0;34m'my_model.h5'\u001b[0m\u001b[0;34m)\u001b[0m\u001b[0;34m\u001b[0m\u001b[0;34m\u001b[0m\u001b[0m\n\u001b[0m",
      "\u001b[0;32m~/anaconda3/envs/tf2/lib/python3.7/site-packages/tensorflow_core/python/keras/engine/network.py\u001b[0m in \u001b[0;36msave\u001b[0;34m(self, filepath, overwrite, include_optimizer, save_format, signatures, options)\u001b[0m\n\u001b[1;32m   1006\u001b[0m     \"\"\"\n\u001b[1;32m   1007\u001b[0m     save.save_model(self, filepath, overwrite, include_optimizer, save_format,\n\u001b[0;32m-> 1008\u001b[0;31m                     signatures, options)\n\u001b[0m\u001b[1;32m   1009\u001b[0m \u001b[0;34m\u001b[0m\u001b[0m\n\u001b[1;32m   1010\u001b[0m   \u001b[0;32mdef\u001b[0m \u001b[0msave_weights\u001b[0m\u001b[0;34m(\u001b[0m\u001b[0mself\u001b[0m\u001b[0;34m,\u001b[0m \u001b[0mfilepath\u001b[0m\u001b[0;34m,\u001b[0m \u001b[0moverwrite\u001b[0m\u001b[0;34m=\u001b[0m\u001b[0;32mTrue\u001b[0m\u001b[0;34m,\u001b[0m \u001b[0msave_format\u001b[0m\u001b[0;34m=\u001b[0m\u001b[0;32mNone\u001b[0m\u001b[0;34m)\u001b[0m\u001b[0;34m:\u001b[0m\u001b[0;34m\u001b[0m\u001b[0;34m\u001b[0m\u001b[0m\n",
      "\u001b[0;32m~/anaconda3/envs/tf2/lib/python3.7/site-packages/tensorflow_core/python/keras/saving/save.py\u001b[0m in \u001b[0;36msave_model\u001b[0;34m(model, filepath, overwrite, include_optimizer, save_format, signatures, options)\u001b[0m\n\u001b[1;32m    103\u001b[0m         not isinstance(model, sequential.Sequential)):\n\u001b[1;32m    104\u001b[0m       raise NotImplementedError(\n\u001b[0;32m--> 105\u001b[0;31m           \u001b[0;34m'Saving the model to HDF5 format requires the model to be a '\u001b[0m\u001b[0;34m\u001b[0m\u001b[0;34m\u001b[0m\u001b[0m\n\u001b[0m\u001b[1;32m    106\u001b[0m           \u001b[0;34m'Functional model or a Sequential model. It does not work for '\u001b[0m\u001b[0;34m\u001b[0m\u001b[0;34m\u001b[0m\u001b[0m\n\u001b[1;32m    107\u001b[0m           \u001b[0;34m'subclassed models, because such models are defined via the body of '\u001b[0m\u001b[0;34m\u001b[0m\u001b[0;34m\u001b[0m\u001b[0m\n",
      "\u001b[0;31mNotImplementedError\u001b[0m: Saving the model to HDF5 format requires the model to be a Functional model or a Sequential model. It does not work for subclassed models, because such models are defined via the body of a Python method, which isn't safely serializable. Consider saving to the Tensorflow SavedModel format (by setting save_format=\"tf\") or using `save_weights`."
     ]
    }
   ],
   "source": [
    "#model.save(\"model/\", include_optimizer=True, save_format='tf')\n",
    "model.save('my_model.h5')"
   ]
  },
  {
   "cell_type": "code",
   "execution_count": null,
   "metadata": {},
   "outputs": [],
   "source": []
  },
  {
   "cell_type": "code",
   "execution_count": null,
   "metadata": {},
   "outputs": [],
   "source": []
  },
  {
   "cell_type": "code",
   "execution_count": null,
   "metadata": {},
   "outputs": [],
   "source": []
  }
 ],
 "metadata": {
  "kernelspec": {
   "display_name": "tf2",
   "language": "python",
   "name": "tf2"
  },
  "language_info": {
   "codemirror_mode": {
    "name": "ipython",
    "version": 3
   },
   "file_extension": ".py",
   "mimetype": "text/x-python",
   "name": "python",
   "nbconvert_exporter": "python",
   "pygments_lexer": "ipython3",
   "version": "3.7.7"
  }
 },
 "nbformat": 4,
 "nbformat_minor": 4
}
