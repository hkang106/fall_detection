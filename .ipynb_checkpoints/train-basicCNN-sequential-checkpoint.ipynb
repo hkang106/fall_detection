{
 "cells": [
  {
   "cell_type": "code",
   "execution_count": 1,
   "metadata": {},
   "outputs": [],
   "source": [
    "import tensorflow as tf\n",
    "from tensorflow.keras.preprocessing.image import ImageDataGenerator\n",
    "from tensorflow.keras import layers\n",
    "from tensorflow.keras.callbacks import ModelCheckpoint, EarlyStopping\n",
    "from tensorflow.keras.utils import to_categorical\n",
    "from tensorflow.keras.datasets import mnist"
   ]
  },
  {
   "cell_type": "code",
   "execution_count": 2,
   "metadata": {},
   "outputs": [],
   "source": [
    "import os \n",
    "from glob import glob\n",
    "import random\n",
    "import numpy as np"
   ]
  },
  {
   "cell_type": "code",
   "execution_count": 3,
   "metadata": {},
   "outputs": [
    {
     "data": {
      "text/plain": [
       "['1', '2', '.ipynb_checkpoints', '0']"
      ]
     },
     "execution_count": 3,
     "metadata": {},
     "output_type": "execute_result"
    }
   ],
   "source": [
    "os.listdir(\"cropped_dataset/train\")"
   ]
  },
  {
   "cell_type": "code",
   "execution_count": 4,
   "metadata": {},
   "outputs": [],
   "source": [
    "train_dir = \"cropped_dataset/train\" \n",
    "test_dir = \"cropped_dataset/test\""
   ]
  },
  {
   "cell_type": "markdown",
   "metadata": {},
   "source": [
    "# fit 데이터셋 만들기"
   ]
  },
  {
   "cell_type": "code",
   "execution_count": 5,
   "metadata": {},
   "outputs": [],
   "source": [
    "train_path = glob(train_dir+\"/*/*.jpg\")\n",
    "test_path = glob(test_dir+\"/*/*.jpg\")"
   ]
  },
  {
   "cell_type": "code",
   "execution_count": 6,
   "metadata": {},
   "outputs": [
    {
     "name": "stdout",
     "output_type": "stream",
     "text": [
      "cropped_dataset/train/1/aug_3_0_4612.jpg\n",
      "cropped_dataset/test/0/aug_1_2_0_3803.jpg\n"
     ]
    }
   ],
   "source": [
    "\n",
    "random.seed(0)\n",
    "random.shuffle(train_path)\n",
    "random.shuffle(test_path)\n",
    "print(train_path[0])\n",
    "print(test_path[0])"
   ]
  },
  {
   "cell_type": "code",
   "execution_count": 7,
   "metadata": {},
   "outputs": [],
   "source": [
    "def get_label(filepath):\n",
    "    return filepath.split(\"/\")[-2]"
   ]
  },
  {
   "cell_type": "code",
   "execution_count": 8,
   "metadata": {},
   "outputs": [],
   "source": [
    "train_x = []\n",
    "for file in train_path:\n",
    "    gfile = tf.io.read_file(file)\n",
    "    image = tf.io.decode_image(gfile)\n",
    "    image = tf.image.resize(image, [50, 50])\n",
    "    image = tf.image.rgb_to_grayscale(image)\n",
    "    train_x.append(np.asarray(image))"
   ]
  },
  {
   "cell_type": "code",
   "execution_count": 9,
   "metadata": {},
   "outputs": [],
   "source": [
    "train_y = [get_label(file) for file in train_path]"
   ]
  },
  {
   "cell_type": "code",
   "execution_count": 10,
   "metadata": {},
   "outputs": [],
   "source": [
    "test_x = []\n",
    "for file in test_path:\n",
    "    gfile = tf.io.read_file(file)\n",
    "    image = tf.io.decode_image(gfile)\n",
    "    image = tf.image.resize(image, [50, 50])\n",
    "    image = tf.image.rgb_to_grayscale(image)\n",
    "    test_x.append(np.asarray(image))"
   ]
  },
  {
   "cell_type": "code",
   "execution_count": 11,
   "metadata": {},
   "outputs": [],
   "source": [
    "test_y = [get_label(file) for file in test_path]"
   ]
  },
  {
   "cell_type": "code",
   "execution_count": 12,
   "metadata": {},
   "outputs": [
    {
     "data": {
      "text/plain": [
       "(50, 50, 1)"
      ]
     },
     "execution_count": 12,
     "metadata": {},
     "output_type": "execute_result"
    }
   ],
   "source": [
    "train_x[10].shape"
   ]
  },
  {
   "cell_type": "code",
   "execution_count": 13,
   "metadata": {},
   "outputs": [
    {
     "name": "stdout",
     "output_type": "stream",
     "text": [
      "<class 'numpy.ndarray'>\n"
     ]
    }
   ],
   "source": [
    "type(train_x[0].shape)\n",
    "print(type(np.array(train_x[0])))"
   ]
  },
  {
   "cell_type": "code",
   "execution_count": 14,
   "metadata": {},
   "outputs": [
    {
     "data": {
      "text/plain": [
       "13395"
      ]
     },
     "execution_count": 14,
     "metadata": {},
     "output_type": "execute_result"
    }
   ],
   "source": [
    "len(train_y)"
   ]
  },
  {
   "cell_type": "code",
   "execution_count": 15,
   "metadata": {},
   "outputs": [
    {
     "data": {
      "text/plain": [
       "(array(['0', '1', '2'], dtype='<U1'), array([4478, 4419, 4498]))"
      ]
     },
     "execution_count": 15,
     "metadata": {},
     "output_type": "execute_result"
    }
   ],
   "source": [
    "np.unique(train_y, return_counts=True)"
   ]
  },
  {
   "cell_type": "code",
   "execution_count": 16,
   "metadata": {},
   "outputs": [
    {
     "data": {
      "text/plain": [
       "(array(['0', '1', '2'], dtype='<U1'), array([496, 489, 498]))"
      ]
     },
     "execution_count": 16,
     "metadata": {},
     "output_type": "execute_result"
    }
   ],
   "source": [
    "np.unique(test_y, return_counts=True)"
   ]
  },
  {
   "cell_type": "code",
   "execution_count": 17,
   "metadata": {},
   "outputs": [],
   "source": [
    "train_x = np.asarray(train_x)\n",
    "train_y = np.asarray(train_y)\n",
    "test_x = np.asarray(test_x)\n",
    "test_y = np.asarray(test_y)"
   ]
  },
  {
   "cell_type": "code",
   "execution_count": 18,
   "metadata": {},
   "outputs": [],
   "source": [
    "train_x = train_x/255\n",
    "test_x = test_x/255"
   ]
  },
  {
   "cell_type": "code",
   "execution_count": 19,
   "metadata": {},
   "outputs": [
    {
     "data": {
      "text/plain": [
       "(13395, 50, 50, 1)"
      ]
     },
     "execution_count": 19,
     "metadata": {},
     "output_type": "execute_result"
    }
   ],
   "source": [
    "train_x.shape"
   ]
  },
  {
   "cell_type": "code",
   "execution_count": 20,
   "metadata": {},
   "outputs": [
    {
     "data": {
      "text/plain": [
       "(1483, 50, 50, 1)"
      ]
     },
     "execution_count": 20,
     "metadata": {},
     "output_type": "execute_result"
    }
   ],
   "source": [
    "test_x.shape"
   ]
  },
  {
   "cell_type": "code",
   "execution_count": 21,
   "metadata": {},
   "outputs": [],
   "source": [
    "train_y = train_y.astype(\"int32\")\n",
    "test_y = test_y.astype(\"int32\")"
   ]
  },
  {
   "cell_type": "code",
   "execution_count": 22,
   "metadata": {},
   "outputs": [],
   "source": [
    "train_y = to_categorical(train_y, 3)\n",
    "test_y = to_categorical(test_y, 3)"
   ]
  },
  {
   "cell_type": "markdown",
   "metadata": {},
   "source": [
    "# 모델 정의"
   ]
  },
  {
   "cell_type": "code",
   "execution_count": 23,
   "metadata": {},
   "outputs": [],
   "source": [
    "input_shape = (50,50,1)\n",
    "batch_size = 32\n",
    "learning_rate = 0.0001\n",
    "# 0.01로 학습했는데 학습 안됨.\n",
    "\n",
    "dropout_rate = 0.4\n",
    "num_classes=3\n",
    "num_epochs=100"
   ]
  },
  {
   "cell_type": "code",
   "execution_count": 24,
   "metadata": {},
   "outputs": [],
   "source": [
    "early_stopping = EarlyStopping(\n",
    "    monitor=\"val_loss\",\n",
    "    patience=10\n",
    ")"
   ]
  },
  {
   "cell_type": "code",
   "execution_count": 25,
   "metadata": {},
   "outputs": [],
   "source": [
    "from tensorflow.keras.models import Sequential\n",
    "\n",
    "model = Sequential()\n",
    "#inputs = layers.Input(input_shape)\n",
    "\n",
    "# Feature Extraction\n",
    "model.add(layers.Conv2D(16, (3,3), padding=\"same\", activation=\"relu\"))\n",
    "model.add(layers.Conv2D(16, (3,3), padding=\"same\", activation=\"relu\"))\n",
    "model.add(layers.MaxPool2D((2,2)))\n",
    "model.add(layers.Conv2D(32, (3,3), padding=\"same\", activation=\"relu\"))\n",
    "model.add(layers.Conv2D(32, (3,3), padding=\"same\", activation=\"relu\"))\n",
    "model.add(layers.MaxPool2D((2,2)))\n",
    "model.add(layers.Conv2D(64, (3,3), padding=\"same\", activation=\"relu\"))\n",
    "model.add(layers.Conv2D(64, (3,3), padding=\"same\", activation=\"relu\"))\n",
    "\n",
    "#Classification\n",
    "model.add(layers.Flatten())\n",
    "model.add(layers.Dense(128, activation=\"relu\"))\n",
    "model.add(layers.Dropout(dropout_rate))\n",
    "model.add(layers.Dense(num_classes, activation=\"softmax\"))\n",
    "\n",
    "#주의: binary classification에서는 output dense가 1이다 \n",
    "#net = layers.Activation(\"sigmoid\")(net)\n",
    "\n",
    "#model = tf.keras.Model(inputs=inputs, outputs=net, name=\"NN\")"
   ]
  },
  {
   "cell_type": "code",
   "execution_count": 26,
   "metadata": {},
   "outputs": [],
   "source": [
    "model.compile(\n",
    "    optimizer=tf.keras.optimizers.Adam(learning_rate),\n",
    "    loss=\"categorical_crossentropy\",\n",
    "    metrics=[\"accuracy\"]\n",
    ")"
   ]
  },
  {
   "cell_type": "code",
   "execution_count": 27,
   "metadata": {},
   "outputs": [
    {
     "name": "stdout",
     "output_type": "stream",
     "text": [
      "Train on 13395 samples, validate on 1483 samples\n",
      "Epoch 1/100\n",
      "13395/13395 [==============================] - 23s 2ms/sample - loss: 0.6090 - accuracy: 0.7146 - val_loss: 0.3840 - val_accuracy: 0.8307\n",
      "Epoch 2/100\n",
      "13395/13395 [==============================] - 22s 2ms/sample - loss: 0.3480 - accuracy: 0.8511 - val_loss: 0.2971 - val_accuracy: 0.8746\n",
      "Epoch 3/100\n",
      "13395/13395 [==============================] - 23s 2ms/sample - loss: 0.2760 - accuracy: 0.8883 - val_loss: 0.2488 - val_accuracy: 0.9063\n",
      "Epoch 4/100\n",
      "13395/13395 [==============================] - 26s 2ms/sample - loss: 0.2329 - accuracy: 0.9085 - val_loss: 0.2104 - val_accuracy: 0.9177\n",
      "Epoch 5/100\n",
      "13395/13395 [==============================] - 27s 2ms/sample - loss: 0.1965 - accuracy: 0.9245 - val_loss: 0.2247 - val_accuracy: 0.9016\n",
      "Epoch 6/100\n",
      "13395/13395 [==============================] - 24s 2ms/sample - loss: 0.1697 - accuracy: 0.9366 - val_loss: 0.1691 - val_accuracy: 0.9292\n",
      "Epoch 7/100\n",
      "13395/13395 [==============================] - 21s 2ms/sample - loss: 0.1443 - accuracy: 0.9451 - val_loss: 0.1449 - val_accuracy: 0.9467\n",
      "Epoch 8/100\n",
      "13395/13395 [==============================] - 24s 2ms/sample - loss: 0.1310 - accuracy: 0.9494 - val_loss: 0.1275 - val_accuracy: 0.9467\n",
      "Epoch 9/100\n",
      "13395/13395 [==============================] - 25s 2ms/sample - loss: 0.1168 - accuracy: 0.9578 - val_loss: 0.1098 - val_accuracy: 0.9562\n",
      "Epoch 10/100\n",
      "13395/13395 [==============================] - 24s 2ms/sample - loss: 0.1006 - accuracy: 0.9641 - val_loss: 0.1048 - val_accuracy: 0.9582\n",
      "Epoch 11/100\n",
      "13395/13395 [==============================] - 22s 2ms/sample - loss: 0.0836 - accuracy: 0.9703 - val_loss: 0.1067 - val_accuracy: 0.9548\n",
      "Epoch 12/100\n",
      "13395/13395 [==============================] - 21s 2ms/sample - loss: 0.0820 - accuracy: 0.9727 - val_loss: 0.0946 - val_accuracy: 0.9663\n",
      "Epoch 13/100\n",
      "13395/13395 [==============================] - 25s 2ms/sample - loss: 0.0669 - accuracy: 0.9769 - val_loss: 0.1143 - val_accuracy: 0.9562\n",
      "Epoch 14/100\n",
      "13395/13395 [==============================] - 19s 1ms/sample - loss: 0.0621 - accuracy: 0.9776 - val_loss: 0.0937 - val_accuracy: 0.9663\n",
      "Epoch 15/100\n",
      "13395/13395 [==============================] - 21s 2ms/sample - loss: 0.0547 - accuracy: 0.9801 - val_loss: 0.0826 - val_accuracy: 0.9737\n",
      "Epoch 16/100\n",
      "13395/13395 [==============================] - 25s 2ms/sample - loss: 0.0495 - accuracy: 0.9837 - val_loss: 0.0879 - val_accuracy: 0.9656\n",
      "Epoch 17/100\n",
      "13395/13395 [==============================] - 21s 2ms/sample - loss: 0.0466 - accuracy: 0.9838 - val_loss: 0.0685 - val_accuracy: 0.9777\n",
      "Epoch 18/100\n",
      "13395/13395 [==============================] - 29s 2ms/sample - loss: 0.0389 - accuracy: 0.9859 - val_loss: 0.0714 - val_accuracy: 0.9730\n",
      "Epoch 19/100\n",
      "13395/13395 [==============================] - 21s 2ms/sample - loss: 0.0382 - accuracy: 0.9868 - val_loss: 0.0715 - val_accuracy: 0.9717\n",
      "Epoch 20/100\n",
      "13395/13395 [==============================] - 22s 2ms/sample - loss: 0.0307 - accuracy: 0.9896 - val_loss: 0.0626 - val_accuracy: 0.9777\n",
      "Epoch 21/100\n",
      "13395/13395 [==============================] - 24s 2ms/sample - loss: 0.0280 - accuracy: 0.9897 - val_loss: 0.0575 - val_accuracy: 0.9798\n",
      "Epoch 22/100\n",
      "13395/13395 [==============================] - 23s 2ms/sample - loss: 0.0285 - accuracy: 0.9896 - val_loss: 0.0735 - val_accuracy: 0.9757\n",
      "Epoch 23/100\n",
      "13395/13395 [==============================] - 21s 2ms/sample - loss: 0.0228 - accuracy: 0.9925 - val_loss: 0.0757 - val_accuracy: 0.9777\n",
      "Epoch 24/100\n",
      "13395/13395 [==============================] - 25s 2ms/sample - loss: 0.0264 - accuracy: 0.9907 - val_loss: 0.0722 - val_accuracy: 0.9764\n",
      "Epoch 25/100\n",
      "13395/13395 [==============================] - 25s 2ms/sample - loss: 0.0253 - accuracy: 0.9907 - val_loss: 0.0697 - val_accuracy: 0.9798\n",
      "Epoch 26/100\n",
      "13395/13395 [==============================] - 21s 2ms/sample - loss: 0.0201 - accuracy: 0.9933 - val_loss: 0.0790 - val_accuracy: 0.9730\n",
      "Epoch 27/100\n",
      "13395/13395 [==============================] - 22s 2ms/sample - loss: 0.0159 - accuracy: 0.9954 - val_loss: 0.0724 - val_accuracy: 0.9777\n",
      "Epoch 28/100\n",
      "13395/13395 [==============================] - 24s 2ms/sample - loss: 0.0199 - accuracy: 0.9925 - val_loss: 0.0667 - val_accuracy: 0.9811\n",
      "Epoch 29/100\n",
      "13395/13395 [==============================] - 26s 2ms/sample - loss: 0.0158 - accuracy: 0.9942 - val_loss: 0.0589 - val_accuracy: 0.9831\n",
      "Epoch 30/100\n",
      "13395/13395 [==============================] - 23s 2ms/sample - loss: 0.0163 - accuracy: 0.9943 - val_loss: 0.0830 - val_accuracy: 0.9744\n",
      "Epoch 31/100\n",
      "13395/13395 [==============================] - 23s 2ms/sample - loss: 0.0123 - accuracy: 0.9957 - val_loss: 0.0865 - val_accuracy: 0.9757\n"
     ]
    }
   ],
   "source": [
    "hist = model.fit(\n",
    "    train_x, train_y,\n",
    "    validation_data=(test_x, test_y),\n",
    "    epochs=num_epochs,\n",
    "    batch_size=batch_size,\n",
    "    callbacks=[early_stopping]\n",
    ")"
   ]
  },
  {
   "cell_type": "markdown",
   "metadata": {},
   "source": [
    "# 학습 과정 그래프"
   ]
  },
  {
   "cell_type": "code",
   "execution_count": 28,
   "metadata": {},
   "outputs": [
    {
     "data": {
      "image/png": "[encoded data removed]",
      "text/plain": [
       "<Figure size 432x288 with 2 Axes>"
      ]
     },
     "metadata": {
      "needs_background": "light"
     },
     "output_type": "display_data"
    }
   ],
   "source": [
    "%matplotlib inline\n",
    "import matplotlib.pyplot as plt\n",
    "\n",
    "fig, loss_ax = plt.subplots()\n",
    "\n",
    "acc_ax = loss_ax.twinx()\n",
    "\n",
    "loss_ax.plot(hist.history['loss'], 'y', label='train loss')\n",
    "loss_ax.plot(hist.history['val_loss'], 'r', label='val loss')\n",
    "\n",
    "acc_ax.plot(hist.history['accuracy'], 'b', label='train acc')\n",
    "acc_ax.plot(hist.history['val_accuracy'], 'g', label='val acc')\n",
    "\n",
    "loss_ax.set_xlabel('epoch')\n",
    "loss_ax.set_ylabel('loss')\n",
    "acc_ax.set_ylabel('accuray')\n",
    "\n",
    "loss_ax.legend(loc='upper left')\n",
    "acc_ax.legend(loc='lower left')\n",
    "\n",
    "plt.show()"
   ]
  },
  {
   "cell_type": "markdown",
   "metadata": {},
   "source": [
    "# 모델 저장"
   ]
  },
  {
   "cell_type": "code",
   "execution_count": 29,
   "metadata": {},
   "outputs": [],
   "source": [
    "#model.save(\"model/\", include_optimizer=True, save_format='tf')\n",
    "model.save('model/my_model.h5')"
   ]
  },
  {
   "cell_type": "code",
   "execution_count": null,
   "metadata": {},
   "outputs": [],
   "source": []
  },
  {
   "cell_type": "code",
   "execution_count": null,
   "metadata": {},
   "outputs": [],
   "source": []
  },
  {
   "cell_type": "code",
   "execution_count": null,
   "metadata": {},
   "outputs": [],
   "source": []
  }
 ],
 "metadata": {
  "kernelspec": {
   "display_name": "tf2",
   "language": "python",
   "name": "tf2"
  },
  "language_info": {
   "codemirror_mode": {
    "name": "ipython",
    "version": 3
   },
   "file_extension": ".py",
   "mimetype": "text/x-python",
   "name": "python",
   "nbconvert_exporter": "python",
   "pygments_lexer": "ipython3",
   "version": "3.7.7"
  }
 },
 "nbformat": 4,
 "nbformat_minor": 4
}
