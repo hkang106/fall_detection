{
 "cells": [
  {
   "cell_type": "code",
   "execution_count": 1,
   "metadata": {},
   "outputs": [],
   "source": [
    "import tensorflow as tf\n",
    "from tensorflow.keras.preprocessing.image import ImageDataGenerator\n",
    "from tensorflow.keras import layers\n",
    "from tensorflow.keras.callbacks import ModelCheckpoint, EarlyStopping\n",
    "from tensorflow.keras.utils import to_categorical\n",
    "from tensorflow.keras.datasets import mnist"
   ]
  },
  {
   "cell_type": "code",
   "execution_count": 2,
   "metadata": {},
   "outputs": [],
   "source": [
    "import os \n",
    "from glob import glob\n",
    "import random\n",
    "import numpy as np"
   ]
  },
  {
   "cell_type": "code",
   "execution_count": 3,
   "metadata": {},
   "outputs": [
    {
     "data": {
      "text/plain": [
       "['1', '2', '.ipynb_checkpoints', '0']"
      ]
     },
     "execution_count": 3,
     "metadata": {},
     "output_type": "execute_result"
    }
   ],
   "source": [
    "os.listdir(\"cropped_dataset/train\")"
   ]
  },
  {
   "cell_type": "code",
   "execution_count": 4,
   "metadata": {},
   "outputs": [],
   "source": [
    "train_dir = \"cropped_dataset/train\" \n",
    "test_dir = \"cropped_dataset/test\""
   ]
  },
  {
   "cell_type": "markdown",
   "metadata": {},
   "source": [
    "# fit 데이터셋 만들기"
   ]
  },
  {
   "cell_type": "code",
   "execution_count": 5,
   "metadata": {},
   "outputs": [],
   "source": [
    "train_path = glob(train_dir+\"/*/*.jpg\")\n",
    "test_path = glob(test_dir+\"/*/*.jpg\")"
   ]
  },
  {
   "cell_type": "code",
   "execution_count": 6,
   "metadata": {},
   "outputs": [
    {
     "name": "stdout",
     "output_type": "stream",
     "text": [
      "cropped_dataset/train/1/aug_3_0_4612.jpg\n",
      "cropped_dataset/test/0/aug_1_2_0_3803.jpg\n"
     ]
    }
   ],
   "source": [
    "\n",
    "random.seed(0)\n",
    "random.shuffle(train_path)\n",
    "random.shuffle(test_path)\n",
    "print(train_path[0])\n",
    "print(test_path[0])"
   ]
  },
  {
   "cell_type": "code",
   "execution_count": 7,
   "metadata": {},
   "outputs": [],
   "source": [
    "def get_label(filepath):\n",
    "    return filepath.split(\"/\")[-2]"
   ]
  },
  {
   "cell_type": "code",
   "execution_count": 8,
   "metadata": {},
   "outputs": [],
   "source": [
    "train_x = []\n",
    "for file in train_path:\n",
    "    gfile = tf.io.read_file(file)\n",
    "    image = tf.io.decode_image(gfile)\n",
    "    image = tf.image.resize(image, [50, 50])\n",
    "    image = tf.image.rgb_to_grayscale(image)\n",
    "    train_x.append(np.asarray(image))"
   ]
  },
  {
   "cell_type": "code",
   "execution_count": 9,
   "metadata": {},
   "outputs": [],
   "source": [
    "train_y = [get_label(file) for file in train_path]"
   ]
  },
  {
   "cell_type": "code",
   "execution_count": 10,
   "metadata": {},
   "outputs": [],
   "source": [
    "test_x = []\n",
    "for file in test_path:\n",
    "    gfile = tf.io.read_file(file)\n",
    "    image = tf.io.decode_image(gfile)\n",
    "    image = tf.image.resize(image, [50, 50])\n",
    "    image = tf.image.rgb_to_grayscale(image)\n",
    "    test_x.append(np.asarray(image))"
   ]
  },
  {
   "cell_type": "code",
   "execution_count": 11,
   "metadata": {},
   "outputs": [],
   "source": [
    "test_y = [get_label(file) for file in test_path]"
   ]
  },
  {
   "cell_type": "code",
   "execution_count": 12,
   "metadata": {},
   "outputs": [
    {
     "data": {
      "text/plain": [
       "(50, 50, 1)"
      ]
     },
     "execution_count": 12,
     "metadata": {},
     "output_type": "execute_result"
    }
   ],
   "source": [
    "train_x[10].shape"
   ]
  },
  {
   "cell_type": "code",
   "execution_count": 13,
   "metadata": {},
   "outputs": [
    {
     "name": "stdout",
     "output_type": "stream",
     "text": [
      "<class 'numpy.ndarray'>\n"
     ]
    }
   ],
   "source": [
    "type(train_x[0].shape)\n",
    "print(type(np.array(train_x[0])))"
   ]
  },
  {
   "cell_type": "code",
   "execution_count": 14,
   "metadata": {},
   "outputs": [
    {
     "data": {
      "text/plain": [
       "13395"
      ]
     },
     "execution_count": 14,
     "metadata": {},
     "output_type": "execute_result"
    }
   ],
   "source": [
    "len(train_y)"
   ]
  },
  {
   "cell_type": "code",
   "execution_count": 15,
   "metadata": {},
   "outputs": [
    {
     "data": {
      "text/plain": [
       "(array(['0', '1', '2'], dtype='<U1'), array([4478, 4419, 4498]))"
      ]
     },
     "execution_count": 15,
     "metadata": {},
     "output_type": "execute_result"
    }
   ],
   "source": [
    "np.unique(train_y, return_counts=True)"
   ]
  },
  {
   "cell_type": "code",
   "execution_count": 16,
   "metadata": {},
   "outputs": [
    {
     "data": {
      "text/plain": [
       "(array(['0', '1', '2'], dtype='<U1'), array([496, 489, 498]))"
      ]
     },
     "execution_count": 16,
     "metadata": {},
     "output_type": "execute_result"
    }
   ],
   "source": [
    "np.unique(test_y, return_counts=True)"
   ]
  },
  {
   "cell_type": "code",
   "execution_count": 17,
   "metadata": {},
   "outputs": [],
   "source": [
    "train_x = np.asarray(train_x)\n",
    "train_y = np.asarray(train_y)\n",
    "test_x = np.asarray(test_x)\n",
    "test_y = np.asarray(test_y)"
   ]
  },
  {
   "cell_type": "code",
   "execution_count": 18,
   "metadata": {},
   "outputs": [],
   "source": [
    "train_x = train_x/255\n",
    "test_x = test_x/255"
   ]
  },
  {
   "cell_type": "code",
   "execution_count": 19,
   "metadata": {},
   "outputs": [
    {
     "data": {
      "text/plain": [
       "(13395, 50, 50, 1)"
      ]
     },
     "execution_count": 19,
     "metadata": {},
     "output_type": "execute_result"
    }
   ],
   "source": [
    "train_x.shape"
   ]
  },
  {
   "cell_type": "code",
   "execution_count": 20,
   "metadata": {},
   "outputs": [
    {
     "data": {
      "text/plain": [
       "(1483, 50, 50, 1)"
      ]
     },
     "execution_count": 20,
     "metadata": {},
     "output_type": "execute_result"
    }
   ],
   "source": [
    "test_x.shape"
   ]
  },
  {
   "cell_type": "code",
   "execution_count": 21,
   "metadata": {},
   "outputs": [],
   "source": [
    "train_y = train_y.astype(\"int32\")\n",
    "test_y = test_y.astype(\"int32\")"
   ]
  },
  {
   "cell_type": "code",
   "execution_count": 22,
   "metadata": {},
   "outputs": [],
   "source": [
    "train_y = to_categorical(train_y, 3)\n",
    "test_y = to_categorical(test_y, 3)"
   ]
  },
  {
   "cell_type": "markdown",
   "metadata": {},
   "source": [
    "# 모델 정의"
   ]
  },
  {
   "cell_type": "code",
   "execution_count": 23,
   "metadata": {},
   "outputs": [],
   "source": [
    "input_shape = (50,50,1)\n",
    "batch_size = 32\n",
    "learning_rate = 0.0001\n",
    "# 0.01로 학습했는데 학습 안됨.\n",
    "\n",
    "dropout_rate = 0.4\n",
    "num_classes=3\n",
    "num_epochs=30"
   ]
  },
  {
   "cell_type": "code",
   "execution_count": 24,
   "metadata": {},
   "outputs": [],
   "source": [
    "early_stopping = EarlyStopping(\n",
    "    monitor=\"val_loss\",\n",
    "    patience=10\n",
    ")"
   ]
  },
  {
   "cell_type": "code",
   "execution_count": 25,
   "metadata": {},
   "outputs": [],
   "source": [
    "from tensorflow.keras.models import Sequential\n",
    "\n",
    "model = Sequential()\n",
    "#inputs = layers.Input(input_shape)\n",
    "\n",
    "# Feature Extraction\n",
    "model.add(tf.keras.Input(shape=input_shape)) #Input 생략가능\n",
    "model.add(layers.Conv2D(16, (3,3), padding=\"same\", activation=\"relu\"))\n",
    "model.add(layers.Conv2D(16, (3,3), padding=\"same\", activation=\"relu\"))\n",
    "model.add(layers.MaxPool2D((2,2)))\n",
    "model.add(layers.Conv2D(32, (3,3), padding=\"same\", activation=\"relu\"))\n",
    "model.add(layers.Conv2D(32, (3,3), padding=\"same\", activation=\"relu\"))\n",
    "model.add(layers.MaxPool2D((2,2)))\n",
    "model.add(layers.Conv2D(64, (3,3), padding=\"same\", activation=\"relu\"))\n",
    "model.add(layers.Conv2D(64, (3,3), padding=\"same\", activation=\"relu\"))\n",
    "\n",
    "#Classification\n",
    "model.add(layers.Flatten())\n",
    "model.add(layers.Dense(128, activation=\"relu\"))\n",
    "model.add(layers.Dropout(dropout_rate))\n",
    "model.add(layers.Dense(num_classes, activation=\"softmax\"))\n",
    "\n",
    "#주의: binary classification에서는 output dense가 1이다 \n",
    "#net = layers.Activation(\"sigmoid\")(net)\n",
    "\n",
    "#model = tf.keras.Model(inputs=inputs, outputs=net, name=\"NN\")"
   ]
  },
  {
   "cell_type": "code",
   "execution_count": 26,
   "metadata": {},
   "outputs": [],
   "source": [
    "model.compile(\n",
    "    optimizer=tf.keras.optimizers.Adam(learning_rate),\n",
    "    loss=\"categorical_crossentropy\",\n",
    "    metrics=[\"accuracy\"]\n",
    ")"
   ]
  },
  {
   "cell_type": "code",
   "execution_count": 27,
   "metadata": {},
   "outputs": [
    {
     "name": "stdout",
     "output_type": "stream",
     "text": [
      "Train on 13395 samples, validate on 1483 samples\n",
      "Epoch 1/30\n",
      "13395/13395 [==============================] - 23s 2ms/sample - loss: 0.6120 - accuracy: 0.7182 - val_loss: 0.3628 - val_accuracy: 0.8490\n",
      "Epoch 2/30\n",
      "13395/13395 [==============================] - 16s 1ms/sample - loss: 0.3421 - accuracy: 0.8558 - val_loss: 0.2904 - val_accuracy: 0.8874\n",
      "Epoch 3/30\n",
      "13395/13395 [==============================] - 24s 2ms/sample - loss: 0.2793 - accuracy: 0.8883 - val_loss: 0.2846 - val_accuracy: 0.8759\n",
      "Epoch 4/30\n",
      "13395/13395 [==============================] - 22s 2ms/sample - loss: 0.2364 - accuracy: 0.9094 - val_loss: 0.2283 - val_accuracy: 0.9083\n",
      "Epoch 5/30\n",
      "13395/13395 [==============================] - 25s 2ms/sample - loss: 0.2060 - accuracy: 0.9211 - val_loss: 0.1912 - val_accuracy: 0.9265\n",
      "Epoch 6/30\n",
      "13395/13395 [==============================] - 24s 2ms/sample - loss: 0.1757 - accuracy: 0.9342 - val_loss: 0.1762 - val_accuracy: 0.9285\n",
      "Epoch 7/30\n",
      "13395/13395 [==============================] - 26s 2ms/sample - loss: 0.1513 - accuracy: 0.9451 - val_loss: 0.1674 - val_accuracy: 0.9326\n",
      "Epoch 8/30\n",
      "13395/13395 [==============================] - 24s 2ms/sample - loss: 0.1331 - accuracy: 0.9494 - val_loss: 0.1575 - val_accuracy: 0.9393\n",
      "Epoch 9/30\n",
      "13395/13395 [==============================] - 27s 2ms/sample - loss: 0.1174 - accuracy: 0.9554 - val_loss: 0.1425 - val_accuracy: 0.9447\n",
      "Epoch 10/30\n",
      "13395/13395 [==============================] - 27s 2ms/sample - loss: 0.1013 - accuracy: 0.9627 - val_loss: 0.1204 - val_accuracy: 0.9616\n",
      "Epoch 11/30\n",
      "13395/13395 [==============================] - 31s 2ms/sample - loss: 0.0963 - accuracy: 0.9645 - val_loss: 0.1138 - val_accuracy: 0.9622\n",
      "Epoch 12/30\n",
      "13395/13395 [==============================] - 34s 3ms/sample - loss: 0.0825 - accuracy: 0.9713 - val_loss: 0.1088 - val_accuracy: 0.9656\n",
      "Epoch 13/30\n",
      "13395/13395 [==============================] - 33s 2ms/sample - loss: 0.0740 - accuracy: 0.9727 - val_loss: 0.1127 - val_accuracy: 0.9616\n",
      "Epoch 14/30\n",
      "13395/13395 [==============================] - 30s 2ms/sample - loss: 0.0697 - accuracy: 0.9751 - val_loss: 0.0936 - val_accuracy: 0.9663\n",
      "Epoch 15/30\n",
      "13395/13395 [==============================] - 33s 2ms/sample - loss: 0.0594 - accuracy: 0.9789 - val_loss: 0.1001 - val_accuracy: 0.9663\n",
      "Epoch 16/30\n",
      "13395/13395 [==============================] - 31s 2ms/sample - loss: 0.0537 - accuracy: 0.9810 - val_loss: 0.1032 - val_accuracy: 0.9656\n",
      "Epoch 17/30\n",
      "13395/13395 [==============================] - 32s 2ms/sample - loss: 0.0492 - accuracy: 0.9842 - val_loss: 0.1073 - val_accuracy: 0.9690\n",
      "Epoch 18/30\n",
      "13395/13395 [==============================] - 34s 3ms/sample - loss: 0.0474 - accuracy: 0.9836 - val_loss: 0.0946 - val_accuracy: 0.9724\n",
      "Epoch 19/30\n",
      "13395/13395 [==============================] - 34s 3ms/sample - loss: 0.0405 - accuracy: 0.9854 - val_loss: 0.0919 - val_accuracy: 0.9730\n",
      "Epoch 20/30\n",
      "13395/13395 [==============================] - 35s 3ms/sample - loss: 0.0345 - accuracy: 0.9870 - val_loss: 0.0775 - val_accuracy: 0.9751\n",
      "Epoch 21/30\n",
      "13395/13395 [==============================] - 34s 3ms/sample - loss: 0.0387 - accuracy: 0.9868 - val_loss: 0.1250 - val_accuracy: 0.9656\n",
      "Epoch 22/30\n",
      "13395/13395 [==============================] - 33s 2ms/sample - loss: 0.0309 - accuracy: 0.9886 - val_loss: 0.1010 - val_accuracy: 0.9724\n",
      "Epoch 23/30\n",
      "13395/13395 [==============================] - 33s 2ms/sample - loss: 0.0271 - accuracy: 0.9906 - val_loss: 0.0924 - val_accuracy: 0.9764\n",
      "Epoch 24/30\n",
      "13395/13395 [==============================] - 36s 3ms/sample - loss: 0.0241 - accuracy: 0.9919 - val_loss: 0.0916 - val_accuracy: 0.9717\n",
      "Epoch 25/30\n",
      "13395/13395 [==============================] - 31s 2ms/sample - loss: 0.0280 - accuracy: 0.9895 - val_loss: 0.1004 - val_accuracy: 0.9730\n",
      "Epoch 26/30\n",
      "13395/13395 [==============================] - 33s 2ms/sample - loss: 0.0258 - accuracy: 0.9912 - val_loss: 0.0970 - val_accuracy: 0.9676\n",
      "Epoch 27/30\n",
      "13395/13395 [==============================] - 33s 2ms/sample - loss: 0.0254 - accuracy: 0.9909 - val_loss: 0.0984 - val_accuracy: 0.9710\n",
      "Epoch 28/30\n",
      "13395/13395 [==============================] - 33s 2ms/sample - loss: 0.0181 - accuracy: 0.9939 - val_loss: 0.0902 - val_accuracy: 0.9798\n",
      "Epoch 29/30\n",
      "13395/13395 [==============================] - 35s 3ms/sample - loss: 0.0200 - accuracy: 0.9925 - val_loss: 0.1007 - val_accuracy: 0.9771\n",
      "Epoch 30/30\n",
      "13395/13395 [==============================] - 36s 3ms/sample - loss: 0.0168 - accuracy: 0.9941 - val_loss: 0.1091 - val_accuracy: 0.9724\n"
     ]
    }
   ],
   "source": [
    "hist = model.fit(\n",
    "    train_x, train_y,\n",
    "    validation_data=(test_x, test_y),\n",
    "    epochs=num_epochs,\n",
    "    batch_size=batch_size,\n",
    "    callbacks=[early_stopping]\n",
    ")"
   ]
  },
  {
   "cell_type": "markdown",
   "metadata": {},
   "source": [
    "# 학습 과정 그래프"
   ]
  },
  {
   "cell_type": "code",
   "execution_count": 28,
   "metadata": {},
   "outputs": [
    {
     "data": {
      "image/png": "[encoded data removed]",
      "text/plain": [
       "<Figure size 432x288 with 2 Axes>"
      ]
     },
     "metadata": {
      "needs_background": "light"
     },
     "output_type": "display_data"
    }
   ],
   "source": [
    "%matplotlib inline\n",
    "import matplotlib.pyplot as plt\n",
    "\n",
    "fig, loss_ax = plt.subplots()\n",
    "\n",
    "acc_ax = loss_ax.twinx()\n",
    "\n",
    "loss_ax.plot(hist.history['loss'], 'y', label='train loss')\n",
    "loss_ax.plot(hist.history['val_loss'], 'r', label='val loss')\n",
    "\n",
    "acc_ax.plot(hist.history['accuracy'], 'b', label='train acc')\n",
    "acc_ax.plot(hist.history['val_accuracy'], 'g', label='val acc')\n",
    "\n",
    "loss_ax.set_xlabel('epoch')\n",
    "loss_ax.set_ylabel('loss')\n",
    "acc_ax.set_ylabel('accuray')\n",
    "\n",
    "loss_ax.legend(loc='upper left')\n",
    "acc_ax.legend(loc='lower left')\n",
    "\n",
    "plt.show()"
   ]
  },
  {
   "cell_type": "markdown",
   "metadata": {},
   "source": [
    "# 모델 저장"
   ]
  },
  {
   "cell_type": "code",
   "execution_count": 29,
   "metadata": {},
   "outputs": [],
   "source": [
    "#model.save(\"model/\", include_optimizer=True, save_format='tf')\n",
    "model.save('model/basic-cnn-sequential.h5')"
   ]
  }
 ],
 "metadata": {
  "kernelspec": {
   "display_name": "tf2",
   "language": "python",
   "name": "tf2"
  },
  "language_info": {
   "codemirror_mode": {
    "name": "ipython",
    "version": 3
   },
   "file_extension": ".py",
   "mimetype": "text/x-python",
   "name": "python",
   "nbconvert_exporter": "python",
   "pygments_lexer": "ipython3",
   "version": "3.7.7"
  }
 },
 "nbformat": 4,
 "nbformat_minor": 4
}
