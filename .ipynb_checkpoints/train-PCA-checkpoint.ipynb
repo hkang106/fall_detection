{
 "cells": [
  {
   "cell_type": "code",
   "execution_count": 1,
   "metadata": {},
   "outputs": [],
   "source": [
    "import tensorflow as tf\n",
    "from tensorflow.keras.preprocessing.image import ImageDataGenerator\n",
    "from tensorflow.keras import layers\n",
    "from tensorflow.keras.callbacks import ModelCheckpoint, EarlyStopping\n",
    "from tensorflow.keras.utils import to_categorical\n",
    "from tensorflow.keras.datasets import mnist"
   ]
  },
  {
   "cell_type": "code",
   "execution_count": 2,
   "metadata": {},
   "outputs": [],
   "source": [
    "import os \n",
    "from glob import glob\n",
    "import random\n",
    "import numpy as np"
   ]
  },
  {
   "cell_type": "code",
   "execution_count": 3,
   "metadata": {},
   "outputs": [
    {
     "data": {
      "text/plain": [
       "['1', '2', '.ipynb_checkpoints', '0']"
      ]
     },
     "execution_count": 3,
     "metadata": {},
     "output_type": "execute_result"
    }
   ],
   "source": [
    "os.listdir(\"cropped_dataset/train\")"
   ]
  },
  {
   "cell_type": "code",
   "execution_count": 4,
   "metadata": {},
   "outputs": [],
   "source": [
    "train_dir = \"cropped_dataset/train\" \n",
    "test_dir = \"cropped_dataset/test\""
   ]
  },
  {
   "cell_type": "markdown",
   "metadata": {},
   "source": [
    "# fit 데이터셋 만들기"
   ]
  },
  {
   "cell_type": "code",
   "execution_count": 5,
   "metadata": {},
   "outputs": [],
   "source": [
    "train_path = glob(train_dir+\"/*/*.jpg\")\n",
    "test_path = glob(test_dir+\"/*/*.jpg\")"
   ]
  },
  {
   "cell_type": "code",
   "execution_count": 6,
   "metadata": {},
   "outputs": [
    {
     "name": "stdout",
     "output_type": "stream",
     "text": [
      "cropped_dataset/train/1/aug_3_0_4612.jpg\n",
      "cropped_dataset/test/0/aug_1_2_0_3803.jpg\n"
     ]
    }
   ],
   "source": [
    "\n",
    "random.seed(0)\n",
    "random.shuffle(train_path)\n",
    "random.shuffle(test_path)\n",
    "print(train_path[0])\n",
    "print(test_path[0])"
   ]
  },
  {
   "cell_type": "code",
   "execution_count": 7,
   "metadata": {},
   "outputs": [],
   "source": [
    "def get_label(filepath):\n",
    "    return filepath.split(\"/\")[-2]"
   ]
  },
  {
   "cell_type": "code",
   "execution_count": 8,
   "metadata": {},
   "outputs": [],
   "source": [
    "train_x = []\n",
    "for file in train_path:\n",
    "    gfile = tf.io.read_file(file)\n",
    "    image = tf.io.decode_image(gfile)\n",
    "    image = tf.image.resize(image, [50, 50])\n",
    "    image = tf.image.rgb_to_grayscale(image)\n",
    "    train_x.append(np.asarray(image))"
   ]
  },
  {
   "cell_type": "code",
   "execution_count": 9,
   "metadata": {},
   "outputs": [],
   "source": [
    "train_y = [get_label(file) for file in train_path]"
   ]
  },
  {
   "cell_type": "code",
   "execution_count": 10,
   "metadata": {},
   "outputs": [],
   "source": [
    "test_x = []\n",
    "for file in test_path:\n",
    "    gfile = tf.io.read_file(file)\n",
    "    image = tf.io.decode_image(gfile)\n",
    "    image = tf.image.resize(image, [50, 50])\n",
    "    image = tf.image.rgb_to_grayscale(image)\n",
    "    test_x.append(np.asarray(image))"
   ]
  },
  {
   "cell_type": "code",
   "execution_count": 11,
   "metadata": {},
   "outputs": [],
   "source": [
    "test_y = [get_label(file) for file in test_path]"
   ]
  },
  {
   "cell_type": "code",
   "execution_count": 12,
   "metadata": {},
   "outputs": [
    {
     "data": {
      "text/plain": [
       "(50, 50, 1)"
      ]
     },
     "execution_count": 12,
     "metadata": {},
     "output_type": "execute_result"
    }
   ],
   "source": [
    "train_x[10].shape"
   ]
  },
  {
   "cell_type": "code",
   "execution_count": 13,
   "metadata": {},
   "outputs": [
    {
     "name": "stdout",
     "output_type": "stream",
     "text": [
      "<class 'numpy.ndarray'>\n"
     ]
    }
   ],
   "source": [
    "type(train_x[0].shape)\n",
    "print(type(np.array(train_x[0])))"
   ]
  },
  {
   "cell_type": "code",
   "execution_count": 14,
   "metadata": {},
   "outputs": [
    {
     "data": {
      "text/plain": [
       "13395"
      ]
     },
     "execution_count": 14,
     "metadata": {},
     "output_type": "execute_result"
    }
   ],
   "source": [
    "len(train_y)"
   ]
  },
  {
   "cell_type": "code",
   "execution_count": 15,
   "metadata": {},
   "outputs": [
    {
     "data": {
      "text/plain": [
       "(array(['0', '1', '2'], dtype='<U1'), array([4478, 4419, 4498]))"
      ]
     },
     "execution_count": 15,
     "metadata": {},
     "output_type": "execute_result"
    }
   ],
   "source": [
    "np.unique(train_y, return_counts=True)"
   ]
  },
  {
   "cell_type": "code",
   "execution_count": 16,
   "metadata": {},
   "outputs": [
    {
     "data": {
      "text/plain": [
       "(array(['0', '1', '2'], dtype='<U1'), array([496, 489, 498]))"
      ]
     },
     "execution_count": 16,
     "metadata": {},
     "output_type": "execute_result"
    }
   ],
   "source": [
    "np.unique(test_y, return_counts=True)"
   ]
  },
  {
   "cell_type": "code",
   "execution_count": 17,
   "metadata": {},
   "outputs": [],
   "source": [
    "train_x = np.asarray(train_x)\n",
    "train_y = np.asarray(train_y)\n",
    "test_x = np.asarray(test_x)\n",
    "test_y = np.asarray(test_y)"
   ]
  },
  {
   "cell_type": "code",
   "execution_count": 18,
   "metadata": {},
   "outputs": [],
   "source": [
    "train_x = train_x/255\n",
    "test_x = test_x/255"
   ]
  },
  {
   "cell_type": "code",
   "execution_count": 19,
   "metadata": {},
   "outputs": [],
   "source": [
    "train_y = to_categorical(train_y, 3)\n",
    "test_y = to_categorical(test_y, 3)"
   ]
  },
  {
   "cell_type": "markdown",
   "metadata": {},
   "source": [
    "# Feature Extraction (PCA)"
   ]
  },
  {
   "cell_type": "code",
   "execution_count": 20,
   "metadata": {},
   "outputs": [],
   "source": [
    "from sklearn.decomposition import PCA\n",
    "import pandas as pd"
   ]
  },
  {
   "cell_type": "code",
   "execution_count": 21,
   "metadata": {},
   "outputs": [],
   "source": [
    "def extract_features(file):\n",
    "    pca = PCA(n_components=1)\n",
    "    x = file.squeeze()\n",
    "    comp = pca.fit_transform(x)\n",
    "    return comp"
   ]
  },
  {
   "cell_type": "code",
   "execution_count": 22,
   "metadata": {},
   "outputs": [],
   "source": [
    "train_x_feature = [ extract_features(item) for item in train_x]"
   ]
  },
  {
   "cell_type": "code",
   "execution_count": 23,
   "metadata": {},
   "outputs": [],
   "source": [
    "test_x_feature = [extract_features(item) for item in test_x]"
   ]
  },
  {
   "cell_type": "code",
   "execution_count": 24,
   "metadata": {},
   "outputs": [],
   "source": [
    "train_x_feature = np.asarray(train_x_feature)"
   ]
  },
  {
   "cell_type": "code",
   "execution_count": 25,
   "metadata": {},
   "outputs": [],
   "source": [
    "test_x_feature = np.asarray(test_x_feature)"
   ]
  },
  {
   "cell_type": "markdown",
   "metadata": {},
   "source": [
    "# build model"
   ]
  },
  {
   "cell_type": "markdown",
   "metadata": {},
   "source": [
    "### hyperparams"
   ]
  },
  {
   "cell_type": "code",
   "execution_count": 26,
   "metadata": {},
   "outputs": [],
   "source": [
    "input_shape = (50,1)\n",
    "batch_size = 5\n",
    "learning_rate = 0.0001\n",
    "dropout_rate = 0.4\n",
    "num_classes=3\n",
    "num_epochs=30"
   ]
  },
  {
   "cell_type": "code",
   "execution_count": 27,
   "metadata": {},
   "outputs": [],
   "source": [
    "#MODEL_SAVE_FOLDER_PATH = \"./model/\"\n",
    "#if not os.path.exists(MODEL_SAVE_FOLDER_PATH):\n",
    "#    os.mkdir(MODEL_SAVE_FOLDER_PATH)\n",
    "#MODEL_PATH = MODEL_SAVE_FOLDER_PATH + \"fd-\" + \"{epoch:02d}.hdf5\""
   ]
  },
  {
   "cell_type": "code",
   "execution_count": 28,
   "metadata": {},
   "outputs": [],
   "source": [
    "#checkpoint = ModelCheckpoint(\n",
    "#    filepath=MODEL_PATH,\n",
    "#    monitor=\"val_loss\",\n",
    "#    verbose=1,\n",
    "#    save_best_only=True\n",
    "#)\n",
    "early_stopping = EarlyStopping(\n",
    "    monitor=\"val_loss\",\n",
    "    patience=10\n",
    ")"
   ]
  },
  {
   "cell_type": "markdown",
   "metadata": {},
   "source": [
    "### model structure"
   ]
  },
  {
   "cell_type": "code",
   "execution_count": 29,
   "metadata": {},
   "outputs": [],
   "source": [
    "inputs = layers.Input(input_shape)\n",
    "net = layers.Flatten()(inputs)\n",
    "\n",
    "# 1 hidden layer\n",
    "net = layers.Dense(128)(net)\n",
    "net = layers.Activation(\"relu\")(net)\n",
    "net = layers.Dropout(dropout_rate)(net)\n",
    "net = layers.Dense(num_classes)(net)\n",
    "# 2 hidden layer\n",
    "net = layers.Dense(128)(net)\n",
    "net = layers.Activation(\"relu\")(net)\n",
    "net = layers.Dropout(dropout_rate)(net)\n",
    "net = layers.Dense(num_classes)(net)\n",
    "\n",
    "#주의: binary classification에서는 output dense가 1이다 \n",
    "net = layers.Activation(\"softmax\")(net)\n",
    "#net = layers.Activation(\"sigmoid\")(net)\n",
    "\n",
    "model = tf.keras.Model(inputs=inputs, outputs=net, name=\"NN\")"
   ]
  },
  {
   "cell_type": "code",
   "execution_count": 30,
   "metadata": {},
   "outputs": [],
   "source": [
    "model.compile(\n",
    "    optimizer=tf.keras.optimizers.Adam(learning_rate),\n",
    "    loss=\"categorical_crossentropy\",\n",
    "    metrics=[\"accuracy\"]\n",
    ")"
   ]
  },
  {
   "cell_type": "code",
   "execution_count": 31,
   "metadata": {},
   "outputs": [],
   "source": [
    "train_y = train_y.astype(\"int32\")\n",
    "test_y = test_y.astype(\"int32\")"
   ]
  },
  {
   "cell_type": "code",
   "execution_count": 32,
   "metadata": {},
   "outputs": [
    {
     "data": {
      "text/plain": [
       "array([0, 0, 1], dtype=int32)"
      ]
     },
     "execution_count": 32,
     "metadata": {},
     "output_type": "execute_result"
    }
   ],
   "source": [
    "test_y[12]"
   ]
  },
  {
   "cell_type": "code",
   "execution_count": 33,
   "metadata": {},
   "outputs": [
    {
     "name": "stdout",
     "output_type": "stream",
     "text": [
      "Train on 13395 samples, validate on 1483 samples\n",
      "Epoch 1/30\n",
      "13395/13395 [==============================] - 5s 388us/sample - loss: 1.0296 - accuracy: 0.4629 - val_loss: 0.9459 - val_accuracy: 0.5523\n",
      "Epoch 2/30\n",
      "13395/13395 [==============================] - 4s 277us/sample - loss: 0.9284 - accuracy: 0.5577 - val_loss: 0.8802 - val_accuracy: 0.5941\n",
      "Epoch 3/30\n",
      "13395/13395 [==============================] - 5s 372us/sample - loss: 0.8803 - accuracy: 0.5887 - val_loss: 0.8416 - val_accuracy: 0.6231\n",
      "Epoch 4/30\n",
      "13395/13395 [==============================] - 4s 331us/sample - loss: 0.8512 - accuracy: 0.6054 - val_loss: 0.8158 - val_accuracy: 0.6291\n",
      "Epoch 5/30\n",
      "13395/13395 [==============================] - 4s 299us/sample - loss: 0.8321 - accuracy: 0.6139 - val_loss: 0.7928 - val_accuracy: 0.6446\n",
      "Epoch 6/30\n",
      "13395/13395 [==============================] - 5s 404us/sample - loss: 0.8124 - accuracy: 0.6316 - val_loss: 0.7758 - val_accuracy: 0.6541\n",
      "Epoch 7/30\n",
      "13395/13395 [==============================] - 6s 413us/sample - loss: 0.8057 - accuracy: 0.6355 - val_loss: 0.7678 - val_accuracy: 0.6575\n",
      "Epoch 8/30\n",
      "13395/13395 [==============================] - 5s 386us/sample - loss: 0.7878 - accuracy: 0.6534 - val_loss: 0.7486 - val_accuracy: 0.6655\n",
      "Epoch 9/30\n",
      "13395/13395 [==============================] - 4s 318us/sample - loss: 0.7751 - accuracy: 0.6555 - val_loss: 0.7425 - val_accuracy: 0.6770\n",
      "Epoch 10/30\n",
      "13395/13395 [==============================] - 5s 383us/sample - loss: 0.7745 - accuracy: 0.6540 - val_loss: 0.7286 - val_accuracy: 0.6837\n",
      "Epoch 11/30\n",
      "13395/13395 [==============================] - 5s 396us/sample - loss: 0.7728 - accuracy: 0.6540 - val_loss: 0.7234 - val_accuracy: 0.6918\n",
      "Epoch 12/30\n",
      "13395/13395 [==============================] - 5s 401us/sample - loss: 0.7604 - accuracy: 0.6644 - val_loss: 0.7161 - val_accuracy: 0.6912\n",
      "Epoch 13/30\n",
      "13395/13395 [==============================] - 5s 407us/sample - loss: 0.7554 - accuracy: 0.6667 - val_loss: 0.7019 - val_accuracy: 0.6905\n",
      "Epoch 14/30\n",
      "13395/13395 [==============================] - 5s 379us/sample - loss: 0.7499 - accuracy: 0.6694 - val_loss: 0.7010 - val_accuracy: 0.7013\n",
      "Epoch 15/30\n",
      "13395/13395 [==============================] - 5s 391us/sample - loss: 0.7408 - accuracy: 0.6782 - val_loss: 0.6990 - val_accuracy: 0.6979\n",
      "Epoch 16/30\n",
      "13395/13395 [==============================] - 4s 331us/sample - loss: 0.7315 - accuracy: 0.6826 - val_loss: 0.6858 - val_accuracy: 0.7020\n",
      "Epoch 17/30\n",
      "13395/13395 [==============================] - 5s 381us/sample - loss: 0.7249 - accuracy: 0.6827 - val_loss: 0.6831 - val_accuracy: 0.7053\n",
      "Epoch 18/30\n",
      "13395/13395 [==============================] - 5s 343us/sample - loss: 0.7256 - accuracy: 0.6844 - val_loss: 0.6783 - val_accuracy: 0.7087\n",
      "Epoch 19/30\n",
      "13395/13395 [==============================] - 5s 361us/sample - loss: 0.7190 - accuracy: 0.6859 - val_loss: 0.6723 - val_accuracy: 0.7100\n",
      "Epoch 20/30\n",
      "13395/13395 [==============================] - 6s 432us/sample - loss: 0.7178 - accuracy: 0.6825 - val_loss: 0.6689 - val_accuracy: 0.7148\n",
      "Epoch 21/30\n",
      "13395/13395 [==============================] - 5s 359us/sample - loss: 0.7087 - accuracy: 0.6908 - val_loss: 0.6654 - val_accuracy: 0.7154\n",
      "Epoch 22/30\n",
      "13395/13395 [==============================] - 5s 380us/sample - loss: 0.7110 - accuracy: 0.6912 - val_loss: 0.6656 - val_accuracy: 0.7107\n",
      "Epoch 23/30\n",
      "13395/13395 [==============================] - 5s 362us/sample - loss: 0.7042 - accuracy: 0.6964 - val_loss: 0.6582 - val_accuracy: 0.7127\n",
      "Epoch 24/30\n",
      "13395/13395 [==============================] - 5s 356us/sample - loss: 0.7020 - accuracy: 0.6931 - val_loss: 0.6548 - val_accuracy: 0.7208\n",
      "Epoch 25/30\n",
      "13395/13395 [==============================] - 5s 387us/sample - loss: 0.7005 - accuracy: 0.6955 - val_loss: 0.6506 - val_accuracy: 0.7175\n",
      "Epoch 26/30\n",
      "13395/13395 [==============================] - 5s 350us/sample - loss: 0.6885 - accuracy: 0.6991 - val_loss: 0.6521 - val_accuracy: 0.7161\n",
      "Epoch 27/30\n",
      "13395/13395 [==============================] - 5s 373us/sample - loss: 0.6981 - accuracy: 0.7015 - val_loss: 0.6481 - val_accuracy: 0.7242\n",
      "Epoch 28/30\n",
      "13395/13395 [==============================] - 5s 356us/sample - loss: 0.6906 - accuracy: 0.7015 - val_loss: 0.6499 - val_accuracy: 0.7222\n",
      "Epoch 29/30\n",
      "13395/13395 [==============================] - 5s 374us/sample - loss: 0.6898 - accuracy: 0.7030 - val_loss: 0.6370 - val_accuracy: 0.7256\n",
      "Epoch 30/30\n",
      "13395/13395 [==============================] - 5s 368us/sample - loss: 0.6842 - accuracy: 0.7029 - val_loss: 0.6350 - val_accuracy: 0.7269\n"
     ]
    }
   ],
   "source": [
    "hist = model.fit(\n",
    "    train_x_feature, train_y,\n",
    "    validation_data=(test_x_feature, test_y),\n",
    "    epochs=num_epochs,\n",
    "    batch_size=batch_size,\n",
    "    callbacks=[early_stopping]\n",
    ")"
   ]
  },
  {
   "cell_type": "code",
   "execution_count": 34,
   "metadata": {},
   "outputs": [
    {
     "name": "stdout",
     "output_type": "stream",
     "text": [
      "Model: \"NN\"\n",
      "_________________________________________________________________\n",
      "Layer (type)                 Output Shape              Param #   \n",
      "=================================================================\n",
      "input_1 (InputLayer)         [(None, 50, 1)]           0         \n",
      "_________________________________________________________________\n",
      "flatten (Flatten)            (None, 50)                0         \n",
      "_________________________________________________________________\n",
      "dense (Dense)                (None, 128)               6528      \n",
      "_________________________________________________________________\n",
      "activation (Activation)      (None, 128)               0         \n",
      "_________________________________________________________________\n",
      "dropout (Dropout)            (None, 128)               0         \n",
      "_________________________________________________________________\n",
      "dense_1 (Dense)              (None, 3)                 387       \n",
      "_________________________________________________________________\n",
      "dense_2 (Dense)              (None, 128)               512       \n",
      "_________________________________________________________________\n",
      "activation_1 (Activation)    (None, 128)               0         \n",
      "_________________________________________________________________\n",
      "dropout_1 (Dropout)          (None, 128)               0         \n",
      "_________________________________________________________________\n",
      "dense_3 (Dense)              (None, 3)                 387       \n",
      "_________________________________________________________________\n",
      "activation_2 (Activation)    (None, 3)                 0         \n",
      "=================================================================\n",
      "Total params: 7,814\n",
      "Trainable params: 7,814\n",
      "Non-trainable params: 0\n",
      "_________________________________________________________________\n"
     ]
    }
   ],
   "source": [
    "model.summary()"
   ]
  },
  {
   "cell_type": "code",
   "execution_count": 35,
   "metadata": {},
   "outputs": [
    {
     "data": {
      "image/png": "[encoded data removed]",
      "text/plain": [
       "<Figure size 432x288 with 2 Axes>"
      ]
     },
     "metadata": {
      "needs_background": "light"
     },
     "output_type": "display_data"
    }
   ],
   "source": [
    "%matplotlib inline\n",
    "import matplotlib.pyplot as plt\n",
    "\n",
    "fig, loss_ax = plt.subplots()\n",
    "\n",
    "acc_ax = loss_ax.twinx()\n",
    "\n",
    "loss_ax.plot(hist.history['loss'], 'y', label='train loss')\n",
    "loss_ax.plot(hist.history['val_loss'], 'r', label='val loss')\n",
    "\n",
    "acc_ax.plot(hist.history['accuracy'], 'b', label='train acc')\n",
    "acc_ax.plot(hist.history['val_accuracy'], 'g', label='val acc')\n",
    "\n",
    "loss_ax.set_xlabel('epoch')\n",
    "loss_ax.set_ylabel('loss')\n",
    "acc_ax.set_ylabel('accuray')\n",
    "\n",
    "loss_ax.legend(loc='upper left')\n",
    "acc_ax.legend(loc='lower left')\n",
    "\n",
    "plt.show()"
   ]
  },
  {
   "cell_type": "code",
   "execution_count": null,
   "metadata": {},
   "outputs": [],
   "source": []
  },
  {
   "cell_type": "code",
   "execution_count": null,
   "metadata": {},
   "outputs": [],
   "source": []
  }
 ],
 "metadata": {
  "kernelspec": {
   "display_name": "tf2",
   "language": "python",
   "name": "tf2"
  },
  "language_info": {
   "codemirror_mode": {
    "name": "ipython",
    "version": 3
   },
   "file_extension": ".py",
   "mimetype": "text/x-python",
   "name": "python",
   "nbconvert_exporter": "python",
   "pygments_lexer": "ipython3",
   "version": "3.7.7"
  }
 },
 "nbformat": 4,
 "nbformat_minor": 4
}
