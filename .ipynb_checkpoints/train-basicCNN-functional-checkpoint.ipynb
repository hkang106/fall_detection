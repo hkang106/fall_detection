{
 "cells": [
  {
   "cell_type": "code",
   "execution_count": 1,
   "metadata": {},
   "outputs": [],
   "source": [
    "import tensorflow as tf\n",
    "from tensorflow.keras.preprocessing.image import ImageDataGenerator\n",
    "from tensorflow.keras import layers\n",
    "from tensorflow.keras.callbacks import ModelCheckpoint, EarlyStopping\n",
    "from tensorflow.keras.utils import to_categorical\n",
    "from tensorflow.keras.datasets import mnist"
   ]
  },
  {
   "cell_type": "code",
   "execution_count": 2,
   "metadata": {},
   "outputs": [],
   "source": [
    "import os \n",
    "from glob import glob\n",
    "import random\n",
    "import numpy as np"
   ]
  },
  {
   "cell_type": "code",
   "execution_count": 3,
   "metadata": {},
   "outputs": [
    {
     "data": {
      "text/plain": [
       "['1', '2', '0']"
      ]
     },
     "execution_count": 3,
     "metadata": {},
     "output_type": "execute_result"
    }
   ],
   "source": [
    "os.listdir(\"dataset/200622_dataset_3labels/train\")"
   ]
  },
  {
   "cell_type": "code",
   "execution_count": 4,
   "metadata": {},
   "outputs": [],
   "source": [
    "train_dir = \"dataset/200622_dataset_3labels/train\" \n",
    "test_dir = \"dataset/200622_dataset_3labels/test\""
   ]
  },
  {
   "cell_type": "markdown",
   "metadata": {},
   "source": [
    "# fit 데이터셋 만들기"
   ]
  },
  {
   "cell_type": "code",
   "execution_count": 5,
   "metadata": {},
   "outputs": [],
   "source": [
    "train_path = glob(train_dir+\"/*/*.jpg\")\n",
    "test_path = glob(test_dir+\"/*/*.jpg\")"
   ]
  },
  {
   "cell_type": "code",
   "execution_count": 6,
   "metadata": {},
   "outputs": [
    {
     "name": "stdout",
     "output_type": "stream",
     "text": [
      "dataset/200622_dataset_3labels/train/1/aug_3_4_0_6993.jpg\n",
      "dataset/200622_dataset_3labels/test/0/new_7_wb_CAM1_01568.jpg\n"
     ]
    }
   ],
   "source": [
    "\n",
    "random.seed(0)\n",
    "random.shuffle(train_path)\n",
    "random.shuffle(test_path)\n",
    "print(train_path[0])\n",
    "print(test_path[0])"
   ]
  },
  {
   "cell_type": "code",
   "execution_count": 7,
   "metadata": {},
   "outputs": [],
   "source": [
    "def get_label(filepath):\n",
    "    return filepath.split(\"/\")[-2]"
   ]
  },
  {
   "cell_type": "code",
   "execution_count": 8,
   "metadata": {},
   "outputs": [],
   "source": [
    "train_x = []\n",
    "for file in train_path:\n",
    "    gfile = tf.io.read_file(file)\n",
    "    image = tf.io.decode_image(gfile)\n",
    "    image = tf.image.resize(image, [50, 50])\n",
    "    image = tf.image.rgb_to_grayscale(image)\n",
    "    train_x.append(np.asarray(image))"
   ]
  },
  {
   "cell_type": "code",
   "execution_count": 9,
   "metadata": {},
   "outputs": [],
   "source": [
    "train_y = [get_label(file) for file in train_path]"
   ]
  },
  {
   "cell_type": "code",
   "execution_count": 10,
   "metadata": {},
   "outputs": [],
   "source": [
    "test_x = []\n",
    "for file in test_path:\n",
    "    gfile = tf.io.read_file(file)\n",
    "    image = tf.io.decode_image(gfile)\n",
    "    image = tf.image.resize(image, [50, 50])\n",
    "    image = tf.image.rgb_to_grayscale(image)\n",
    "    test_x.append(np.asarray(image))"
   ]
  },
  {
   "cell_type": "code",
   "execution_count": 11,
   "metadata": {},
   "outputs": [],
   "source": [
    "test_y = [get_label(file) for file in test_path]"
   ]
  },
  {
   "cell_type": "code",
   "execution_count": 12,
   "metadata": {},
   "outputs": [
    {
     "data": {
      "text/plain": [
       "(50, 50, 1)"
      ]
     },
     "execution_count": 12,
     "metadata": {},
     "output_type": "execute_result"
    }
   ],
   "source": [
    "train_x[10].shape"
   ]
  },
  {
   "cell_type": "code",
   "execution_count": 13,
   "metadata": {},
   "outputs": [
    {
     "name": "stdout",
     "output_type": "stream",
     "text": [
      "<class 'numpy.ndarray'>\n"
     ]
    }
   ],
   "source": [
    "type(train_x[0].shape)\n",
    "print(type(np.array(train_x[0])))"
   ]
  },
  {
   "cell_type": "code",
   "execution_count": 14,
   "metadata": {},
   "outputs": [
    {
     "data": {
      "text/plain": [
       "48271"
      ]
     },
     "execution_count": 14,
     "metadata": {},
     "output_type": "execute_result"
    }
   ],
   "source": [
    "len(train_y)"
   ]
  },
  {
   "cell_type": "code",
   "execution_count": 15,
   "metadata": {},
   "outputs": [
    {
     "data": {
      "text/plain": [
       "(array(['0', '1', '2'], dtype='<U1'), array([16921, 12129, 19221]))"
      ]
     },
     "execution_count": 15,
     "metadata": {},
     "output_type": "execute_result"
    }
   ],
   "source": [
    "np.unique(train_y, return_counts=True)"
   ]
  },
  {
   "cell_type": "code",
   "execution_count": 16,
   "metadata": {},
   "outputs": [
    {
     "data": {
      "text/plain": [
       "(array(['0', '1', '2'], dtype='<U1'), array([3000, 2405, 3000]))"
      ]
     },
     "execution_count": 16,
     "metadata": {},
     "output_type": "execute_result"
    }
   ],
   "source": [
    "np.unique(test_y, return_counts=True)"
   ]
  },
  {
   "cell_type": "code",
   "execution_count": 17,
   "metadata": {},
   "outputs": [],
   "source": [
    "train_x = np.asarray(train_x)\n",
    "train_y = np.asarray(train_y)\n",
    "test_x = np.asarray(test_x)\n",
    "test_y = np.asarray(test_y)"
   ]
  },
  {
   "cell_type": "code",
   "execution_count": 18,
   "metadata": {},
   "outputs": [],
   "source": [
    "train_x = train_x/255\n",
    "test_x = test_x/255"
   ]
  },
  {
   "cell_type": "code",
   "execution_count": 19,
   "metadata": {},
   "outputs": [
    {
     "data": {
      "text/plain": [
       "(48271, 50, 50, 1)"
      ]
     },
     "execution_count": 19,
     "metadata": {},
     "output_type": "execute_result"
    }
   ],
   "source": [
    "train_x.shape"
   ]
  },
  {
   "cell_type": "code",
   "execution_count": 20,
   "metadata": {},
   "outputs": [
    {
     "data": {
      "text/plain": [
       "(8405, 50, 50, 1)"
      ]
     },
     "execution_count": 20,
     "metadata": {},
     "output_type": "execute_result"
    }
   ],
   "source": [
    "test_x.shape"
   ]
  },
  {
   "cell_type": "code",
   "execution_count": 21,
   "metadata": {},
   "outputs": [],
   "source": [
    "train_y = train_y.astype(\"int32\")\n",
    "test_y = test_y.astype(\"int32\")"
   ]
  },
  {
   "cell_type": "code",
   "execution_count": 22,
   "metadata": {},
   "outputs": [],
   "source": [
    "#train_y = to_categorical(train_y, 3)\n",
    "#test_y = to_categorical(test_y, 3)"
   ]
  },
  {
   "cell_type": "markdown",
   "metadata": {},
   "source": [
    "# 모델 정의"
   ]
  },
  {
   "cell_type": "code",
   "execution_count": 23,
   "metadata": {},
   "outputs": [],
   "source": [
    "input_shape = (50,50,1)\n",
    "batch_size = 32\n",
    "learning_rate = 0.0001\n",
    "# 0.01로 학습했는데 학습 안됨.\n",
    "dropout_rate = 0.4\n",
    "num_classes=3\n",
    "num_epochs=50"
   ]
  },
  {
   "cell_type": "code",
   "execution_count": 24,
   "metadata": {},
   "outputs": [],
   "source": [
    "early_stopping = EarlyStopping(\n",
    "    monitor=\"val_loss\",\n",
    "    patience=10\n",
    ")"
   ]
  },
  {
   "cell_type": "code",
   "execution_count": 25,
   "metadata": {},
   "outputs": [],
   "source": [
    "inputs = layers.Input(input_shape)\n",
    "#sequential model에서는 input이 필요 없다\n",
    "net = layers.Conv2D(16, (3,3), padding=\"same\", activation=\"relu\")(inputs)\n",
    "net = layers.Conv2D(16, (3,3), padding=\"same\", activation=\"relu\")(net)\n",
    "net = layers.MaxPool2D((2,2))(net)\n",
    "net = layers.Conv2D(32, (3,3), padding=\"same\", activation=\"relu\")(net)\n",
    "net = layers.Conv2D(32, (3,3), padding=\"same\", activation=\"relu\")(net)\n",
    "net = layers.MaxPool2D((2,2))(net)\n",
    "net = layers.Conv2D(64, (3,3), padding=\"same\", activation=\"relu\")(net)\n",
    "net = layers.Conv2D(64, (3,3), padding=\"same\", activation=\"relu\")(net)\n",
    "\n",
    "net = layers.Flatten()(net)\n",
    "net = layers.Dense(128)(net)\n",
    "net = layers.Activation(\"relu\")(net)\n",
    "net = layers.Dropout(dropout_rate)(net)\n",
    "net = layers.Dense(num_classes)(net)\n",
    "#주의: binary classification에서는 output dense가 1이다 \n",
    "net = layers.Activation(\"softmax\")(net)\n",
    "#net = layers.Activation(\"sigmoid\")(net)\n",
    "\n",
    "model = tf.keras.Model(inputs=inputs, outputs=net, name=\"NN\")"
   ]
  },
  {
   "cell_type": "code",
   "execution_count": 26,
   "metadata": {},
   "outputs": [],
   "source": [
    "model.compile(\n",
    "    optimizer=tf.keras.optimizers.Adam(learning_rate),\n",
    "    loss=\"sparse_categorical_crossentropy\",\n",
    "    metrics=[\"accuracy\"]\n",
    ")"
   ]
  },
  {
   "cell_type": "code",
   "execution_count": 27,
   "metadata": {},
   "outputs": [
    {
     "name": "stdout",
     "output_type": "stream",
     "text": [
      "Train on 48271 samples, validate on 8405 samples\n",
      "Epoch 1/50\n",
      "48271/48271 [==============================] - 69s 1ms/sample - loss: 0.4709 - accuracy: 0.8099 - val_loss: 0.3046 - val_accuracy: 0.8822\n",
      "Epoch 2/50\n",
      "48271/48271 [==============================] - 89s 2ms/sample - loss: 0.2700 - accuracy: 0.8994 - val_loss: 0.2230 - val_accuracy: 0.9126\n",
      "Epoch 3/50\n",
      "48271/48271 [==============================] - 81s 2ms/sample - loss: 0.2091 - accuracy: 0.9238 - val_loss: 0.1989 - val_accuracy: 0.9247\n",
      "Epoch 4/50\n",
      "48271/48271 [==============================] - 90s 2ms/sample - loss: 0.1671 - accuracy: 0.9391 - val_loss: 0.1515 - val_accuracy: 0.9413\n",
      "Epoch 5/50\n",
      "48271/48271 [==============================] - 79s 2ms/sample - loss: 0.1394 - accuracy: 0.9510 - val_loss: 0.1466 - val_accuracy: 0.9450\n",
      "Epoch 6/50\n",
      "48271/48271 [==============================] - 76s 2ms/sample - loss: 0.1183 - accuracy: 0.9576 - val_loss: 0.0970 - val_accuracy: 0.9672\n",
      "Epoch 7/50\n",
      "48271/48271 [==============================] - 101s 2ms/sample - loss: 0.0974 - accuracy: 0.9649 - val_loss: 0.1119 - val_accuracy: 0.9591\n",
      "Epoch 8/50\n",
      "48271/48271 [==============================] - 93s 2ms/sample - loss: 0.0844 - accuracy: 0.9703 - val_loss: 0.0748 - val_accuracy: 0.9751\n",
      "Epoch 9/50\n",
      "48271/48271 [==============================] - 89s 2ms/sample - loss: 0.0724 - accuracy: 0.9759 - val_loss: 0.0835 - val_accuracy: 0.9730\n",
      "Epoch 10/50\n",
      "48271/48271 [==============================] - 113s 2ms/sample - loss: 0.0611 - accuracy: 0.9793 - val_loss: 0.0683 - val_accuracy: 0.9778\n",
      "Epoch 11/50\n",
      "48271/48271 [==============================] - 83s 2ms/sample - loss: 0.0550 - accuracy: 0.9815 - val_loss: 0.0581 - val_accuracy: 0.9820\n",
      "Epoch 12/50\n",
      "48271/48271 [==============================] - 95s 2ms/sample - loss: 0.0499 - accuracy: 0.9823 - val_loss: 0.0644 - val_accuracy: 0.9812\n",
      "Epoch 13/50\n",
      "48271/48271 [==============================] - 95s 2ms/sample - loss: 0.0434 - accuracy: 0.9855 - val_loss: 0.0556 - val_accuracy: 0.9837\n",
      "Epoch 14/50\n",
      "48271/48271 [==============================] - 95s 2ms/sample - loss: 0.0384 - accuracy: 0.9868 - val_loss: 0.0741 - val_accuracy: 0.9747\n",
      "Epoch 15/50\n",
      "48271/48271 [==============================] - 89s 2ms/sample - loss: 0.0358 - accuracy: 0.9878 - val_loss: 0.0609 - val_accuracy: 0.9830\n",
      "Epoch 16/50\n",
      "48271/48271 [==============================] - 90s 2ms/sample - loss: 0.0323 - accuracy: 0.9891 - val_loss: 0.0584 - val_accuracy: 0.9813\n",
      "Epoch 17/50\n",
      "48271/48271 [==============================] - 78s 2ms/sample - loss: 0.0268 - accuracy: 0.9912 - val_loss: 0.0570 - val_accuracy: 0.9838\n",
      "Epoch 18/50\n",
      "48271/48271 [==============================] - 100s 2ms/sample - loss: 0.0260 - accuracy: 0.9911 - val_loss: 0.0408 - val_accuracy: 0.9881\n",
      "Epoch 19/50\n",
      "48271/48271 [==============================] - 76s 2ms/sample - loss: 0.0253 - accuracy: 0.9914 - val_loss: 0.0459 - val_accuracy: 0.9867\n",
      "Epoch 20/50\n",
      "48271/48271 [==============================] - 101s 2ms/sample - loss: 0.0212 - accuracy: 0.9924 - val_loss: 0.0504 - val_accuracy: 0.9877\n",
      "Epoch 21/50\n",
      "48271/48271 [==============================] - 88s 2ms/sample - loss: 0.0194 - accuracy: 0.9934 - val_loss: 0.0641 - val_accuracy: 0.9831\n",
      "Epoch 22/50\n",
      "48271/48271 [==============================] - 102s 2ms/sample - loss: 0.0180 - accuracy: 0.9939 - val_loss: 0.0469 - val_accuracy: 0.9880\n",
      "Epoch 23/50\n",
      "48271/48271 [==============================] - 98s 2ms/sample - loss: 0.0197 - accuracy: 0.9933 - val_loss: 0.0473 - val_accuracy: 0.9882\n",
      "Epoch 24/50\n",
      "48271/48271 [==============================] - 92s 2ms/sample - loss: 0.0162 - accuracy: 0.9944 - val_loss: 0.0721 - val_accuracy: 0.9789\n",
      "Epoch 25/50\n",
      "48271/48271 [==============================] - 92s 2ms/sample - loss: 0.0137 - accuracy: 0.9950 - val_loss: 0.0548 - val_accuracy: 0.9869\n",
      "Epoch 26/50\n",
      "48271/48271 [==============================] - 101s 2ms/sample - loss: 0.0147 - accuracy: 0.9947 - val_loss: 0.0469 - val_accuracy: 0.9885\n",
      "Epoch 27/50\n",
      "48271/48271 [==============================] - 93s 2ms/sample - loss: 0.0129 - accuracy: 0.9956 - val_loss: 0.0658 - val_accuracy: 0.9839\n",
      "Epoch 28/50\n",
      "48271/48271 [==============================] - 96s 2ms/sample - loss: 0.0128 - accuracy: 0.9958 - val_loss: 0.0497 - val_accuracy: 0.9886\n"
     ]
    }
   ],
   "source": [
    "hist = model.fit(\n",
    "    train_x, train_y,\n",
    "    validation_data=(test_x, test_y),\n",
    "    epochs=num_epochs,\n",
    "    batch_size=batch_size,\n",
    "    callbacks=[early_stopping] # decay option\n",
    ")"
   ]
  },
  {
   "cell_type": "markdown",
   "metadata": {},
   "source": [
    "# 학습 과정 그래프"
   ]
  },
  {
   "cell_type": "code",
   "execution_count": 28,
   "metadata": {},
   "outputs": [
    {
     "data": {
      "image/png": "[encoded data removed]",
      "text/plain": [
       "<Figure size 432x288 with 2 Axes>"
      ]
     },
     "metadata": {
      "needs_background": "light"
     },
     "output_type": "display_data"
    }
   ],
   "source": [
    "%matplotlib inline\n",
    "import matplotlib.pyplot as plt\n",
    "\n",
    "fig, loss_ax = plt.subplots()\n",
    "\n",
    "acc_ax = loss_ax.twinx()\n",
    "\n",
    "loss_ax.plot(hist.history['loss'], 'y', label='train loss')\n",
    "loss_ax.plot(hist.history['val_loss'], 'r', label='val loss')\n",
    "\n",
    "acc_ax.plot(hist.history['accuracy'], 'b', label='train acc')\n",
    "acc_ax.plot(hist.history['val_accuracy'], 'g', label='val acc')\n",
    "\n",
    "loss_ax.set_xlabel('epoch')\n",
    "loss_ax.set_ylabel('loss')\n",
    "acc_ax.set_ylabel('accuracy')\n",
    "\n",
    "loss_ax.legend(loc='upper left')\n",
    "acc_ax.legend(loc='lower left')\n",
    "\n",
    "plt.show()"
   ]
  },
  {
   "cell_type": "markdown",
   "metadata": {},
   "source": [
    "# 모델 저장"
   ]
  },
  {
   "cell_type": "code",
   "execution_count": 29,
   "metadata": {},
   "outputs": [],
   "source": [
    "#model.save(\"model/\", include_optimizer=True, save_format='tf')\n",
    "model.save('model/200622-3labels.h5')"
   ]
  },
  {
   "cell_type": "code",
   "execution_count": null,
   "metadata": {},
   "outputs": [],
   "source": []
  },
  {
   "cell_type": "code",
   "execution_count": null,
   "metadata": {},
   "outputs": [],
   "source": []
  },
  {
   "cell_type": "code",
   "execution_count": null,
   "metadata": {},
   "outputs": [],
   "source": []
  }
 ],
 "metadata": {
  "kernelspec": {
   "display_name": "tf2",
   "language": "python",
   "name": "tf2"
  },
  "language_info": {
   "codemirror_mode": {
    "name": "ipython",
    "version": 3
   },
   "file_extension": ".py",
   "mimetype": "text/x-python",
   "name": "python",
   "nbconvert_exporter": "python",
   "pygments_lexer": "ipython3",
   "version": "3.7.7"
  }
 },
 "nbformat": 4,
 "nbformat_minor": 4
}
