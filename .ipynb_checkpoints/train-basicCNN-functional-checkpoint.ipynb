{
 "cells": [
  {
   "cell_type": "code",
   "execution_count": 1,
   "metadata": {},
   "outputs": [],
   "source": [
    "import tensorflow as tf\n",
    "from tensorflow.keras.preprocessing.image import ImageDataGenerator\n",
    "from tensorflow.keras import layers\n",
    "from tensorflow.keras.callbacks import ModelCheckpoint, EarlyStopping\n",
    "from tensorflow.keras.utils import to_categorical\n",
    "from tensorflow.keras.datasets import mnist"
   ]
  },
  {
   "cell_type": "code",
   "execution_count": 2,
   "metadata": {},
   "outputs": [],
   "source": [
    "import os \n",
    "from glob import glob\n",
    "import random\n",
    "import numpy as np"
   ]
  },
  {
   "cell_type": "code",
   "execution_count": 3,
   "metadata": {},
   "outputs": [
    {
     "data": {
      "text/plain": [
       "['1', '3', '2', '4', '0']"
      ]
     },
     "execution_count": 3,
     "metadata": {},
     "output_type": "execute_result"
    }
   ],
   "source": [
    "os.listdir(\"200602_hanmi_dataset/train\")"
   ]
  },
  {
   "cell_type": "code",
   "execution_count": 4,
   "metadata": {},
   "outputs": [],
   "source": [
    "train_dir = \"200602_hanmi_dataset/train\" \n",
    "test_dir = \"200602_hanmi_dataset/test\""
   ]
  },
  {
   "cell_type": "markdown",
   "metadata": {},
   "source": [
    "# fit 데이터셋 만들기"
   ]
  },
  {
   "cell_type": "code",
   "execution_count": 5,
   "metadata": {},
   "outputs": [],
   "source": [
    "train_path = glob(train_dir+\"/*/*.jpg\")\n",
    "test_path = glob(test_dir+\"/*/*.jpg\")"
   ]
  },
  {
   "cell_type": "code",
   "execution_count": 6,
   "metadata": {},
   "outputs": [
    {
     "name": "stdout",
     "output_type": "stream",
     "text": [
      "200602_hanmi_dataset/train/3/aug_1_2_0_1166.jpg\n",
      "200602_hanmi_dataset/test/2/300510.jpg\n"
     ]
    }
   ],
   "source": [
    "\n",
    "random.seed(0)\n",
    "random.shuffle(train_path)\n",
    "random.shuffle(test_path)\n",
    "print(train_path[0])\n",
    "print(test_path[0])"
   ]
  },
  {
   "cell_type": "code",
   "execution_count": 7,
   "metadata": {},
   "outputs": [],
   "source": [
    "def get_label(filepath):\n",
    "    return filepath.split(\"/\")[-2]"
   ]
  },
  {
   "cell_type": "code",
   "execution_count": 8,
   "metadata": {},
   "outputs": [],
   "source": [
    "train_x = []\n",
    "for file in train_path:\n",
    "    gfile = tf.io.read_file(file)\n",
    "    image = tf.io.decode_image(gfile)\n",
    "    image = tf.image.resize(image, [50, 50])\n",
    "    image = tf.image.rgb_to_grayscale(image)\n",
    "    train_x.append(np.asarray(image))"
   ]
  },
  {
   "cell_type": "code",
   "execution_count": 9,
   "metadata": {},
   "outputs": [],
   "source": [
    "train_y = [get_label(file) for file in train_path]"
   ]
  },
  {
   "cell_type": "code",
   "execution_count": 10,
   "metadata": {},
   "outputs": [],
   "source": [
    "test_x = []\n",
    "for file in test_path:\n",
    "    gfile = tf.io.read_file(file)\n",
    "    image = tf.io.decode_image(gfile)\n",
    "    image = tf.image.resize(image, [50, 50])\n",
    "    image = tf.image.rgb_to_grayscale(image)\n",
    "    test_x.append(np.asarray(image))"
   ]
  },
  {
   "cell_type": "code",
   "execution_count": 11,
   "metadata": {},
   "outputs": [],
   "source": [
    "test_y = [get_label(file) for file in test_path]"
   ]
  },
  {
   "cell_type": "code",
   "execution_count": 12,
   "metadata": {},
   "outputs": [
    {
     "data": {
      "text/plain": [
       "(50, 50, 1)"
      ]
     },
     "execution_count": 12,
     "metadata": {},
     "output_type": "execute_result"
    }
   ],
   "source": [
    "train_x[10].shape"
   ]
  },
  {
   "cell_type": "code",
   "execution_count": 13,
   "metadata": {},
   "outputs": [
    {
     "name": "stdout",
     "output_type": "stream",
     "text": [
      "<class 'numpy.ndarray'>\n"
     ]
    }
   ],
   "source": [
    "type(train_x[0].shape)\n",
    "print(type(np.array(train_x[0])))"
   ]
  },
  {
   "cell_type": "code",
   "execution_count": 14,
   "metadata": {},
   "outputs": [
    {
     "data": {
      "text/plain": [
       "25325"
      ]
     },
     "execution_count": 14,
     "metadata": {},
     "output_type": "execute_result"
    }
   ],
   "source": [
    "len(train_y)"
   ]
  },
  {
   "cell_type": "code",
   "execution_count": 15,
   "metadata": {},
   "outputs": [
    {
     "data": {
      "text/plain": [
       "(array(['0', '1', '2', '3', '4'], dtype='<U1'),\n",
       " array([5252, 5273, 4296, 5252, 5252]))"
      ]
     },
     "execution_count": 15,
     "metadata": {},
     "output_type": "execute_result"
    }
   ],
   "source": [
    "np.unique(train_y, return_counts=True)"
   ]
  },
  {
   "cell_type": "code",
   "execution_count": 16,
   "metadata": {},
   "outputs": [
    {
     "data": {
      "text/plain": [
       "(array(['0', '1', '2', '3', '4'], dtype='<U1'),\n",
       " array([700, 700, 700, 700, 700]))"
      ]
     },
     "execution_count": 16,
     "metadata": {},
     "output_type": "execute_result"
    }
   ],
   "source": [
    "np.unique(test_y, return_counts=True)"
   ]
  },
  {
   "cell_type": "code",
   "execution_count": 17,
   "metadata": {},
   "outputs": [],
   "source": [
    "train_x = np.asarray(train_x)\n",
    "train_y = np.asarray(train_y)\n",
    "test_x = np.asarray(test_x)\n",
    "test_y = np.asarray(test_y)"
   ]
  },
  {
   "cell_type": "code",
   "execution_count": 18,
   "metadata": {},
   "outputs": [],
   "source": [
    "train_x = train_x/255\n",
    "test_x = test_x/255"
   ]
  },
  {
   "cell_type": "code",
   "execution_count": 19,
   "metadata": {},
   "outputs": [
    {
     "data": {
      "text/plain": [
       "(25325, 50, 50, 1)"
      ]
     },
     "execution_count": 19,
     "metadata": {},
     "output_type": "execute_result"
    }
   ],
   "source": [
    "train_x.shape"
   ]
  },
  {
   "cell_type": "code",
   "execution_count": 20,
   "metadata": {},
   "outputs": [
    {
     "data": {
      "text/plain": [
       "(3500, 50, 50, 1)"
      ]
     },
     "execution_count": 20,
     "metadata": {},
     "output_type": "execute_result"
    }
   ],
   "source": [
    "test_x.shape"
   ]
  },
  {
   "cell_type": "code",
   "execution_count": 21,
   "metadata": {},
   "outputs": [],
   "source": [
    "train_y = train_y.astype(\"int32\")\n",
    "test_y = test_y.astype(\"int32\")"
   ]
  },
  {
   "cell_type": "code",
   "execution_count": 22,
   "metadata": {},
   "outputs": [],
   "source": [
    "#train_y = to_categorical(train_y, 3)\n",
    "#test_y = to_categorical(test_y, 3)"
   ]
  },
  {
   "cell_type": "markdown",
   "metadata": {},
   "source": [
    "# 모델 정의"
   ]
  },
  {
   "cell_type": "code",
   "execution_count": 23,
   "metadata": {},
   "outputs": [],
   "source": [
    "input_shape = (50,50,1)\n",
    "batch_size = 32\n",
    "learning_rate = 0.0001\n",
    "# 0.01로 학습했는데 학습 안됨.\n",
    "dropout_rate = 0.4\n",
    "num_classes=5\n",
    "num_epochs=50"
   ]
  },
  {
   "cell_type": "code",
   "execution_count": 24,
   "metadata": {},
   "outputs": [],
   "source": [
    "early_stopping = EarlyStopping(\n",
    "    monitor=\"val_loss\",\n",
    "    patience=10\n",
    ")"
   ]
  },
  {
   "cell_type": "code",
   "execution_count": 25,
   "metadata": {},
   "outputs": [],
   "source": [
    "inputs = layers.Input(input_shape)\n",
    "#sequential model에서는 input이 필요 없다\n",
    "net = layers.Conv2D(16, (3,3), padding=\"same\", activation=\"relu\")(inputs)\n",
    "net = layers.Conv2D(16, (3,3), padding=\"same\", activation=\"relu\")(net)\n",
    "net = layers.MaxPool2D((2,2))(net)\n",
    "net = layers.Conv2D(32, (3,3), padding=\"same\", activation=\"relu\")(net)\n",
    "net = layers.Conv2D(32, (3,3), padding=\"same\", activation=\"relu\")(net)\n",
    "net = layers.MaxPool2D((2,2))(net)\n",
    "net = layers.Conv2D(64, (3,3), padding=\"same\", activation=\"relu\")(net)\n",
    "net = layers.Conv2D(64, (3,3), padding=\"same\", activation=\"relu\")(net)\n",
    "\n",
    "net = layers.Flatten()(net)\n",
    "net = layers.Dense(128)(net)\n",
    "net = layers.Activation(\"relu\")(net)\n",
    "net = layers.Dropout(dropout_rate)(net)\n",
    "net = layers.Dense(num_classes)(net)\n",
    "#주의: binary classification에서는 output dense가 1이다 \n",
    "net = layers.Activation(\"softmax\")(net)\n",
    "#net = layers.Activation(\"sigmoid\")(net)\n",
    "\n",
    "model = tf.keras.Model(inputs=inputs, outputs=net, name=\"NN\")"
   ]
  },
  {
   "cell_type": "code",
   "execution_count": 26,
   "metadata": {},
   "outputs": [],
   "source": [
    "model.compile(\n",
    "    optimizer=tf.keras.optimizers.Adam(learning_rate),\n",
    "    loss=\"sparse_categorical_crossentropy\",\n",
    "    metrics=[\"accuracy\"]\n",
    ")"
   ]
  },
  {
   "cell_type": "code",
   "execution_count": 27,
   "metadata": {},
   "outputs": [
    {
     "name": "stdout",
     "output_type": "stream",
     "text": [
      "Train on 25325 samples, validate on 3500 samples\n",
      "Epoch 1/50\n",
      "25325/25325 [==============================] - 45s 2ms/sample - loss: 0.9023 - accuracy: 0.6383 - val_loss: 0.5531 - val_accuracy: 0.7943\n",
      "Epoch 2/50\n",
      "25325/25325 [==============================] - 37s 1ms/sample - loss: 0.4777 - accuracy: 0.8246 - val_loss: 0.3546 - val_accuracy: 0.8800\n",
      "Epoch 3/50\n",
      "25325/25325 [==============================] - 40s 2ms/sample - loss: 0.3659 - accuracy: 0.8691 - val_loss: 0.2821 - val_accuracy: 0.9037\n",
      "Epoch 4/50\n",
      "25325/25325 [==============================] - 36s 1ms/sample - loss: 0.2904 - accuracy: 0.8960 - val_loss: 0.2820 - val_accuracy: 0.9020\n",
      "Epoch 5/50\n",
      "25325/25325 [==============================] - 43s 2ms/sample - loss: 0.2480 - accuracy: 0.9107 - val_loss: 0.2331 - val_accuracy: 0.9189\n",
      "Epoch 6/50\n",
      "25325/25325 [==============================] - 38s 1ms/sample - loss: 0.2175 - accuracy: 0.9233 - val_loss: 0.1955 - val_accuracy: 0.9329\n",
      "Epoch 7/50\n",
      "25325/25325 [==============================] - 40s 2ms/sample - loss: 0.1898 - accuracy: 0.9339 - val_loss: 0.1652 - val_accuracy: 0.9426\n",
      "Epoch 8/50\n",
      "25325/25325 [==============================] - 40s 2ms/sample - loss: 0.1638 - accuracy: 0.9423 - val_loss: 0.1453 - val_accuracy: 0.9523\n",
      "Epoch 9/50\n",
      "25325/25325 [==============================] - 45s 2ms/sample - loss: 0.1509 - accuracy: 0.9474 - val_loss: 0.1349 - val_accuracy: 0.9506\n",
      "Epoch 10/50\n",
      "25325/25325 [==============================] - 46s 2ms/sample - loss: 0.1358 - accuracy: 0.9522 - val_loss: 0.1372 - val_accuracy: 0.9523\n",
      "Epoch 11/50\n",
      "25325/25325 [==============================] - 39s 2ms/sample - loss: 0.1221 - accuracy: 0.9555 - val_loss: 0.1387 - val_accuracy: 0.9560\n",
      "Epoch 12/50\n",
      "25325/25325 [==============================] - 41s 2ms/sample - loss: 0.1108 - accuracy: 0.9609 - val_loss: 0.1246 - val_accuracy: 0.9594\n",
      "Epoch 13/50\n",
      "25325/25325 [==============================] - 39s 2ms/sample - loss: 0.0975 - accuracy: 0.9653 - val_loss: 0.1291 - val_accuracy: 0.9566\n",
      "Epoch 14/50\n",
      "25325/25325 [==============================] - 41s 2ms/sample - loss: 0.0978 - accuracy: 0.9644 - val_loss: 0.1121 - val_accuracy: 0.9649\n",
      "Epoch 15/50\n",
      "25325/25325 [==============================] - 37s 1ms/sample - loss: 0.0865 - accuracy: 0.9688 - val_loss: 0.1208 - val_accuracy: 0.9646\n",
      "Epoch 16/50\n",
      "25325/25325 [==============================] - 44s 2ms/sample - loss: 0.0792 - accuracy: 0.9712 - val_loss: 0.1103 - val_accuracy: 0.9643\n",
      "Epoch 17/50\n",
      "25325/25325 [==============================] - 45s 2ms/sample - loss: 0.0696 - accuracy: 0.9743 - val_loss: 0.1354 - val_accuracy: 0.9591\n",
      "Epoch 18/50\n",
      "25325/25325 [==============================] - 38s 2ms/sample - loss: 0.0690 - accuracy: 0.9743 - val_loss: 0.1111 - val_accuracy: 0.9649\n",
      "Epoch 19/50\n",
      "25325/25325 [==============================] - 42s 2ms/sample - loss: 0.0624 - accuracy: 0.9777 - val_loss: 0.1221 - val_accuracy: 0.9654\n",
      "Epoch 20/50\n",
      "25325/25325 [==============================] - 39s 2ms/sample - loss: 0.0573 - accuracy: 0.9790 - val_loss: 0.1366 - val_accuracy: 0.9594\n",
      "Epoch 21/50\n",
      "25325/25325 [==============================] - 40s 2ms/sample - loss: 0.0561 - accuracy: 0.9799 - val_loss: 0.1541 - val_accuracy: 0.9563\n",
      "Epoch 22/50\n",
      "25325/25325 [==============================] - 39s 2ms/sample - loss: 0.0536 - accuracy: 0.9795 - val_loss: 0.1222 - val_accuracy: 0.9671\n",
      "Epoch 23/50\n",
      "25325/25325 [==============================] - 39s 2ms/sample - loss: 0.0455 - accuracy: 0.9836 - val_loss: 0.1313 - val_accuracy: 0.9660\n",
      "Epoch 24/50\n",
      "25325/25325 [==============================] - 44s 2ms/sample - loss: 0.0498 - accuracy: 0.9810 - val_loss: 0.1268 - val_accuracy: 0.9654\n",
      "Epoch 25/50\n",
      "25325/25325 [==============================] - 41s 2ms/sample - loss: 0.0453 - accuracy: 0.9829 - val_loss: 0.1347 - val_accuracy: 0.9680\n",
      "Epoch 26/50\n",
      "25325/25325 [==============================] - 45s 2ms/sample - loss: 0.0398 - accuracy: 0.9850 - val_loss: 0.1295 - val_accuracy: 0.9689\n"
     ]
    }
   ],
   "source": [
    "hist = model.fit(\n",
    "    train_x, train_y,\n",
    "    validation_data=(test_x, test_y),\n",
    "    epochs=num_epochs,\n",
    "    batch_size=batch_size,\n",
    "    callbacks=[early_stopping] # decay option\n",
    ")"
   ]
  },
  {
   "cell_type": "markdown",
   "metadata": {},
   "source": [
    "# 학습 과정 그래프"
   ]
  },
  {
   "cell_type": "code",
   "execution_count": 28,
   "metadata": {},
   "outputs": [
    {
     "data": {
      "image/png": "[encoded data removed]",
      "text/plain": [
       "<Figure size 432x288 with 2 Axes>"
      ]
     },
     "metadata": {
      "needs_background": "light"
     },
     "output_type": "display_data"
    }
   ],
   "source": [
    "%matplotlib inline\n",
    "import matplotlib.pyplot as plt\n",
    "\n",
    "fig, loss_ax = plt.subplots()\n",
    "\n",
    "acc_ax = loss_ax.twinx()\n",
    "\n",
    "loss_ax.plot(hist.history['loss'], 'y', label='train loss')\n",
    "loss_ax.plot(hist.history['val_loss'], 'r', label='val loss')\n",
    "\n",
    "acc_ax.plot(hist.history['accuracy'], 'b', label='train acc')\n",
    "acc_ax.plot(hist.history['val_accuracy'], 'g', label='val acc')\n",
    "\n",
    "loss_ax.set_xlabel('epoch')\n",
    "loss_ax.set_ylabel('loss')\n",
    "acc_ax.set_ylabel('accuray')\n",
    "\n",
    "loss_ax.legend(loc='upper left')\n",
    "acc_ax.legend(loc='lower left')\n",
    "\n",
    "plt.show()"
   ]
  },
  {
   "cell_type": "markdown",
   "metadata": {},
   "source": [
    "# 모델 저장"
   ]
  },
  {
   "cell_type": "code",
   "execution_count": 29,
   "metadata": {},
   "outputs": [],
   "source": [
    "#model.save(\"model/\", include_optimizer=True, save_format='tf')\n",
    "model.save('model/basic-cnn-functional-5labels.h5')"
   ]
  },
  {
   "cell_type": "code",
   "execution_count": null,
   "metadata": {},
   "outputs": [],
   "source": []
  },
  {
   "cell_type": "code",
   "execution_count": null,
   "metadata": {},
   "outputs": [],
   "source": []
  },
  {
   "cell_type": "code",
   "execution_count": null,
   "metadata": {},
   "outputs": [],
   "source": []
  }
 ],
 "metadata": {
  "kernelspec": {
   "display_name": "tf2",
   "language": "python",
   "name": "tf2"
  },
  "language_info": {
   "codemirror_mode": {
    "name": "ipython",
    "version": 3
   },
   "file_extension": ".py",
   "mimetype": "text/x-python",
   "name": "python",
   "nbconvert_exporter": "python",
   "pygments_lexer": "ipython3",
   "version": "3.7.7"
  }
 },
 "nbformat": 4,
 "nbformat_minor": 4
}
